{
 "cells": [
  {
   "cell_type": "markdown",
   "metadata": {},
   "source": [
    "# Putting Data into FinSpace\n",
    "This notebook will demonstrate how to use the FinSpace public APIs to create a dataset of SP500 constituents and create a view of the data for use in FinSpace notebooks.\n",
    "\n",
    "## What you need to use this notebook\n",
    "- API Credentials\n",
    "- Permission group that will have access to this dataset\n",
    "\n",
    "## Outline\n",
    "- Get API Credentials from FinSpace\n",
    "- load the csv data into a Pandas dataframe\n",
    "- create dataset, add data as a changeset\n",
    "- create view from changeset"
   ]
  },
  {
   "cell_type": "code",
   "execution_count": null,
   "metadata": {},
   "outputs": [],
   "source": [
    "region_name  = 'us-east-1'"
   ]
  },
  {
   "cell_type": "code",
   "execution_count": null,
   "metadata": {},
   "outputs": [],
   "source": [
    "# necessary imports\n",
    "import pandas as pd\n",
    "from datetime import datetime"
   ]
  },
  {
   "cell_type": "code",
   "execution_count": null,
   "metadata": {},
   "outputs": [],
   "source": [
    "### ----------------------------------------------------------------\n",
    "### Get Credentials from the \"API Credentials\" in FinSpace \n",
    "### ----------------------------------------------------------------\n",
    "hab_access_key_id     = ''\n",
    "hab_secret_access_key = ''\n",
    "hab_session_token     = ''\n",
    "\n",
    "### ----------------------------------------------------------------\n",
    "### identify a permission group to use\n",
    "### ----------------------------------------------------------------\n",
    "basicPermissionGroupId = '' # Analyst"
   ]
  },
  {
   "cell_type": "markdown",
   "metadata": {},
   "source": [
    "# Python Helper Class"
   ]
  },
  {
   "cell_type": "code",
   "execution_count": null,
   "metadata": {},
   "outputs": [],
   "source": [
    "%load ../Utilities/finspace.py"
   ]
  },
  {
   "cell_type": "markdown",
   "metadata": {},
   "source": [
    "# Initialize the FinSpace Helper Class"
   ]
  },
  {
   "cell_type": "code",
   "execution_count": null,
   "metadata": {},
   "outputs": [],
   "source": [
    "hab_session = boto3.session.Session(\n",
    "    region_name           = region_name,\n",
    "    aws_access_key_id     = hab_access_key_id,\n",
    "    aws_secret_access_key = hab_secret_access_key,\n",
    "    aws_session_token     = hab_session_token\n",
    ")\n",
    "\n",
    "finspace = FinSpace(\n",
    "    boto_session = hab_session,\n",
    "    dev_overrides = {\n",
    "        \"region_name\" : region_name\n",
    "    }\n",
    ")"
   ]
  },
  {
   "cell_type": "markdown",
   "metadata": {},
   "source": [
    "## Permission Groups and Dataset Ownership"
   ]
  },
  {
   "cell_type": "code",
   "execution_count": null,
   "metadata": {},
   "outputs": [],
   "source": [
    "# Constants for the DataSet Creation\n",
    "\n",
    "# permissions that will be given on the dataset\n",
    "basicPermissions = [\n",
    "    \"ViewDatasetDetails\" \n",
    "    ,\"ReadDatasetData\" \n",
    "    ,\"AddDatasetData\" \n",
    "    ,\"CreateSnapshot\" \n",
    "    ,\"EditDatasetMetadata\"\n",
    "    ,\"ManageDatasetPermissions\"\n",
    "    ,\"DeleteDataset\"\n",
    "]\n",
    "\n",
    "basicOwnerInfo = {\n",
    "    \"phoneNumber\" : \"12125551000\",\n",
    "    \"email\"       : \"finspace_sampledata@amazon.com\",\n",
    "    \"name\"        : \"Amazon Finspace\"\n",
    "}"
   ]
  },
  {
   "cell_type": "markdown",
   "metadata": {},
   "source": [
    "# The Data\n",
    "Read in the csv data into pandas dataframe."
   ]
  },
  {
   "cell_type": "code",
   "execution_count": null,
   "metadata": {},
   "outputs": [],
   "source": [
    "sp500 = pd.read_csv(\"sp500.csv\")\n",
    "sp500"
   ]
  },
  {
   "cell_type": "markdown",
   "metadata": {},
   "source": [
    "## Describe the Dataset\n",
    "The the helper class we have a function that extracts habanero schema definition from the pandas dataframe"
   ]
  },
  {
   "cell_type": "code",
   "execution_count": null,
   "metadata": {},
   "outputs": [],
   "source": [
    "# extract schema from the dataframe\n",
    "schema      =   {\n",
    "    \"columns\": finspace.get_schema_from_pandas(sp500),\n",
    "    \"primaryKeyColumns\": [ ]  \n",
    "}\n",
    "\n",
    "schema"
   ]
  },
  {
   "cell_type": "markdown",
   "metadata": {},
   "source": [
    "## Create the Dataset"
   ]
  },
  {
   "cell_type": "code",
   "execution_count": null,
   "metadata": {},
   "outputs": [],
   "source": [
    "d = time.strftime('%Y-%m-%d %-I:%M %p %Z')  # name is unique to date and time created\n",
    "\n",
    "name        = f\"SP500 Constituents\"\n",
    "description = f\"Demonstration of using Habanero external APIs to load data into habanero, executed {d}\"\n",
    "\n",
    "print(\"creating dataset\")\n",
    "\n",
    "dataset_id = finspace.create_dataset(\n",
    "    name = name, \n",
    "    description = description, \n",
    "    permission_group_id = basicPermissionGroupId,\n",
    "    dataset_permissions = basicPermissions,\n",
    "    kind = \"TABULAR\",\n",
    "    owner_info = basicOwnerInfo,\n",
    "    schema = schema\n",
    ")\n",
    "\n",
    "print(f\"dataset_id  = {dataset_id}\")"
   ]
  },
  {
   "cell_type": "markdown",
   "metadata": {},
   "source": [
    "## Add Changeset to Dataset\n",
    "Since the CSV represents all the data, the change_type is REPLACE, the other option is APPEND."
   ]
  },
  {
   "cell_type": "code",
   "execution_count": null,
   "metadata": {},
   "outputs": [],
   "source": [
    "# create the changeset\n",
    "change_type = 'REPLACE'\n",
    "\n",
    "changeset_id = finspace.ingest_pandas(data_frame = sp500, dataset_id = dataset_id, change_type = change_type, wait_for_completion=True)\n",
    "\n",
    "print(f\"Created changeset_id = {changeset_id}\")"
   ]
  },
  {
   "cell_type": "markdown",
   "metadata": {},
   "source": [
    "### Auto-Update Views\n",
    "Auto updating views will update as new changesets arrive, there can only be one, so its always best to check if one exists before creating it."
   ]
  },
  {
   "cell_type": "code",
   "execution_count": null,
   "metadata": {},
   "outputs": [],
   "source": [
    "# does auto-update view already exist?\n",
    "existing_snapshots = finspace.list_views(dataset_id = dataset_id, max_results=100)\n",
    "\n",
    "autoupdate_snapshot_id = None\n",
    "\n",
    "for ss in existing_snapshots:\n",
    "    if ss['autoUpdate'] == True: \n",
    "        autoupdate_snapshot_id = ss['id']\n",
    "        \n",
    "print(autoupdate_snapshot_id)\n",
    "\n",
    "# Create an auto-update snapshot if one does not exist\n",
    "\n",
    "if (autoupdate_snapshot_id is None):\n",
    "    autoupdate_snapshot_id = finspace.create_auto_update_view(\n",
    "        dataset_id = dataset_id, \n",
    "        destination_type = \"GLUE_TABLE\",\n",
    "        partition_columns = [], \n",
    "        sort_columns = [], \n",
    "        wait_for_completion = True)\n",
    "else:\n",
    "    print(f\"Exists: autoupdate_snapshot_id = {autoupdate_snapshot_id}\")"
   ]
  },
  {
   "cell_type": "markdown",
   "metadata": {},
   "source": [
    "## Static View\n",
    "We will create a static view of this changeset, statisc views require a specific as-of time for creation"
   ]
  },
  {
   "cell_type": "code",
   "execution_count": null,
   "metadata": {},
   "outputs": [],
   "source": [
    "# Create as-of snapshot, use UTC time\n",
    "as_of = datetime.datetime.utcnow()\n",
    "\n",
    "asof_snapshot_id = finspace.create_as_of_view(\n",
    "    dataset_id = dataset_id, \n",
    "    as_of_date = as_of,\n",
    "    destination_type = \"GLUE_TABLE\",\n",
    "    partition_columns = [], \n",
    "    sort_columns = [], \n",
    "    wait_for_completion = True)"
   ]
  },
  {
   "cell_type": "code",
   "execution_count": null,
   "metadata": {},
   "outputs": [],
   "source": [
    "# will see two datasets\n",
    "pd.DataFrame.from_dict( finspace.describe_dataset_details(dataset_id) )"
   ]
  },
  {
   "cell_type": "code",
   "execution_count": null,
   "metadata": {},
   "outputs": [],
   "source": [
    "# Complete\n",
    "print(f\"\"\"\n",
    "dataset_id             = '{dataset_id}'\n",
    "changeset_id           = '{changeset_id}'\n",
    "asof_snapshot_id       = '{asof_snapshot_id}'\n",
    "autoupdate_snapshot_id = '{autoupdate_snapshot_id}'\"\"\")"
   ]
  },
  {
   "cell_type": "code",
   "execution_count": null,
   "metadata": {},
   "outputs": [],
   "source": [
    "import datetime\n",
    "print( f\"Last Run: {datetime.datetime.now()}\" )"
   ]
  },
  {
   "cell_type": "code",
   "execution_count": null,
   "metadata": {},
   "outputs": [],
   "source": []
  }
 ],
 "metadata": {
  "kernelspec": {
   "display_name": "Python 3",
   "language": "python",
   "name": "python3"
  },
  "language_info": {
   "codemirror_mode": {
    "name": "ipython",
    "version": 3
   },
   "file_extension": ".py",
   "mimetype": "text/x-python",
   "name": "python",
   "nbconvert_exporter": "python",
   "pygments_lexer": "ipython3",
   "version": "3.7.3"
  }
 },
 "nbformat": 4,
 "nbformat_minor": 4
}
