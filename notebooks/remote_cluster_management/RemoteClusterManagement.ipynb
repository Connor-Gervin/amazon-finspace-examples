{
 "cells": [
  {
   "cell_type": "markdown",
   "metadata": {},
   "source": [
    "# Outside FinSpace Cluster Management\n",
    "Clusters can be managed form outside of FinSpace as well as this notebook will demonstrate."
   ]
  },
  {
   "cell_type": "code",
   "execution_count": null,
   "metadata": {},
   "outputs": [],
   "source": [
    "import datetime as dt\n",
    "import pandas as pd \n",
    "import boto3\n",
    "import time\n",
    "import pprint\n",
    "\n",
    "from botocore.config import Config"
   ]
  },
  {
   "cell_type": "code",
   "execution_count": null,
   "metadata": {},
   "outputs": [],
   "source": [
    "#### ---------------------------------------------------\n",
    "#### Identify your region\n",
    "#### ---------------------------------------------------\n",
    "region_name  = 'us-east-1'\n",
    "\n",
    "### ----------------------------------------------------------------\n",
    "### Get Credentials from the \"API Credentials\" in FinSpace \n",
    "### ----------------------------------------------------------------\n",
    "hab_access_key_id     = ''\n",
    "hab_secret_access_key = ''\n",
    "hab_session_token     = ''\n"
   ]
  },
  {
   "cell_type": "markdown",
   "metadata": {},
   "source": [
    "# Python Helper\n",
    "This class wraps the service API so its easier to consume those results."
   ]
  },
  {
   "cell_type": "code",
   "execution_count": null,
   "metadata": {
    "tags": []
   },
   "outputs": [],
   "source": [
    "%load ../Utilities/finspace.py"
   ]
  },
  {
   "cell_type": "markdown",
   "metadata": {},
   "source": [
    "## Initialize the Python Helper Class\n"
   ]
  },
  {
   "cell_type": "code",
   "execution_count": null,
   "metadata": {},
   "outputs": [],
   "source": [
    "hab_session = boto3.session.Session(\n",
    "    region_name           = region_name,\n",
    "    aws_access_key_id     = hab_access_key_id,\n",
    "    aws_secret_access_key = hab_secret_access_key,\n",
    "    aws_session_token     = hab_session_token\n",
    ")\n",
    "\n",
    "finspace = FinSpace(\n",
    "    boto_session = hab_session,\n",
    "    dev_overrides = {\n",
    "        \"region_name\" : region_name \n",
    "    }\n",
    ")"
   ]
  },
  {
   "cell_type": "markdown",
   "metadata": {},
   "source": [
    "# Cluster Management\n",
    "\n",
    "functions available fro the fiunspace client:\n",
    "- list_clusters\n",
    "- create_cluster\n",
    "- update_cluster\n",
    "- terminate_cluster\n",
    "- get_cluster_connection_details"
   ]
  },
  {
   "cell_type": "code",
   "execution_count": null,
   "metadata": {},
   "outputs": [],
   "source": [
    "t = finspace.list_clusters()\n",
    "pd.DataFrame.from_dict(t)"
   ]
  },
  {
   "cell_type": "code",
   "execution_count": null,
   "metadata": {},
   "outputs": [],
   "source": [
    "# locate the running cluster and resize it\n",
    "active_clusters = finspace.list_clusters( ['RUNNING', 'UPDATING'] )\n",
    "pd.DataFrame.from_dict(active_clusters)"
   ]
  },
  {
   "cell_type": "code",
   "execution_count": null,
   "metadata": {},
   "outputs": [],
   "source": [
    "if len(active_clusters) > 0:\n",
    "    cid = active_clusters[0]['clusterId']\n",
    "\n",
    "    this_cluster = finspace.get_cluster( clusterId=cid )\n",
    "    print( pd.DataFrame.from_dict(this_cluster) )\n",
    "else:\n",
    "    print(\"no clusters running\")"
   ]
  },
  {
   "cell_type": "code",
   "execution_count": null,
   "metadata": {},
   "outputs": [],
   "source": [
    "finspace.wait_for_status( clusterId = cid, status = 'RUNNING' )"
   ]
  },
  {
   "cell_type": "code",
   "execution_count": null,
   "metadata": {},
   "outputs": [],
   "source": [
    "# to change a cluster's size, call update\n",
    "finspace.update_cluster(clusterId = cid, template = 'Medium')"
   ]
  },
  {
   "cell_type": "code",
   "execution_count": null,
   "metadata": {},
   "outputs": [],
   "source": [
    "finspace.wait_for_status( clusterId = cid, status = 'RUNNING' )"
   ]
  },
  {
   "cell_type": "code",
   "execution_count": null,
   "metadata": {},
   "outputs": [],
   "source": []
  }
 ],
 "metadata": {
  "kernelspec": {
   "display_name": "Python 3",
   "language": "python",
   "name": "python3"
  },
  "language_info": {
   "codemirror_mode": {
    "name": "ipython",
    "version": 3
   },
   "file_extension": ".py",
   "mimetype": "text/x-python",
   "name": "python",
   "nbconvert_exporter": "python",
   "pygments_lexer": "ipython3",
   "version": "3.9.2"
  }
 },
 "nbformat": 4,
 "nbformat_minor": 4
}
