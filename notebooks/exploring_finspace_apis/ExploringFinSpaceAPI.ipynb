{
 "cells": [
  {
   "cell_type": "markdown",
   "metadata": {},
   "source": [
    "# Exploring FinSpace's API\n",
    "This notebook explores the FinSpace APIs, it is assumed you are accessing outside the FinSpace environment, using temporary credentials.\n",
    "\n",
    "To run this notebook, you will need to bring:\n",
    "- API Credentials (you can get this from FinSpace: gear menu -> API Credentials)\n",
    "  - User must be in a group with the API Credentials permission\n",
    "- a dataset ID\n",
    "\n",
    "# THIS NOTEBOOK IS TO BE RUN OUTSIDE of FINSPACE\n"
   ]
  },
  {
   "cell_type": "code",
   "execution_count": null,
   "metadata": {},
   "outputs": [],
   "source": [
    "import datetime as dt\n",
    "import pandas as pd \n",
    "import boto3\n",
    "import time\n",
    "import pprint\n",
    "\n",
    "from botocore.config import Config"
   ]
  },
  {
   "cell_type": "code",
   "execution_count": null,
   "metadata": {},
   "outputs": [],
   "source": [
    "#### ---------------------------------------------------\n",
    "#### REPLACE ID WITH ONE FROM YOUR ENVIRONMENT\n",
    "#### ---------------------------------------------------\n",
    "dataset_id = ''\n",
    "\n",
    "#### ---------------------------------------------------\n",
    "#### Identify your region\n",
    "#### ---------------------------------------------------\n",
    "region_name  = 'us-east-1'\n",
    "\n",
    "### ----------------------------------------------------------------\n",
    "### Get Credentials from the \"API Credentials\" in FinSpace \n",
    "### ----------------------------------------------------------------\n",
    "hab_access_key_id     = ''\n",
    "hab_secret_access_key = ''\n",
    "hab_session_token     = ''\n"
   ]
  },
  {
   "cell_type": "markdown",
   "metadata": {},
   "source": [
    "# Python Helper Class\n",
    "This class wraps the service API so its easier to consume those results."
   ]
  },
  {
   "cell_type": "code",
   "execution_count": null,
   "metadata": {
    "tags": []
   },
   "outputs": [],
   "source": [
    " %load ../Utilities/finspace.py"
   ]
  },
  {
   "cell_type": "markdown",
   "metadata": {},
   "source": [
    "## Initialize the Python Helper Class\n"
   ]
  },
  {
   "cell_type": "code",
   "execution_count": null,
   "metadata": {},
   "outputs": [],
   "source": [
    "hab_session = boto3.session.Session(\n",
    "    region_name           = region_name,\n",
    "    aws_access_key_id     = hab_access_key_id,\n",
    "    aws_secret_access_key = hab_secret_access_key,\n",
    "    aws_session_token     = hab_session_token\n",
    ")\n",
    "\n",
    "finspace = FinSpace(\n",
    "    boto_session = hab_session,\n",
    "    dev_overrides = {\n",
    "        \"region_name\" : region_name \n",
    "    }\n",
    ")"
   ]
  },
  {
   "cell_type": "markdown",
   "metadata": {},
   "source": [
    "# Everything about a dataset\n",
    "\n",
    "## Dataset: Details\n",
    "\n",
    "This service call will return top level details about the dataset, such as its name, description and schema."
   ]
  },
  {
   "cell_type": "code",
   "execution_count": null,
   "metadata": {},
   "outputs": [],
   "source": [
    "# get the specific dataset's details\n",
    "dataset_details = finspace.describe_dataset_details(dataset_id = dataset_id)\n",
    "\n",
    "#pprint.pprint( dataset_details, indent = 2)\n",
    "pd.DataFrame.from_dict( dataset_details, 'index' )"
   ]
  },
  {
   "cell_type": "code",
   "execution_count": null,
   "metadata": {},
   "outputs": [],
   "source": [
    "print( f\"\"\"\n",
    "name        : {dataset_details['name']}\n",
    "description : {dataset_details['description']}\n",
    "kind        : {dataset_details['kind']}\n",
    "created     : {dataset_details['createTimestamp']}\n",
    "modified    : {dataset_details['modifiedTimestamp']}\n",
    "\"\"\")"
   ]
  },
  {
   "cell_type": "code",
   "execution_count": null,
   "metadata": {},
   "outputs": [],
   "source": [
    "schema = dataset_details['schemaV1']\n",
    "\n",
    "print(f\"\"\"\n",
    "Key Columns: {schema['primaryKeyColumns']}\n",
    "\"\"\")"
   ]
  },
  {
   "cell_type": "code",
   "execution_count": null,
   "metadata": {},
   "outputs": [],
   "source": [
    "pd.DataFrame.from_dict( schema['columns'] )"
   ]
  },
  {
   "cell_type": "markdown",
   "metadata": {},
   "source": [
    "## Dataset: Changesets"
   ]
  },
  {
   "cell_type": "code",
   "execution_count": null,
   "metadata": {},
   "outputs": [],
   "source": [
    "# changesets of the dataset\n",
    "changesets = finspace.list_changesets(dataset_id = dataset_id)\n",
    "achangeset = changesets[0]\n",
    "\n",
    "#pprint.pprint(changesets)\n",
    "pd.DataFrame.from_dict( changesets )"
   ]
  },
  {
   "cell_type": "markdown",
   "metadata": {},
   "source": [
    "### A Changeset"
   ]
  },
  {
   "cell_type": "code",
   "execution_count": null,
   "metadata": {},
   "outputs": [],
   "source": [
    "# one of the changesets\n",
    "pd.DataFrame.from_dict( achangeset, 'index' )"
   ]
  },
  {
   "cell_type": "markdown",
   "metadata": {},
   "source": [
    "### Contents of A Changeset"
   ]
  },
  {
   "cell_type": "code",
   "execution_count": null,
   "metadata": {},
   "outputs": [],
   "source": [
    "# get the s3 location of the changeset\n",
    "changeset_uri = achangeset['changesetURI']\n",
    "changeset_uri\n",
    "\n",
    "objs = finspace.list_objects(changeset_uri)\n",
    "pd.DataFrame.from_dict(objs)"
   ]
  },
  {
   "cell_type": "markdown",
   "metadata": {},
   "source": [
    "## Dataset: Views"
   ]
  },
  {
   "cell_type": "code",
   "execution_count": null,
   "metadata": {},
   "outputs": [],
   "source": [
    "# get views\n",
    "views = finspace.list_views(dataset_id)\n",
    "aview = views[0]\n",
    "\n",
    "#pprint.pprint(views, indent=2)\n",
    "pd.DataFrame.from_dict( views )"
   ]
  },
  {
   "cell_type": "markdown",
   "metadata": {},
   "source": [
    "### A View"
   ]
  },
  {
   "cell_type": "code",
   "execution_count": null,
   "metadata": {},
   "outputs": [],
   "source": [
    "pd.DataFrame.from_dict( aview, 'index' )"
   ]
  },
  {
   "cell_type": "markdown",
   "metadata": {},
   "source": [
    "# Permission Groups"
   ]
  },
  {
   "cell_type": "code",
   "execution_count": null,
   "metadata": {},
   "outputs": [],
   "source": [
    "# get all permission groups\n",
    "perm_group_list = finspace.list_permission_groups(maxResults = 50)\n",
    "\n",
    "#pprint.pprint(perm_group_list)\n",
    "pd.DataFrame.from_dict( perm_group_list )"
   ]
  },
  {
   "cell_type": "markdown",
   "metadata": {},
   "source": [
    "## A Permission Group"
   ]
  },
  {
   "cell_type": "code",
   "execution_count": null,
   "metadata": {},
   "outputs": [],
   "source": [
    "# A Group's permissions\n",
    "perm_group = perm_group_list[0]\n",
    "\n",
    "pd.DataFrame.from_dict( perm_group )"
   ]
  },
  {
   "cell_type": "code",
   "execution_count": null,
   "metadata": {},
   "outputs": [],
   "source": [
    "# A group's permissions\n",
    "perms = perm_group['applicationPermissions']\n",
    "\n",
    "pd.DataFrame.from_dict( perms )"
   ]
  },
  {
   "cell_type": "markdown",
   "metadata": {},
   "source": [
    "# Attribute Sets"
   ]
  },
  {
   "cell_type": "code",
   "execution_count": null,
   "metadata": {},
   "outputs": [],
   "source": [
    "att_sets = finspace.list_dataset_types()\n",
    "\n",
    "#pprint.pprint(dataset_types) \n",
    "pd.DataFrame.from_dict( att_sets )"
   ]
  },
  {
   "cell_type": "code",
   "execution_count": null,
   "metadata": {},
   "outputs": [],
   "source": [
    "att_set = finspace.describe_attribute_set( att_sets[0]['id'])\n",
    "\n",
    "# definition\n",
    "pd.DataFrame.from_dict(att_set['definition'], 'index')"
   ]
  },
  {
   "cell_type": "code",
   "execution_count": null,
   "metadata": {},
   "outputs": [],
   "source": [
    "# fields in the attribute set\n",
    "att_fields = att_set['definition']['fields']\n",
    "\n",
    "pd.DataFrame.from_dict(att_fields)"
   ]
  },
  {
   "cell_type": "code",
   "execution_count": null,
   "metadata": {},
   "outputs": [],
   "source": [
    "# a field's type\n",
    "att_field = att_fields[0]\n",
    "\n",
    "pd.DataFrame.from_dict(att_field['type'], 'index')"
   ]
  },
  {
   "cell_type": "markdown",
   "metadata": {},
   "source": [
    "# Classifications"
   ]
  },
  {
   "cell_type": "code",
   "execution_count": null,
   "metadata": {},
   "outputs": [],
   "source": [
    "cls_list = finspace.list_classifications()\n",
    "\n",
    "#pprint.pprint( cls_list )\n",
    "pd.DataFrame.from_dict( cls_list )"
   ]
  },
  {
   "cell_type": "code",
   "execution_count": null,
   "metadata": {},
   "outputs": [],
   "source": [
    "import datetime\n",
    "print( f\"Last Run: {dt.datetime.now()}\" )"
   ]
  },
  {
   "cell_type": "code",
   "execution_count": null,
   "metadata": {},
   "outputs": [],
   "source": []
  }
 ],
 "metadata": {
  "instance_type": "ml.t3.medium",
  "kernelspec": {
   "display_name": "Python 3",
   "language": "python",
   "name": "python3"
  },
  "language_info": {
   "codemirror_mode": {
    "name": "ipython",
    "version": 3
   },
   "file_extension": ".py",
   "mimetype": "text/x-python",
   "name": "python",
   "nbconvert_exporter": "python",
   "pygments_lexer": "ipython3",
   "version": "3.9.2"
  }
 },
 "nbformat": 4,
 "nbformat_minor": 4
}
