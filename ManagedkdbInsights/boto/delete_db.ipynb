{
 "cells": [
  {
   "cell_type": "markdown",
   "id": "cddb91fd-4a0a-4128-952e-590db1ad5550",
   "metadata": {},
   "source": [
    "# DELETE: Database"
   ]
  },
  {
   "cell_type": "code",
   "execution_count": 1,
   "id": "c8ce4778-2140-42ab-87ea-c2ffd1479807",
   "metadata": {},
   "outputs": [],
   "source": [
    "# database name to delete\n",
    "DATABASE_NAME=\"create_delete_db\""
   ]
  },
  {
   "cell_type": "code",
   "execution_count": 2,
   "id": "a3b86ed6-7e57-4f77-9871-772b861234b9",
   "metadata": {},
   "outputs": [],
   "source": [
    "import os\n",
    "import boto3\n",
    "import json\n",
    "import datetime\n",
    "\n",
    "from managed_kx import *\n",
    "from env2 import *\n"
   ]
  },
  {
   "cell_type": "code",
   "execution_count": 3,
   "id": "19695e39-86c1-4952-8c70-0056f2bd512c",
   "metadata": {},
   "outputs": [
    {
     "name": "stdout",
     "output_type": "stream",
     "text": [
      "Using variables ...\n"
     ]
    }
   ],
   "source": [
    "# triggers credential get\n",
    "session=None\n",
    "\n",
    "try:\n",
    "    subprocess.call([\"which\", \"ada\"])\n",
    "    os.system(f\"ada credentials update --account={ACCOUNT_ID} --provider=isengard --role=Admin --once\")\n",
    "except: \n",
    "    None\n",
    "\n",
    "if AWS_ACCESS_KEY_ID is None:\n",
    "    print(\"Using Defaults ...\")\n",
    "    # create AWS sessio: using access variables\n",
    "    session = boto3.Session()\n",
    "else:\n",
    "    print(\"Using variables ...\")\n",
    "    session = boto3.Session(\n",
    "        aws_access_key_id=AWS_ACCESS_KEY_ID,\n",
    "        aws_secret_access_key=AWS_SECRET_ACCESS_KEY,\n",
    "        aws_session_token=AWS_SESSION_TOKEN\n",
    "    )\n",
    "\n",
    "# create finspace client\n",
    "client = session.client(service_name='finspace', endpoint_url=ENDPOINT_URL)"
   ]
  },
  {
   "cell_type": "code",
   "execution_count": 4,
   "id": "6f5c594c-b6e4-4ce6-ae83-9b254f68781d",
   "metadata": {},
   "outputs": [
    {
     "data": {
      "text/plain": [
       "{'databaseName': 'create_delete_db',\n",
       " 'databaseArn': 'arn:aws:finspace:us-east-1:612841383594:kxEnvironment/itcdoumzc5cixt5vh4t6dp/kxDatabase/create_delete_db',\n",
       " 'environmentId': 'itcdoumzc5cixt5vh4t6dp',\n",
       " 'description': 'Welcome kdb database',\n",
       " 'createdTimestamp': datetime.datetime(2023, 5, 30, 22, 9, 40, 541000, tzinfo=tzlocal()),\n",
       " 'lastModifiedTimestamp': datetime.datetime(2023, 5, 30, 22, 47, 19, 805000, tzinfo=tzlocal()),\n",
       " 'lastCompletedChangesetId': 'vsQ3bBP9NEmjohJ0F2hW5g',\n",
       " 'numBytes': 34526532,\n",
       " 'numChangesets': 3,\n",
       " 'numFiles': 41}"
      ]
     },
     "metadata": {},
     "output_type": "display_data"
    }
   ],
   "source": [
    "if DATABASE_NAME is not None:\n",
    "    try:\n",
    "        resp=client.get_kx_database(environmentId=ENV_ID, databaseName=DATABASE_NAME)\n",
    "        resp.pop('ResponseMetadata', None)\n",
    "    except client.exceptions.ResourceNotFoundException:\n",
    "        resp = f\"Database: {DATABASE_NAME} does not exist\"\n",
    "        \n",
    "    display(resp)"
   ]
  },
  {
   "cell_type": "code",
   "execution_count": 5,
   "id": "7b5122ff-224f-458d-8d80-8817c0915098",
   "metadata": {},
   "outputs": [
    {
     "data": {
      "text/plain": [
       "{}"
      ]
     },
     "metadata": {},
     "output_type": "display_data"
    }
   ],
   "source": [
    "if DATABASE_NAME is not None:\n",
    "    try:\n",
    "        resp=client.delete_kx_database(environmentId=ENV_ID, databaseName=DATABASE_NAME)\n",
    "        resp.pop('ResponseMetadata', None)\n",
    "    except client.exceptions.ResourceNotFoundException:\n",
    "        resp = f\"Database: {DATABASE_NAME} does not exist\"\n",
    "    \n",
    "    display(resp)"
   ]
  },
  {
   "cell_type": "code",
   "execution_count": 6,
   "id": "1a5634e9-3184-4929-a57f-3ca826ced0c4",
   "metadata": {},
   "outputs": [
    {
     "name": "stdout",
     "output_type": "stream",
     "text": [
      "Last Run: 2023-05-30 23:18:35.757322\n"
     ]
    }
   ],
   "source": [
    "print( f\"Last Run: {datetime.datetime.now()}\" )"
   ]
  },
  {
   "cell_type": "code",
   "execution_count": null,
   "id": "72f6d6b6-cd58-4dec-9433-ba57ba0faf0c",
   "metadata": {},
   "outputs": [],
   "source": []
  }
 ],
 "metadata": {
  "kernelspec": {
   "display_name": "Python 3 (ipykernel)",
   "language": "python",
   "name": "python3"
  },
  "language_info": {
   "codemirror_mode": {
    "name": "ipython",
    "version": 3
   },
   "file_extension": ".py",
   "mimetype": "text/x-python",
   "name": "python",
   "nbconvert_exporter": "python",
   "pygments_lexer": "ipython3",
   "version": "3.9.12"
  }
 },
 "nbformat": 4,
 "nbformat_minor": 5
}
