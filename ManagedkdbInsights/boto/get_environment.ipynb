{
 "cells": [
  {
   "cell_type": "markdown",
   "id": "e13084db-c69f-4e70-aa79-acfd2159093a",
   "metadata": {},
   "source": [
    "# Get Environment"
   ]
  },
  {
   "cell_type": "code",
   "execution_count": 1,
   "id": "3698017d-42ed-4280-afa1-723f19ae398c",
   "metadata": {},
   "outputs": [],
   "source": [
    "import os\n",
    "import boto3\n",
    "import json\n",
    "import datetime\n",
    "\n",
    "from managed_kx import *\n",
    "from env2 import *\n"
   ]
  },
  {
   "cell_type": "code",
   "execution_count": 2,
   "id": "ed241efe-523e-4d2f-8e1b-94a09adf42e7",
   "metadata": {},
   "outputs": [
    {
     "name": "stdout",
     "output_type": "stream",
     "text": [
      "Using variables ...\n"
     ]
    }
   ],
   "source": [
    "# triggers credential get\n",
    "session=None\n",
    "\n",
    "try:\n",
    "    subprocess.call([\"which\", \"ada\"])\n",
    "    os.system(f\"ada credentials update --account={ACCOUNT_ID} --provider=isengard --role=Admin --once\")\n",
    "except: \n",
    "    None\n",
    "\n",
    "if AWS_ACCESS_KEY_ID is None:\n",
    "    print(\"Using Defaults ...\")\n",
    "    # create AWS session: using access variables\n",
    "    session = boto3.Session()\n",
    "else:\n",
    "    print(\"Using variables ...\")\n",
    "    session = boto3.Session(\n",
    "        aws_access_key_id=AWS_ACCESS_KEY_ID,\n",
    "        aws_secret_access_key=AWS_SECRET_ACCESS_KEY,\n",
    "        aws_session_token=AWS_SESSION_TOKEN\n",
    "    )\n",
    "\n",
    "# create finspace client\n",
    "client = session.client(service_name='finspace', endpoint_url=ENDPOINT_URL)"
   ]
  },
  {
   "cell_type": "markdown",
   "id": "6b7294c7-d9a3-4fb2-b671-12ead3e17e83",
   "metadata": {},
   "source": [
    "# Environment Details"
   ]
  },
  {
   "cell_type": "code",
   "execution_count": 3,
   "id": "ccb6b824-4af8-447a-8b0a-ecd4d8136081",
   "metadata": {},
   "outputs": [
    {
     "name": "stdout",
     "output_type": "stream",
     "text": [
      "Environment Information\n",
      "{\n",
      "  \"availabilityZoneIds\": [\n",
      "    \"use1-az6\",\n",
      "    \"use1-az4\",\n",
      "    \"use1-az1\"\n",
      "  ],\n",
      "  \"awsAccountId\": \"612841383594\",\n",
      "  \"certificateAuthorityArn\": \"arn:aws:acm-pca:us-east-1:952604696585:certificate-authority/0bd40a67-e61c-4e0f-8d83-9f84b10b4653\",\n",
      "  \"creationTimestamp\": \"2023-05-30T21:49:29.29Z\",\n",
      "  \"dedicatedServiceAccountId\": \"952604696585\",\n",
      "  \"description\": \"Anvironment created after last beta release ahead of GA\",\n",
      "  \"dnsStatus\": \"NONE\",\n",
      "  \"environmentArn\": \"arn:aws:finspace:us-east-1:612841383594:kxEnvironment/itcdoumzc5cixt5vh4t6dp\",\n",
      "  \"environmentId\": \"itcdoumzc5cixt5vh4t6dp\",\n",
      "  \"kmsKeyId\": \"arn:aws:kms:us-east-1:612841383594:key/bbfad1fa-9e38-47f1-986d-33fb976a9ec4\",\n",
      "  \"name\": \"Managed_KX_Beta_20230530\",\n",
      "  \"status\": \"CREATED\",\n",
      "  \"tgwStatus\": \"SUCCESSFULLY_UPDATED\",\n",
      "  \"transitGatewayConfiguration\": {\n",
      "    \"routableCIDRSpace\": \"100.64.0.0/26\",\n",
      "    \"transitGatewayID\": \"tgw-08a5795d33483b14f\"\n",
      "  },\n",
      "  \"updateTimestamp\": \"2023-05-30T23:30:49.49Z\"\n",
      "}\n",
      "\n",
      "Last Run: 2023-06-01 15:48:55.401237\n"
     ]
    }
   ],
   "source": [
    "resp=get_kx_environment(client, environmentId=ENV_ID)\n",
    "\n",
    "print(\"Environment Information\")\n",
    "#display(resp)\n",
    "print(json.dumps(resp,sort_keys=True,indent=2,default=str))\n",
    "print()\n",
    "print( f\"Last Run: {datetime.datetime.now()}\" )"
   ]
  },
  {
   "cell_type": "code",
   "execution_count": null,
   "id": "d5bd490d-d88c-4d18-afe6-e87e2ff14e2d",
   "metadata": {},
   "outputs": [],
   "source": []
  }
 ],
 "metadata": {
  "kernelspec": {
   "display_name": "Python 3 (ipykernel)",
   "language": "python",
   "name": "python3"
  },
  "language_info": {
   "codemirror_mode": {
    "name": "ipython",
    "version": 3
   },
   "file_extension": ".py",
   "mimetype": "text/x-python",
   "name": "python",
   "nbconvert_exporter": "python",
   "pygments_lexer": "ipython3",
   "version": "3.9.12"
  }
 },
 "nbformat": 4,
 "nbformat_minor": 5
}
