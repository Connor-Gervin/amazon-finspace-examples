{
 "cells": [
  {
   "cell_type": "markdown",
   "id": "28bea13b-67bd-4a0e-8eab-3b8ffd37259e",
   "metadata": {},
   "source": [
    "# Create Cluster: RDB\n",
    "This notebook will create (start) an RDB cluster."
   ]
  },
  {
   "cell_type": "code",
   "execution_count": null,
   "id": "83c6572a-0972-4867-8c02-ea2c6c98427a",
   "metadata": {
    "jupyter": {
     "source_hidden": true
    },
    "tags": []
   },
   "outputs": [],
   "source": [
    "%%html\n",
    "<style>\n",
    "table {float:left}\n",
    "</style>"
   ]
  },
  {
   "cell_type": "markdown",
   "id": "f17a02c0-4f56-455c-a28a-dd102a88201c",
   "metadata": {
    "tags": []
   },
   "source": [
    "## Setup\n",
    "\n",
    "### Node Types\n",
    "|Type|Mem (GB)|vCPUs|\n",
    "|:---|---:|---:|\n",
    "|kx.s.large|12|2|\n",
    "|kx.s.xlarge|27|4|\n",
    "|kx.s.2xlarge|54|8|\n",
    "|kx.s.4xlarge|108|16|\n",
    "|kx.s.8xlarge|216|32|\n",
    "|kx.s.16xlarge|432|64|\n",
    "|kx.s.32xlarge|864|128|\n"
   ]
  },
  {
   "cell_type": "code",
   "execution_count": null,
   "id": "0d5f1d4a-ed45-44e3-bf75-9bdb75fcddbb",
   "metadata": {},
   "outputs": [],
   "source": [
    "import os\n",
    "import boto3\n",
    "import json\n",
    "import datetime\n",
    "\n",
    "from managed_kx import *\n",
    "from env import *\n",
    "\n",
    "# Managed KX Database and Cluster names to create\n",
    "DB_NAME=\"welcomedb\"\n",
    "\n",
    "SEC_THREADS='8'\n",
    "CLUSTER_NAME=f\"RDB_{DB_NAME}\"\n",
    "\n",
    "# Cluster Settings\n",
    "CODEBASE=\"code\"\n",
    "S3_CODE_PATH=\"code\"\n",
    "\n",
    "CAPACITY_CONFIG={ 'nodeCount': 1, 'nodeType': 'kx.s.2xlarge'}\n",
    "SAVEDOWN_CONFIG={ 'type': 'SDS01', 'size':200 }\n",
    "DATABASE_CONFIG=[{ 'databaseName': DB_NAME }]\n",
    "CODE_CONFIG={ 's3Bucket': S3_BUCKET, 's3Key': f'{S3_CODE_PATH}/{CODEBASE}.zip' }\n",
    "\n",
    "INIT_SCRIPT=f'{CODEBASE}/init.q'\n",
    "CMD_ARGS=[\n",
    "    { 'key': 's', 'value': SEC_THREADS }, \n",
    "    { 'key': 'dbname', 'value': DB_NAME}, \n",
    "    { 'key': 'codebase', 'value': CODEBASE} \n",
    "]"
   ]
  },
  {
   "cell_type": "code",
   "execution_count": null,
   "id": "3cfe7d89-9f5d-4ceb-ac8c-1f5054a6f15a",
   "metadata": {},
   "outputs": [],
   "source": [
    "# triggers credential get\n",
    "session=None\n",
    "\n",
    "try:\n",
    "    subprocess.call([\"which\", \"ada\"])\n",
    "    os.system(f\"ada credentials update --account={ACCOUNT_ID} --provider=isengard --role=Admin --once\")\n",
    "except: \n",
    "    None\n",
    "\n",
    "if AWS_ACCESS_KEY_ID is None:\n",
    "    print(\"Using Defaults ...\")\n",
    "    # create AWS sessio: using access variables\n",
    "    session = boto3.Session()\n",
    "else:\n",
    "    print(\"Using variables ...\")\n",
    "    session = boto3.Session(\n",
    "        aws_access_key_id=AWS_ACCESS_KEY_ID,\n",
    "        aws_secret_access_key=AWS_SECRET_ACCESS_KEY,\n",
    "        aws_session_token=AWS_SESSION_TOKEN\n",
    "    )\n",
    "\n",
    "# create finspace client\n",
    "client = session.client(service_name='finspace', endpoint_url=ENDPOINT_URL)"
   ]
  },
  {
   "cell_type": "markdown",
   "id": "67476efe-d308-4158-9e24-8fbe71509f76",
   "metadata": {},
   "source": [
    "## Create Cluster"
   ]
  },
  {
   "cell_type": "code",
   "execution_count": null,
   "id": "3e39ebf3-6940-40f1-a7f8-90efb3846f7b",
   "metadata": {},
   "outputs": [],
   "source": [
    "resp = client.create_kx_cluster(\n",
    "    environmentId=ENV_ID, \n",
    "    clusterName=CLUSTER_NAME,\n",
    "    clusterType='RDB',\n",
    "    releaseLabel = '1.0',\n",
    "    databases=DATABASE_CONFIG,\n",
    "    capacityConfiguration=CAPACITY_CONFIG,\n",
    "    savedownStorageConfiguration=SAVEDOWN_CONFIG,\n",
    "    clusterDescription=\"Created with create_cluster_RDB notebook\",\n",
    "    code=CODE_CONFIG,\n",
    "    initializationScript=INIT_SCRIPT,\n",
    "    azMode=AZ_MODE,\n",
    "    availabilityZoneId=AZ_ID,\n",
    "    commandLineArguments=CMD_ARGS,\n",
    "    vpcConfiguration={ \n",
    "        'vpcId': VPC_ID,\n",
    "        'securityGroupIds': SECURITY_GROUPS,\n",
    "        'subnetIds': SUBNET_IDS,\n",
    "        'ipAddressType': 'IP_V4' }\n",
    ")"
   ]
  },
  {
   "cell_type": "code",
   "execution_count": null,
   "id": "e9946083-c9bb-4ecc-afbd-8c20e284ddf5",
   "metadata": {},
   "outputs": [],
   "source": [
    "wait_for_cluster_status(client, environmentId=ENV_ID, clusterName=CLUSTER_NAME, show_wait=True)\n",
    "print()\n",
    "print(\"** DONE **\")"
   ]
  },
  {
   "cell_type": "code",
   "execution_count": null,
   "id": "389b275e-f916-4915-aa3c-7436a26d2989",
   "metadata": {},
   "outputs": [],
   "source": [
    "# Give permissions time to propogate after cluster creation....\n",
    "time.sleep(60)"
   ]
  },
  {
   "cell_type": "code",
   "execution_count": null,
   "id": "be61a417-938a-432f-a7ba-a9969971b436",
   "metadata": {},
   "outputs": [],
   "source": [
    "conn_str = get_kx_connection_string(client, environmentId=ENV_ID, clusterName=CLUSTER_NAME, userName=KDB_USERNAME, boto_session=session)\n",
    "print(conn_str)"
   ]
  },
  {
   "cell_type": "code",
   "execution_count": null,
   "id": "1c50c578-05e8-49e7-8deb-1f6b94b10221",
   "metadata": {},
   "outputs": [],
   "source": [
    "cdf = get_clusters(client, ENV_ID)\n",
    "\n",
    "display(cdf)"
   ]
  },
  {
   "cell_type": "code",
   "execution_count": null,
   "id": "86f33240-bb12-49f3-8d9c-5783c25eb182",
   "metadata": {},
   "outputs": [],
   "source": [
    "print( f\"Last Run: {datetime.datetime.now()}\" )"
   ]
  },
  {
   "cell_type": "code",
   "execution_count": null,
   "id": "e4f0d8e3-7a79-4f5d-b68b-c7e5b44c6685",
   "metadata": {},
   "outputs": [],
   "source": []
  }
 ],
 "metadata": {
  "kernelspec": {
   "display_name": "Python 3 (ipykernel)",
   "language": "python",
   "name": "python3"
  },
  "language_info": {
   "codemirror_mode": {
    "name": "ipython",
    "version": 3
   },
   "file_extension": ".py",
   "mimetype": "text/x-python",
   "name": "python",
   "nbconvert_exporter": "python",
   "pygments_lexer": "ipython3",
   "version": "3.9.12"
  }
 },
 "nbformat": 4,
 "nbformat_minor": 5
}
