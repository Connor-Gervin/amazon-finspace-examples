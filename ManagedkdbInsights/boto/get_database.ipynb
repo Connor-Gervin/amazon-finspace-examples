{
 "cells": [
  {
   "cell_type": "markdown",
   "id": "e13084db-c69f-4e70-aa79-acfd2159093a",
   "metadata": {},
   "source": [
    "# Get Database"
   ]
  },
  {
   "cell_type": "code",
   "execution_count": 1,
   "id": "b058c1df-087e-4856-828c-e296ecd1a95c",
   "metadata": {},
   "outputs": [],
   "source": [
    "# just one database\n",
    "DB_NAME=\"welcomedb\"\n"
   ]
  },
  {
   "cell_type": "code",
   "execution_count": 2,
   "id": "3698017d-42ed-4280-afa1-723f19ae398c",
   "metadata": {},
   "outputs": [],
   "source": [
    "import os\n",
    "import boto3\n",
    "import json\n",
    "import datetime\n",
    "\n",
    "from managed_kx import *\n",
    "from env2 import *\n"
   ]
  },
  {
   "cell_type": "code",
   "execution_count": 3,
   "id": "ed241efe-523e-4d2f-8e1b-94a09adf42e7",
   "metadata": {},
   "outputs": [
    {
     "name": "stdout",
     "output_type": "stream",
     "text": [
      "Using variables ...\n"
     ]
    }
   ],
   "source": [
    "# triggers credential get\n",
    "session=None\n",
    "\n",
    "try:\n",
    "    subprocess.call([\"which\", \"ada\"])\n",
    "    os.system(f\"ada credentials update --account={ACCOUNT_ID} --provider=isengard --role=Admin --once\")\n",
    "except: \n",
    "    None\n",
    "\n",
    "if AWS_ACCESS_KEY_ID is None:\n",
    "    print(\"Using Defaults ...\")\n",
    "    # create AWS session: using access variables\n",
    "    session = boto3.Session()\n",
    "else:\n",
    "    print(\"Using variables ...\")\n",
    "    session = boto3.Session(\n",
    "        aws_access_key_id=AWS_ACCESS_KEY_ID,\n",
    "        aws_secret_access_key=AWS_SECRET_ACCESS_KEY,\n",
    "        aws_session_token=AWS_SESSION_TOKEN\n",
    "    )\n",
    "\n",
    "# create finspace client\n",
    "client = session.client(service_name='finspace', endpoint_url=ENDPOINT_URL)"
   ]
  },
  {
   "cell_type": "markdown",
   "id": "6b7294c7-d9a3-4fb2-b671-12ead3e17e83",
   "metadata": {},
   "source": [
    "# Database Details"
   ]
  },
  {
   "cell_type": "code",
   "execution_count": 4,
   "id": "b78cd04a-feb5-4b3b-a8cc-066c5a2e1cf3",
   "metadata": {},
   "outputs": [
    {
     "name": "stdout",
     "output_type": "stream",
     "text": [
      "====================================================================================================\n",
      "Database: welcomedb, Changesets: \n",
      "Welcome kdb database\n",
      "Bytes: 34,526,532 Changesets: 1 Files: 41\n",
      "----------------------------------------------------------------------------------------------------\n"
     ]
    },
    {
     "data": {
      "text/html": [
       "<div>\n",
       "<style scoped>\n",
       "    .dataframe tbody tr th:only-of-type {\n",
       "        vertical-align: middle;\n",
       "    }\n",
       "\n",
       "    .dataframe tbody tr th {\n",
       "        vertical-align: top;\n",
       "    }\n",
       "\n",
       "    .dataframe thead th {\n",
       "        text-align: right;\n",
       "    }\n",
       "</style>\n",
       "<table border=\"1\" class=\"dataframe\">\n",
       "  <thead>\n",
       "    <tr style=\"text-align: right;\">\n",
       "      <th></th>\n",
       "      <th>changesetId</th>\n",
       "      <th>createdTimestamp</th>\n",
       "      <th>activeFromTimestamp</th>\n",
       "      <th>lastModifiedTimestamp</th>\n",
       "      <th>status</th>\n",
       "    </tr>\n",
       "  </thead>\n",
       "  <tbody>\n",
       "    <tr>\n",
       "      <th>0</th>\n",
       "      <td>VsQ3bsYloWVaDQSZp7fWmw</td>\n",
       "      <td>2023-05-30 22:53:13.165000+00:00</td>\n",
       "      <td>2023-05-30 22:53:20.534000+00:00</td>\n",
       "      <td>2023-05-30 22:53:13.165000+00:00</td>\n",
       "      <td>COMPLETED</td>\n",
       "    </tr>\n",
       "  </tbody>\n",
       "</table>\n",
       "</div>"
      ],
      "text/plain": [
       "              changesetId                 createdTimestamp  \\\n",
       "0  VsQ3bsYloWVaDQSZp7fWmw 2023-05-30 22:53:13.165000+00:00   \n",
       "\n",
       "               activeFromTimestamp            lastModifiedTimestamp     status  \n",
       "0 2023-05-30 22:53:20.534000+00:00 2023-05-30 22:53:13.165000+00:00  COMPLETED  "
      ]
     },
     "metadata": {},
     "output_type": "display_data"
    },
    {
     "name": "stdout",
     "output_type": "stream",
     "text": [
      "Last Run: 2023-05-30 23:15:46.485233\n"
     ]
    }
   ],
   "source": [
    "dump_database(client, ENV_ID, DB_NAME)\n",
    "\n",
    "print( f\"Last Run: {datetime.datetime.now()}\" )"
   ]
  },
  {
   "cell_type": "code",
   "execution_count": null,
   "id": "b2292bc6-6089-4fcc-8665-5d02438cd96c",
   "metadata": {},
   "outputs": [],
   "source": []
  }
 ],
 "metadata": {
  "kernelspec": {
   "display_name": "Python 3 (ipykernel)",
   "language": "python",
   "name": "python3"
  },
  "language_info": {
   "codemirror_mode": {
    "name": "ipython",
    "version": 3
   },
   "file_extension": ".py",
   "mimetype": "text/x-python",
   "name": "python",
   "nbconvert_exporter": "python",
   "pygments_lexer": "ipython3",
   "version": "3.9.12"
  }
 },
 "nbformat": 4,
 "nbformat_minor": 5
}
