{
 "cells": [
  {
   "cell_type": "markdown",
   "id": "f13366f9-080f-4805-8e2a-635b98bb7a28",
   "metadata": {},
   "source": [
    "# Generate Welcome Data\n",
    "Some q code to generate data for an HDB\n",
    "\n",
    "**TARBALL CREATION:** tar -czvf hdb.tar.gz hdb\n"
   ]
  },
  {
   "cell_type": "code",
   "execution_count": null,
   "id": "d6c2ac26-43fb-4e19-b8f3-2aedbcbefee0",
   "metadata": {},
   "outputs": [],
   "source": [
    "/ set compression defaults\n",
    ".z.zd:(17;2;7)\n",
    "\n",
    "/ Number of records in a day\n",
    "num_rec: 1000000\n",
    "\n",
    "/ number of days, will start from today and go back num_days\n",
    "num_days: 10\n",
    "\n",
    "/ path for hdb database\n",
    "db_path:\"hdb\"\n",
    "\n",
    "/ delete directory\n",
    "system \"rm -rf \", db_path\n",
    "\n",
    ".example.writeDay:{[date]\n",
    "\n",
    "    /gen data\n",
    "    example::([]sym:num_rec?`3;time:date+.z.t;number:num_rec?num_rec);\n",
    "\n",
    "    /write hdb\n",
    "    .Q.dpft[hsym `$db_path;date;`sym;`example];\n",
    "    }\n",
    "\n",
    ".example.writeDay each .z.d-1+til num_days\n",
    "\n",
    "system \"tar --exclude=.DS_Store -czf \", db_path,\".tar.gz \", db_path"
   ]
  },
  {
   "cell_type": "code",
   "execution_count": null,
   "id": "491e97ec-820a-4186-8356-4cda0410e9b3",
   "metadata": {},
   "outputs": [],
   "source": []
  }
 ],
 "metadata": {
  "kernelspec": {
   "display_name": "Q (kdb+)",
   "language": "q",
   "name": "qpk"
  },
  "language_info": {
   "file_extension": ".q",
   "mimetype": "text/x-q",
   "name": "q",
   "version": "4.0"
  }
 },
 "nbformat": 4,
 "nbformat_minor": 5
}
