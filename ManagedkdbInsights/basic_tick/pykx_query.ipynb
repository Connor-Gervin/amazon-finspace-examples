{
 "cells": [
  {
   "cell_type": "markdown",
   "id": "1334d92e-34f4-448c-b6af-73cba89e9d6d",
   "metadata": {},
   "source": [
    "# PyKX Example\n",
    "Query tick data thru gateway from pyKX\n",
    "\n",
    "**WORK IN PROGRESS, NOT COMPLETED**"
   ]
  },
  {
   "cell_type": "code",
   "execution_count": null,
   "id": "70267544-cb1a-4d6d-90f0-46381049022b",
   "metadata": {},
   "outputs": [],
   "source": [
    "import boto3\n",
    "import json\n",
    "import datetime\n",
    "\n",
    "import pykx as kx\n",
    "\n",
    "from managed_kx import *\n",
    "from env_2 import *\n",
    "\n",
    "clusters = {\n",
    "    \"rdb_conn\": \"RDB_basictickdb_20230601\",\n",
    "    \"hdb_conn\": \"HDB_basictickdb_20230601\",\n",
    "    \"gw_conn\" : \"GATEWAY_20230601\"\n",
    "}\n",
    "\n",
    "# where is the license from?\n",
    "os.getenv(\"QHOME\")\n"
   ]
  },
  {
   "cell_type": "code",
   "execution_count": null,
   "id": "deba2ac8-2922-46d7-b4a7-d438948779b1",
   "metadata": {},
   "outputs": [],
   "source": [
    "# triggers credential get\n",
    "session=None\n",
    "\n",
    "try:\n",
    "    # aws: use ada for credentials\n",
    "    subprocess.call([\"which\", \"ada\"])\n",
    "    os.system(f\"ada credentials update --account={ACCOUNT_ID} --provider=isengard --role=Admin --once\")\n",
    "except: \n",
    "    None\n",
    "\n",
    "if AWS_ACCESS_KEY_ID is None:\n",
    "    print(\"Using Defaults ...\")\n",
    "    # create AWS session: using access variables\n",
    "    session = boto3.Session()\n",
    "else:\n",
    "    print(\"Using variables ...\")\n",
    "    session = boto3.Session(\n",
    "        aws_access_key_id=AWS_ACCESS_KEY_ID,\n",
    "        aws_secret_access_key=AWS_SECRET_ACCESS_KEY,\n",
    "        aws_session_token=AWS_SESSION_TOKEN\n",
    "    )\n",
    "\n",
    "# create finspace client\n",
    "client = session.client(service_name='finspace', endpoint_url=ENDPOINT_URL)"
   ]
  },
  {
   "cell_type": "code",
   "execution_count": null,
   "id": "da9a054d-f101-4aa9-8bff-4611849efcc0",
   "metadata": {},
   "outputs": [],
   "source": [
    "conns = {}\n",
    "\n",
    "for k, v in clusters.items():\n",
    "    try:\n",
    "        conn_str = get_kx_connection_string(client, environmentId=ENV_ID, clusterName=v, userName=KDB_USERNAME, boto_session=session)\n",
    "    except:\n",
    "        conn_str = \"\"\n",
    "\n",
    "    conns[k] = conn_str\n",
    "    "
   ]
  },
  {
   "cell_type": "code",
   "execution_count": null,
   "id": "15469760-0b7d-44c6-a286-9bf34f32461f",
   "metadata": {},
   "outputs": [],
   "source": [
    "conns"
   ]
  },
  {
   "cell_type": "markdown",
   "id": "08c3a170-3da2-483d-af7e-e66ce6d16488",
   "metadata": {},
   "source": [
    "# Connect and Query"
   ]
  },
  {
   "cell_type": "code",
   "execution_count": null,
   "id": "e97a01b9-0f00-4a87-b67b-fc13b3f741c8",
   "metadata": {},
   "outputs": [],
   "source": [
    "hdb_name = clusters['hdb_conn']\n",
    "\n",
    "# Query the HDB\n",
    "hdb = get_pykx_connection(client, \n",
    "                          environmentId=ENV_ID, clusterName=hdb_name, \n",
    "                          userName=KDB_USERNAME, boto_session=session)"
   ]
  },
  {
   "cell_type": "code",
   "execution_count": null,
   "id": "237dca98-86c5-4d5e-bf58-663f17bce6c6",
   "metadata": {},
   "outputs": [],
   "source": [
    "hdb(\"tables[]\").py()"
   ]
  },
  {
   "cell_type": "code",
   "execution_count": null,
   "id": "1f4db568-7e14-4438-92b5-16214680fa7e",
   "metadata": {},
   "outputs": [],
   "source": [
    "# Tables\n",
    "tables = hdb(\"tables[]\").py()\n",
    "print(f\"Tables ({len(tables)}): {tables}\")\n",
    "\n",
    "# Schema\n",
    "schema_pdf = hdb(\"meta `example\").pd()\n",
    "display(schema_pdf)\n"
   ]
  },
  {
   "cell_type": "code",
   "execution_count": null,
   "id": "a00e0137-5873-4293-bd46-9ea184d61675",
   "metadata": {},
   "outputs": [],
   "source": [
    "# Simple Query\n",
    "res_table = hdb(\"select counts:count i, avg_num: avg number by date from example\").pd()\n",
    "display(res_table)\n",
    "\n",
    "# Number of Rows\n",
    "rows = hdb(\"count example\").py()\n",
    "print(f\"Rows: {rows:,}\")"
   ]
  },
  {
   "cell_type": "code",
   "execution_count": null,
   "id": "95f9c03d-94d5-44f9-b42c-e4a5054a8d47",
   "metadata": {},
   "outputs": [],
   "source": []
  }
 ],
 "metadata": {
  "kernelspec": {
   "display_name": "Python 3 (ipykernel)",
   "language": "python",
   "name": "python3"
  },
  "language_info": {
   "codemirror_mode": {
    "name": "ipython",
    "version": 3
   },
   "file_extension": ".py",
   "mimetype": "text/x-python",
   "name": "python",
   "nbconvert_exporter": "python",
   "pygments_lexer": "ipython3",
   "version": "3.9.12"
  }
 },
 "nbformat": 4,
 "nbformat_minor": 5
}
