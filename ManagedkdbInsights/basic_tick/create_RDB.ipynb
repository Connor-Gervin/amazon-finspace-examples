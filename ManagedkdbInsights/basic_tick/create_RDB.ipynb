{
 "cells": [
  {
   "cell_type": "markdown",
   "id": "28bea13b-67bd-4a0e-8eab-3b8ffd37259e",
   "metadata": {},
   "source": [
    "# BaiscTick: Create Cluster: RDB\n",
    "This notebook will create (start) an RDB cluster on a named database."
   ]
  },
  {
   "cell_type": "code",
   "execution_count": 1,
   "id": "83c6572a-0972-4867-8c02-ea2c6c98427a",
   "metadata": {
    "jupyter": {
     "source_hidden": true
    },
    "tags": []
   },
   "outputs": [
    {
     "data": {
      "text/html": [
       "<style>\n",
       "table {float:left}\n",
       "</style>\n"
      ],
      "text/plain": [
       "<IPython.core.display.HTML object>"
      ]
     },
     "metadata": {},
     "output_type": "display_data"
    }
   ],
   "source": [
    "%%html\n",
    "<style>\n",
    "table {float:left}\n",
    "</style>"
   ]
  },
  {
   "cell_type": "markdown",
   "id": "f17a02c0-4f56-455c-a28a-dd102a88201c",
   "metadata": {
    "tags": []
   },
   "source": [
    "## Setup\n",
    "\n",
    "### Node Types\n",
    "|Type|Mem (GB)|vCPUs|\n",
    "|:---|---:|---:|\n",
    "|kx.s.large|12|2|\n",
    "|kx.s.xlarge|27|4|\n",
    "|kx.s.2xlarge|54|8|\n",
    "|kx.s.4xlarge|108|16|\n",
    "|kx.s.8xlarge|216|32|\n",
    "|kx.s.16xlarge|432|64|\n",
    "|kx.s.32xlarge|864|128|\n"
   ]
  },
  {
   "cell_type": "code",
   "execution_count": 2,
   "id": "0d5f1d4a-ed45-44e3-bf75-9bdb75fcddbb",
   "metadata": {},
   "outputs": [],
   "source": [
    "import os\n",
    "import boto3\n",
    "import json\n",
    "import datetime\n",
    "\n",
    "from managed_kx import *\n",
    "from env_kdb_1 import *\n",
    "\n",
    "# Cluster names and database\n",
    "from basictick_setup import *\n",
    "\n",
    "SEC_THREADS='8'\n",
    "\n",
    "# Cluster Settings\n",
    "\n",
    "CODEBASE=\"basictick\"\n",
    "S3_CODE_PATH=\"code\"\n",
    "\n",
    "CAPACITY_CONFIG={ 'nodeCount': 1, 'nodeType': 'kx.s.xlarge'}\n",
    "SAVEDOWN_CONFIG={ 'type': 'SDS01', 'size':400 }\n",
    "DATABASE_CONFIG=[{ 'databaseName': DB_NAME }]\n",
    "CODE_CONFIG={ 's3Bucket': S3_BUCKET, 's3Key': f'{S3_CODE_PATH}/{CODEBASE}.zip' }\n",
    "INIT_SCRIPT=f'{CODEBASE}/rdbmkdb.q'\n",
    "\n",
    "CMD_ARGS=[\n",
    "    { 'key': 's', 'value': SEC_THREADS }, \n",
    "    { 'key': 'dbname', 'value': DB_NAME}, \n",
    "    { 'key': 'codebase', 'value': CODEBASE}, \n",
    "    { 'key': 'tphostfile', 'value': TP_HOSTFILE}, \n",
    "#    {'key': 'tp', 'value': TP }, \n",
    "]"
   ]
  },
  {
   "cell_type": "code",
   "execution_count": 3,
   "id": "3cfe7d89-9f5d-4ceb-ac8c-1f5054a6f15a",
   "metadata": {},
   "outputs": [
    {
     "name": "stdout",
     "output_type": "stream",
     "text": [
      "Using variables ...\n"
     ]
    }
   ],
   "source": [
    "# triggers credential get\n",
    "session=None\n",
    "\n",
    "try:\n",
    "    # aws: use ada for credentials\n",
    "    subprocess.call([\"which\", \"ada\"])\n",
    "    os.system(f\"ada credentials update --account={ACCOUNT_ID} --provider=isengard --role=Admin --once\")\n",
    "except: \n",
    "    None\n",
    "\n",
    "if AWS_ACCESS_KEY_ID is None:\n",
    "    print(\"Using Defaults ...\")\n",
    "    # create AWS session: using access variables\n",
    "    session = boto3.Session()\n",
    "else:\n",
    "    print(\"Using variables ...\")\n",
    "    session = boto3.Session(\n",
    "        aws_access_key_id=AWS_ACCESS_KEY_ID,\n",
    "        aws_secret_access_key=AWS_SECRET_ACCESS_KEY,\n",
    "        aws_session_token=AWS_SESSION_TOKEN\n",
    "    )\n",
    "\n",
    "# create finspace client\n",
    "client = session.client(service_name='finspace', endpoint_url=ENDPOINT_URL)"
   ]
  },
  {
   "cell_type": "markdown",
   "id": "1cd63f1e-0f36-410d-ab75-95fc2031d221",
   "metadata": {},
   "source": [
    "## Check Database"
   ]
  },
  {
   "cell_type": "code",
   "execution_count": 4,
   "id": "f9266a73-d208-4c6a-a50e-9c5b77e99704",
   "metadata": {},
   "outputs": [
    {
     "name": "stdout",
     "output_type": "stream",
     "text": [
      "====================================================================================================\n",
      "Database: basictickdb, Changesets: 1 \n",
      "====================================================================================================\n",
      "Changeset (COMPLETED): 4MRqXexrXcIiOdRfJZbOJQ: Created: 2023-06-19 23:27:12.089000+00:00\n"
     ]
    },
    {
     "data": {
      "text/html": [
       "<style type=\"text/css\">\n",
       "</style>\n",
       "<table id=\"T_d754c\">\n",
       "  <thead>\n",
       "    <tr>\n",
       "      <th id=\"T_d754c_level0_col0\" class=\"col_heading level0 col0\" >changeType</th>\n",
       "      <th id=\"T_d754c_level0_col1\" class=\"col_heading level0 col1\" >s3Path</th>\n",
       "      <th id=\"T_d754c_level0_col2\" class=\"col_heading level0 col2\" >dbPath</th>\n",
       "    </tr>\n",
       "  </thead>\n",
       "  <tbody>\n",
       "    <tr>\n",
       "      <td id=\"T_d754c_row0_col0\" class=\"data row0 col0\" >PUT</td>\n",
       "      <td id=\"T_d754c_row0_col1\" class=\"data row0 col1\" >s3://kdb-demo-829845998889-kms/data/hdb/2023.04.23/</td>\n",
       "      <td id=\"T_d754c_row0_col2\" class=\"data row0 col2\" >/2023.04.23/</td>\n",
       "    </tr>\n",
       "    <tr>\n",
       "      <td id=\"T_d754c_row1_col0\" class=\"data row1 col0\" >PUT</td>\n",
       "      <td id=\"T_d754c_row1_col1\" class=\"data row1 col1\" >s3://kdb-demo-829845998889-kms/data/hdb/2023.04.15/</td>\n",
       "      <td id=\"T_d754c_row1_col2\" class=\"data row1 col2\" >/2023.04.15/</td>\n",
       "    </tr>\n",
       "    <tr>\n",
       "      <td id=\"T_d754c_row2_col0\" class=\"data row2 col0\" >PUT</td>\n",
       "      <td id=\"T_d754c_row2_col1\" class=\"data row2 col1\" >s3://kdb-demo-829845998889-kms/data/hdb/2023.04.14/</td>\n",
       "      <td id=\"T_d754c_row2_col2\" class=\"data row2 col2\" >/2023.04.14/</td>\n",
       "    </tr>\n",
       "    <tr>\n",
       "      <td id=\"T_d754c_row3_col0\" class=\"data row3 col0\" >PUT</td>\n",
       "      <td id=\"T_d754c_row3_col1\" class=\"data row3 col1\" >s3://kdb-demo-829845998889-kms/data/hdb/2023.04.22/</td>\n",
       "      <td id=\"T_d754c_row3_col2\" class=\"data row3 col2\" >/2023.04.22/</td>\n",
       "    </tr>\n",
       "    <tr>\n",
       "      <td id=\"T_d754c_row4_col0\" class=\"data row4 col0\" >PUT</td>\n",
       "      <td id=\"T_d754c_row4_col1\" class=\"data row4 col1\" >s3://kdb-demo-829845998889-kms/data/hdb/2023.04.18/</td>\n",
       "      <td id=\"T_d754c_row4_col2\" class=\"data row4 col2\" >/2023.04.18/</td>\n",
       "    </tr>\n",
       "    <tr>\n",
       "      <td id=\"T_d754c_row5_col0\" class=\"data row5 col0\" >PUT</td>\n",
       "      <td id=\"T_d754c_row5_col1\" class=\"data row5 col1\" >s3://kdb-demo-829845998889-kms/data/hdb/2023.04.20/</td>\n",
       "      <td id=\"T_d754c_row5_col2\" class=\"data row5 col2\" >/2023.04.20/</td>\n",
       "    </tr>\n",
       "    <tr>\n",
       "      <td id=\"T_d754c_row6_col0\" class=\"data row6 col0\" >PUT</td>\n",
       "      <td id=\"T_d754c_row6_col1\" class=\"data row6 col1\" >s3://kdb-demo-829845998889-kms/data/hdb/2023.04.16/</td>\n",
       "      <td id=\"T_d754c_row6_col2\" class=\"data row6 col2\" >/2023.04.16/</td>\n",
       "    </tr>\n",
       "    <tr>\n",
       "      <td id=\"T_d754c_row7_col0\" class=\"data row7 col0\" >PUT</td>\n",
       "      <td id=\"T_d754c_row7_col1\" class=\"data row7 col1\" >s3://kdb-demo-829845998889-kms/data/hdb/2023.04.17/</td>\n",
       "      <td id=\"T_d754c_row7_col2\" class=\"data row7 col2\" >/2023.04.17/</td>\n",
       "    </tr>\n",
       "    <tr>\n",
       "      <td id=\"T_d754c_row8_col0\" class=\"data row8 col0\" >PUT</td>\n",
       "      <td id=\"T_d754c_row8_col1\" class=\"data row8 col1\" >s3://kdb-demo-829845998889-kms/data/hdb/2023.04.21/</td>\n",
       "      <td id=\"T_d754c_row8_col2\" class=\"data row8 col2\" >/2023.04.21/</td>\n",
       "    </tr>\n",
       "    <tr>\n",
       "      <td id=\"T_d754c_row9_col0\" class=\"data row9 col0\" >PUT</td>\n",
       "      <td id=\"T_d754c_row9_col1\" class=\"data row9 col1\" >s3://kdb-demo-829845998889-kms/data/hdb/2023.04.19/</td>\n",
       "      <td id=\"T_d754c_row9_col2\" class=\"data row9 col2\" >/2023.04.19/</td>\n",
       "    </tr>\n",
       "    <tr>\n",
       "      <td id=\"T_d754c_row10_col0\" class=\"data row10 col0\" >PUT</td>\n",
       "      <td id=\"T_d754c_row10_col1\" class=\"data row10 col1\" >s3://kdb-demo-829845998889-kms/data/hdb/sym</td>\n",
       "      <td id=\"T_d754c_row10_col2\" class=\"data row10 col2\" >/</td>\n",
       "    </tr>\n",
       "  </tbody>\n",
       "</table>\n"
      ],
      "text/plain": [
       "<pandas.io.formats.style.Styler at 0x7f179c3c1dc0>"
      ]
     },
     "metadata": {},
     "output_type": "display_data"
    }
   ],
   "source": [
    "note_str = \"\"\n",
    "\n",
    "try:\n",
    "    c_set_list = client.list_kx_changesets(environmentId=ENV_ID, databaseName=DB_NAME)['kxChangesets']\n",
    "except:\n",
    "    note_str = \"<<Could not get changesets>>\"\n",
    "\n",
    "print(100*\"=\")\n",
    "print(f\"Database: {DB_NAME}, Changesets: {len(c_set_list)} {note_str}\")\n",
    "print(100*\"=\")\n",
    "\n",
    "# sort by create time\n",
    "c_set_list = sorted(c_set_list, key=lambda d: d['createdTimestamp']) \n",
    "\n",
    "for c in c_set_list:\n",
    "    c_set_id = c['changesetId']\n",
    "    print(f\"Changeset ({c['status']}): {c_set_id}: Created: {c['createdTimestamp']}\")\n",
    "    c_rqs = client.get_kx_changeset(environmentId=ENV_ID, databaseName=DB_NAME, changesetId=c_set_id)['changeRequests']\n",
    "\n",
    "    chs_pdf = pd.DataFrame.from_dict(c_rqs).style.hide(axis='index')\n",
    "    display(chs_pdf)"
   ]
  },
  {
   "cell_type": "markdown",
   "id": "0eee25f1-cdf7-4310-a869-ef4f2a53cef8",
   "metadata": {},
   "source": [
    "# Deploy code"
   ]
  },
  {
   "cell_type": "code",
   "execution_count": 5,
   "id": "b502a0a5-8610-4fc8-b6b7-04c47e89ba75",
   "metadata": {},
   "outputs": [
    {
     "name": "stdout",
     "output_type": "stream",
     "text": [
      "updating: basictick/ (stored 0%)\n",
      "updating: basictick/connectmkdb.q (deflated 63%)\n",
      "updating: basictick/example.schema.q (deflated 12%)\n",
      "updating: basictick/feedmkdb.q (deflated 53%)\n",
      "updating: basictick/funcDownHandle.q (deflated 33%)\n",
      "updating: basictick/gwmkdbcluster.q (deflated 61%)\n",
      "updating: basictick/hdbmkdb.q (deflated 52%)\n",
      "updating: basictick/loadDep.q (deflated 57%)\n",
      "updating: basictick/query.q (deflated 19%)\n",
      "updating: basictick/rdbmkdb.q (deflated 57%)\n",
      "updating: basictick/tickerplant2 (stored 0%)\n",
      "updating: basictick/tickerplant3 (stored 0%)\n",
      "updating: basictick/tp.q (deflated 52%)\n",
      "updating: basictick/.ipynb_checkpoints/ (stored 0%)\n",
      "updating: basictick/.ipynb_checkpoints/tickerplant3-checkpoint (stored 0%)\n",
      "updating: basictick/.ipynb_checkpoints/tickerplant-checkpoint (stored 0%)\n",
      "updating: basictick/tickerplant (stored 0%)\n",
      "updating: basictick/.ipynb_checkpoints/rdbmkdb-checkpoint.q (deflated 57%)\n",
      "updating: basictick/.ipynb_checkpoints/gwmkdbcluster-checkpoint.q (deflated 61%)\n",
      "upload: ./basictick.zip to s3://kdb-demo-829845998889-kms/code/basictick.zip\n",
      "2023-06-05 21:25:21          0 \n",
      "2023-06-19 23:29:01      10040 basictick.zip\n",
      "2023-06-12 21:28:22        757 code.zip\n"
     ]
    },
    {
     "data": {
      "text/plain": [
       "0"
      ]
     },
     "execution_count": 5,
     "metadata": {},
     "output_type": "execute_result"
    }
   ],
   "source": [
    "if AWS_ACCESS_KEY_ID is not None:\n",
    "    cp = f\"\"\"\n",
    "export AWS_ACCESS_KEY_ID={AWS_ACCESS_KEY_ID}\n",
    "export AWS_SECRET_ACCESS_KEY={AWS_SECRET_ACCESS_KEY}\n",
    "export AWS_SESSION_TOKEN={AWS_SESSION_TOKEN}\n",
    "\n",
    "zip -r -X {CODEBASE}.zip {CODEBASE}    \n",
    "aws s3 cp {CODEBASE}.zip s3://{S3_BUCKET}/{S3_CODE_PATH}/{CODEBASE}.zip\n",
    "aws s3 ls {S3_BUCKET}/{S3_CODE_PATH}/\n",
    "\"\"\"\n",
    "else:\n",
    "    cp = f\"\"\"\n",
    "zip -r -X {CODEBASE}.zip {CODEBASE}    \n",
    "aws s3 cp {CODEBASE}.zip s3://{S3_BUCKET}/{S3_CODE_PATH}/{CODEBASE}.zip\n",
    "aws s3 ls {S3_BUCKET}/{S3_CODE_PATH}/\n",
    "\"\"\"\n",
    "    \n",
    "# execute the S3 copy\n",
    "os.system(cp)"
   ]
  },
  {
   "cell_type": "markdown",
   "id": "67476efe-d308-4158-9e24-8fbe71509f76",
   "metadata": {},
   "source": [
    "## Create Cluster"
   ]
  },
  {
   "cell_type": "code",
   "execution_count": 6,
   "id": "3e39ebf3-6940-40f1-a7f8-90efb3846f7b",
   "metadata": {},
   "outputs": [],
   "source": [
    "resp = client.create_kx_cluster(\n",
    "    environmentId=ENV_ID, \n",
    "    clusterName=RDB_CLUSTER_NAME,\n",
    "    clusterType='RDB',\n",
    "    releaseLabel = '1.0',\n",
    "    databases=DATABASE_CONFIG,\n",
    "    capacityConfiguration=CAPACITY_CONFIG,\n",
    "    savedownStorageConfiguration=SAVEDOWN_CONFIG,\n",
    "    clusterDescription=\"Created with create_RDB notebook\",\n",
    "    code=CODE_CONFIG,\n",
    "    initializationScript=INIT_SCRIPT,\n",
    "    commandLineArguments=CMD_ARGS,\n",
    "    azMode=AZ_MODE,\n",
    "    availabilityZoneId=AZ_ID,\n",
    "    vpcConfiguration={ \n",
    "        'vpcId': VPC_ID,\n",
    "        'securityGroupIds': SECURITY_GROUPS,\n",
    "        'subnetIds': SUBNET_IDS,\n",
    "        'ipAddressType': 'IP_V4' }\n",
    ")"
   ]
  },
  {
   "cell_type": "code",
   "execution_count": 7,
   "id": "f09cb24b-5d6f-455a-9b45-cc9a8733b32c",
   "metadata": {},
   "outputs": [
    {
     "data": {
      "text/plain": [
       "{'ResponseMetadata': {'RequestId': '10090d5c-30b8-466d-916a-b960065e50b2',\n",
       "  'HTTPStatusCode': 200,\n",
       "  'HTTPHeaders': {'content-type': 'application/json',\n",
       "   'content-length': '1114',\n",
       "   'connection': 'keep-alive',\n",
       "   'date': 'Mon, 19 Jun 2023 23:29:06 GMT',\n",
       "   'x-amzn-requestid': '10090d5c-30b8-466d-916a-b960065e50b2',\n",
       "   'x-amz-apigw-id': 'GyitkGXIoAMFY5A=',\n",
       "   'x-amzn-trace-id': 'Root=1-6490e4bc-17f3004e0dd9a4b5595ef837',\n",
       "   'x-cache': 'Miss from cloudfront',\n",
       "   'via': '1.1 eb30892e0d329aead17e943e1b1cc5ae.cloudfront.net (CloudFront)',\n",
       "   'x-amz-cf-pop': 'IAD55-P1',\n",
       "   'x-amz-cf-id': 'SOycjEvIWaNf-0_A4JSfbBBbBt1i3gb9NlzKu3QpHft2qYW-uAGWkg=='},\n",
       "  'RetryAttempts': 0},\n",
       " 'status': 'PENDING',\n",
       " 'clusterName': 'RDB_basictickdb',\n",
       " 'clusterType': 'RDB',\n",
       " 'databases': [{'databaseName': 'basictickdb',\n",
       "   'cacheConfigurations': [],\n",
       "   'changesetId': '4MRqXexrXcIiOdRfJZbOJQ'}],\n",
       " 'clusterDescription': 'Created with create_RDB notebook',\n",
       " 'capacityConfiguration': {'nodeType': 'kx.s.xlarge', 'nodeCount': 1},\n",
       " 'releaseLabel': '1.0',\n",
       " 'vpcConfiguration': {'vpcId': 'vpc-0fe2b9c50f3ad382f',\n",
       "  'securityGroupIds': ['sg-0c99f1cfb9c3c7fd9'],\n",
       "  'subnetIds': ['subnet-04052219ec25b062b'],\n",
       "  'ipAddressType': 'IP_V4'},\n",
       " 'initializationScript': 'basictick/rdbmkdb.q',\n",
       " 'commandLineArguments': [{'key': 's', 'value': '8'},\n",
       "  {'key': 'dbname', 'value': 'basictickdb'},\n",
       "  {'key': 'codebase', 'value': 'basictick'},\n",
       "  {'key': 'tphostfile', 'value': 'tickerplant'}],\n",
       " 'code': {'s3Bucket': 'kdb-demo-829845998889-kms',\n",
       "  's3Key': 'code/basictick.zip'},\n",
       " 'lastModifiedTimestamp': datetime.datetime(2023, 6, 19, 23, 29, 5, 921000, tzinfo=tzlocal()),\n",
       " 'savedownStorageConfiguration': {'type': 'SDS01', 'size': 400},\n",
       " 'azMode': 'SINGLE',\n",
       " 'availabilityZoneId': 'use1-az6',\n",
       " 'createdTimestamp': datetime.datetime(2023, 6, 19, 23, 29, 5, 897000, tzinfo=tzlocal())}"
      ]
     },
     "execution_count": 7,
     "metadata": {},
     "output_type": "execute_result"
    }
   ],
   "source": [
    "resp"
   ]
  },
  {
   "cell_type": "code",
   "execution_count": 8,
   "id": "e9946083-c9bb-4ecc-afbd-8c20e284ddf5",
   "metadata": {},
   "outputs": [
    {
     "name": "stdout",
     "output_type": "stream",
     "text": [
      "** DONE **\n"
     ]
    }
   ],
   "source": [
    "wait_for_cluster_status(client, environmentId=ENV_ID, clusterName=RDB_CLUSTER_NAME)\n",
    "print(\"** DONE **\")"
   ]
  },
  {
   "cell_type": "code",
   "execution_count": 9,
   "id": "1c50c578-05e8-49e7-8deb-1f6b94b10221",
   "metadata": {},
   "outputs": [
    {
     "data": {
      "text/html": [
       "<style type=\"text/css\">\n",
       "</style>\n",
       "<table id=\"T_d0420\">\n",
       "  <thead>\n",
       "    <tr>\n",
       "      <th id=\"T_d0420_level0_col0\" class=\"col_heading level0 col0\" >clusterName</th>\n",
       "      <th id=\"T_d0420_level0_col1\" class=\"col_heading level0 col1\" >status</th>\n",
       "      <th id=\"T_d0420_level0_col2\" class=\"col_heading level0 col2\" >clusterType</th>\n",
       "      <th id=\"T_d0420_level0_col3\" class=\"col_heading level0 col3\" >capacityConfiguration</th>\n",
       "      <th id=\"T_d0420_level0_col4\" class=\"col_heading level0 col4\" >commandLineArguments</th>\n",
       "      <th id=\"T_d0420_level0_col5\" class=\"col_heading level0 col5\" >clusterDescription</th>\n",
       "      <th id=\"T_d0420_level0_col6\" class=\"col_heading level0 col6\" >lastModifiedTimestamp</th>\n",
       "      <th id=\"T_d0420_level0_col7\" class=\"col_heading level0 col7\" >createdTimestamp</th>\n",
       "      <th id=\"T_d0420_level0_col8\" class=\"col_heading level0 col8\" >databaseName</th>\n",
       "      <th id=\"T_d0420_level0_col9\" class=\"col_heading level0 col9\" >cacheConfigurations</th>\n",
       "    </tr>\n",
       "  </thead>\n",
       "  <tbody>\n",
       "    <tr>\n",
       "      <td id=\"T_d0420_row0_col0\" class=\"data row0 col0\" >RDB_basictickdb</td>\n",
       "      <td id=\"T_d0420_row0_col1\" class=\"data row0 col1\" >RUNNING</td>\n",
       "      <td id=\"T_d0420_row0_col2\" class=\"data row0 col2\" >RDB</td>\n",
       "      <td id=\"T_d0420_row0_col3\" class=\"data row0 col3\" >{'nodeType': 'kx.s.xlarge', 'nodeCount': 1}</td>\n",
       "      <td id=\"T_d0420_row0_col4\" class=\"data row0 col4\" >[{'key': 's', 'value': '8'}, {'key': 'dbname', 'value': 'basictickdb'}, {'key': 'codebase', 'value': 'basictick'}, {'key': 'tphostfile', 'value': 'tickerplant'}]</td>\n",
       "      <td id=\"T_d0420_row0_col5\" class=\"data row0 col5\" >Created with create_RDB notebook</td>\n",
       "      <td id=\"T_d0420_row0_col6\" class=\"data row0 col6\" >2023-06-19 23:41:42.054000+00:00</td>\n",
       "      <td id=\"T_d0420_row0_col7\" class=\"data row0 col7\" >2023-06-19 23:29:05.897000+00:00</td>\n",
       "      <td id=\"T_d0420_row0_col8\" class=\"data row0 col8\" >basictickdb</td>\n",
       "      <td id=\"T_d0420_row0_col9\" class=\"data row0 col9\" >[]</td>\n",
       "    </tr>\n",
       "  </tbody>\n",
       "</table>\n"
      ],
      "text/plain": [
       "<pandas.io.formats.style.Styler at 0x7f1763076e50>"
      ]
     },
     "metadata": {},
     "output_type": "display_data"
    }
   ],
   "source": [
    "cdf = get_clusters(client, ENV_ID, clusterType=\"RDB\")\n",
    "\n",
    "display(cdf)"
   ]
  },
  {
   "cell_type": "code",
   "execution_count": 10,
   "id": "86f33240-bb12-49f3-8d9c-5783c25eb182",
   "metadata": {},
   "outputs": [
    {
     "name": "stdout",
     "output_type": "stream",
     "text": [
      "Last Run: 2023-06-19 23:41:46.575495\n"
     ]
    }
   ],
   "source": [
    "print( f\"Last Run: {datetime.datetime.now()}\" )"
   ]
  },
  {
   "cell_type": "code",
   "execution_count": null,
   "id": "e4f0d8e3-7a79-4f5d-b68b-c7e5b44c6685",
   "metadata": {},
   "outputs": [],
   "source": []
  }
 ],
 "metadata": {
  "kernelspec": {
   "display_name": "Python 3 (ipykernel)",
   "language": "python",
   "name": "python3"
  },
  "language_info": {
   "codemirror_mode": {
    "name": "ipython",
    "version": 3
   },
   "file_extension": ".py",
   "mimetype": "text/x-python",
   "name": "python",
   "nbconvert_exporter": "python",
   "pygments_lexer": "ipython3",
   "version": "3.9.12"
  }
 },
 "nbformat": 4,
 "nbformat_minor": 5
}
