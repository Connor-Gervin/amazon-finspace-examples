{
 "cells": [
  {
   "cell_type": "markdown",
   "id": "1334d92e-34f4-448c-b6af-73cba89e9d6d",
   "metadata": {},
   "source": [
    "# PyKX Query Components\n",
    "Query all components, RDB, HDB, and Gateway.\n"
   ]
  },
  {
   "cell_type": "code",
   "execution_count": 1,
   "id": "11e9b62a-9cda-4a57-99ca-3b13aff6b7f3",
   "metadata": {},
   "outputs": [],
   "source": [
    "import warnings\n",
    "warnings.simplefilter(action='ignore', category=FutureWarning)\n",
    "\n",
    "import os\n",
    "import boto3\n",
    "import json\n",
    "import datetime\n",
    "\n",
    "import pykx as kx\n",
    "\n",
    "from managed_kx import *\n",
    "from env_kdb_1 import *\n",
    "\n",
    "from basictick_setup import *"
   ]
  },
  {
   "cell_type": "code",
   "execution_count": 2,
   "id": "cb429a9f-e8a4-41d2-8572-c4e8a49ad387",
   "metadata": {},
   "outputs": [
    {
     "name": "stdout",
     "output_type": "stream",
     "text": [
      "Using variables ...\n"
     ]
    }
   ],
   "source": [
    "# triggers credential get\n",
    "session=None\n",
    "\n",
    "try:\n",
    "    # aws: use ada for credentials\n",
    "    subprocess.call([\"which\", \"ada\"])\n",
    "    os.system(f\"ada credentials update --account={ACCOUNT_ID} --provider=isengard --role=Admin --once\")\n",
    "except: \n",
    "    None\n",
    "\n",
    "if AWS_ACCESS_KEY_ID is None:\n",
    "    print(\"Using Defaults ...\")\n",
    "    # create AWS session: using access variables\n",
    "    session = boto3.Session()\n",
    "else:\n",
    "    print(\"Using variables ...\")\n",
    "    session = boto3.Session(\n",
    "        aws_access_key_id=AWS_ACCESS_KEY_ID,\n",
    "        aws_secret_access_key=AWS_SECRET_ACCESS_KEY,\n",
    "        aws_session_token=AWS_SESSION_TOKEN\n",
    "    )\n",
    "\n",
    "# create finspace client\n",
    "client = session.client(service_name='finspace', endpoint_url=ENDPOINT_URL)"
   ]
  },
  {
   "cell_type": "markdown",
   "id": "32c26a3e-e51e-4981-951b-efca08e20e9a",
   "metadata": {},
   "source": [
    "# Current State of HDB"
   ]
  },
  {
   "cell_type": "code",
   "execution_count": 3,
   "id": "125c2a8e-1880-4043-9230-1089778e5bf8",
   "metadata": {},
   "outputs": [],
   "source": [
    "# Query the HDB\n",
    "hdb = get_pykx_connection(client, \n",
    "                          environmentId=ENV_ID, clusterName=HDB_CLUSTER_NAME, \n",
    "                          userName=KDB_USERNAME, boto_session=session)\n",
    "\n",
    "# Dates and Counts\n",
    "hdb_pdf = hdb(\"select counts:count i by date from example\").pd()\n",
    "\n",
    "# Number of Rows\n",
    "hdb_rows = hdb(\"count example\").py()"
   ]
  },
  {
   "cell_type": "markdown",
   "id": "47a1f5c4-3433-4b06-9ef6-8164ad2fb100",
   "metadata": {},
   "source": [
    "# Current State of RDB"
   ]
  },
  {
   "cell_type": "code",
   "execution_count": 4,
   "id": "3371f4c9-fcd3-46ab-8780-feb58d382a66",
   "metadata": {},
   "outputs": [],
   "source": [
    "# Query the RDB\n",
    "rdb = get_pykx_connection(client, \n",
    "                          environmentId=ENV_ID, clusterName=RDB_CLUSTER_NAME, \n",
    "                          userName=KDB_USERNAME, boto_session=session)\n",
    "\n",
    "# Dates and Counts\n",
    "rdb_head_pdf = rdb(\"select [5] from example\").pd()\n",
    "rdb_tail_pdf = rdb(\"select [-5] from example\").pd()\n",
    "\n",
    "# Number of Rows\n",
    "rdb_rows = rdb(\"count example\").py()"
   ]
  },
  {
   "cell_type": "markdown",
   "id": "ddafebe2-5729-42b2-9598-b304d2af0776",
   "metadata": {},
   "source": [
    "# Current State of GW"
   ]
  },
  {
   "cell_type": "code",
   "execution_count": 5,
   "id": "bd8e25b3-629e-4b4f-82b8-f0895a1907e2",
   "metadata": {},
   "outputs": [],
   "source": [
    "# Query the HDB\n",
    "gw = get_pykx_connection(client, \n",
    "                          environmentId=ENV_ID, clusterName=GW_CLUSTER_NAME, \n",
    "                          userName=KDB_USERNAME, boto_session=session)"
   ]
  },
  {
   "cell_type": "code",
   "execution_count": 6,
   "id": "4c09a5be-ce4a-43bf-a6df-3305b3f9332e",
   "metadata": {},
   "outputs": [
    {
     "data": {
      "text/html": [
       "<div>\n",
       "<style scoped>\n",
       "    .dataframe tbody tr th:only-of-type {\n",
       "        vertical-align: middle;\n",
       "    }\n",
       "\n",
       "    .dataframe tbody tr th {\n",
       "        vertical-align: top;\n",
       "    }\n",
       "\n",
       "    .dataframe thead th {\n",
       "        text-align: right;\n",
       "    }\n",
       "</style>\n",
       "<table border=\"1\" class=\"dataframe\">\n",
       "  <thead>\n",
       "    <tr style=\"text-align: right;\">\n",
       "      <th></th>\n",
       "      <th>process</th>\n",
       "      <th>handle</th>\n",
       "      <th>connected</th>\n",
       "      <th>address</th>\n",
       "    </tr>\n",
       "  </thead>\n",
       "  <tbody>\n",
       "    <tr>\n",
       "      <th>0</th>\n",
       "      <td>rdb</td>\n",
       "      <td>7</td>\n",
       "      <td>True</td>\n",
       "      <td>:ip-192-168-12-16.ec2.internal:5000:GATEWAY_basictickdb:Host=ip-192-168-12-16.ec2.internal&amp;Port=5000&amp;User=GATE...</td>\n",
       "    </tr>\n",
       "    <tr>\n",
       "      <th>1</th>\n",
       "      <td>hdb</td>\n",
       "      <td>9</td>\n",
       "      <td>True</td>\n",
       "      <td>:ip-192-168-5-194.ec2.internal:5000:GATEWAY_basictickdb:Host=ip-192-168-5-194.ec2.internal&amp;Port=5000&amp;User=GATE...</td>\n",
       "    </tr>\n",
       "    <tr>\n",
       "      <th>2</th>\n",
       "      <td>hdb</td>\n",
       "      <td>10</td>\n",
       "      <td>True</td>\n",
       "      <td>:ip-192-168-4-43.ec2.internal:5000:GATEWAY_basictickdb:Host=ip-192-168-4-43.ec2.internal&amp;Port=5000&amp;User=GATEWA...</td>\n",
       "    </tr>\n",
       "  </tbody>\n",
       "</table>\n",
       "</div>"
      ],
      "text/plain": [
       "  process  handle  connected  \\\n",
       "0     rdb       7       True   \n",
       "1     hdb       9       True   \n",
       "2     hdb      10       True   \n",
       "\n",
       "                                                                                                             address  \n",
       "0  :ip-192-168-12-16.ec2.internal:5000:GATEWAY_basictickdb:Host=ip-192-168-12-16.ec2.internal&Port=5000&User=GATE...  \n",
       "1  :ip-192-168-5-194.ec2.internal:5000:GATEWAY_basictickdb:Host=ip-192-168-5-194.ec2.internal&Port=5000&User=GATE...  \n",
       "2  :ip-192-168-4-43.ec2.internal:5000:GATEWAY_basictickdb:Host=ip-192-168-4-43.ec2.internal&Port=5000&User=GATEWA...  "
      ]
     },
     "metadata": {},
     "output_type": "display_data"
    }
   ],
   "source": [
    "proc_pdf = gw(\"select process, handle, connected, address from .conn.procs\").pd()\n",
    "\n",
    "# are any processes not connected?\n",
    "if len(proc_pdf[proc_pdf.connected == False].index) > 0:\n",
    "    print(\"reinit Gateway\")\n",
    "    gw(\"reinit[hdb_name; rdb_name]\")\n",
    "    proc_pdf = gw(\"select process, handle, connected, address from .conn.procs\").pd()\n",
    "\n",
    "# truncate with elipsis\n",
    "proc_pdf['address'] = proc_pdf['address'].str.slice(0,110)+\"...\"\n",
    "\n",
    "display(proc_pdf)"
   ]
  },
  {
   "cell_type": "code",
   "execution_count": 7,
   "id": "728e4415-82c8-4700-ac13-6c76b5d36e4e",
   "metadata": {},
   "outputs": [],
   "source": [
    "gw(\"res: `time xasc queryData[`example;`]\").pd()\n",
    "\n",
    "gw_pdf = gw(\"res\").pd()\n",
    "gw_head_pdf = gw(\"select [5] from res\").pd()\n",
    "gw_tail_pdf = gw(\"select [-5] from res\").pd()\n",
    "\n",
    "# Number of Rows\n",
    "gw_rows = len(gw_pdf.index)"
   ]
  },
  {
   "cell_type": "markdown",
   "id": "d797007e-355b-4fee-9c6e-a11273d27d76",
   "metadata": {},
   "source": [
    "# HDB Contents"
   ]
  },
  {
   "cell_type": "code",
   "execution_count": 8,
   "id": "f6107bbb-e8fd-46df-97a1-6033d628f38b",
   "metadata": {},
   "outputs": [
    {
     "data": {
      "text/html": [
       "<div>\n",
       "<style scoped>\n",
       "    .dataframe tbody tr th:only-of-type {\n",
       "        vertical-align: middle;\n",
       "    }\n",
       "\n",
       "    .dataframe tbody tr th {\n",
       "        vertical-align: top;\n",
       "    }\n",
       "\n",
       "    .dataframe thead th {\n",
       "        text-align: right;\n",
       "    }\n",
       "</style>\n",
       "<table border=\"1\" class=\"dataframe\">\n",
       "  <thead>\n",
       "    <tr style=\"text-align: right;\">\n",
       "      <th></th>\n",
       "      <th>counts</th>\n",
       "    </tr>\n",
       "    <tr>\n",
       "      <th>date</th>\n",
       "      <th></th>\n",
       "    </tr>\n",
       "  </thead>\n",
       "  <tbody>\n",
       "    <tr>\n",
       "      <th>2023-04-14</th>\n",
       "      <td>1000000</td>\n",
       "    </tr>\n",
       "    <tr>\n",
       "      <th>2023-04-15</th>\n",
       "      <td>1000000</td>\n",
       "    </tr>\n",
       "    <tr>\n",
       "      <th>2023-04-16</th>\n",
       "      <td>1000000</td>\n",
       "    </tr>\n",
       "    <tr>\n",
       "      <th>2023-04-17</th>\n",
       "      <td>1000000</td>\n",
       "    </tr>\n",
       "    <tr>\n",
       "      <th>2023-04-18</th>\n",
       "      <td>1000000</td>\n",
       "    </tr>\n",
       "    <tr>\n",
       "      <th>2023-04-19</th>\n",
       "      <td>1000000</td>\n",
       "    </tr>\n",
       "    <tr>\n",
       "      <th>2023-04-20</th>\n",
       "      <td>1000000</td>\n",
       "    </tr>\n",
       "    <tr>\n",
       "      <th>2023-04-21</th>\n",
       "      <td>1000000</td>\n",
       "    </tr>\n",
       "    <tr>\n",
       "      <th>2023-04-22</th>\n",
       "      <td>1000000</td>\n",
       "    </tr>\n",
       "    <tr>\n",
       "      <th>2023-04-23</th>\n",
       "      <td>1000000</td>\n",
       "    </tr>\n",
       "  </tbody>\n",
       "</table>\n",
       "</div>"
      ],
      "text/plain": [
       "             counts\n",
       "date               \n",
       "2023-04-14  1000000\n",
       "2023-04-15  1000000\n",
       "2023-04-16  1000000\n",
       "2023-04-17  1000000\n",
       "2023-04-18  1000000\n",
       "2023-04-19  1000000\n",
       "2023-04-20  1000000\n",
       "2023-04-21  1000000\n",
       "2023-04-22  1000000\n",
       "2023-04-23  1000000"
      ]
     },
     "metadata": {},
     "output_type": "display_data"
    },
    {
     "name": "stdout",
     "output_type": "stream",
     "text": [
      "Rows: 10,000,000\n"
     ]
    }
   ],
   "source": [
    "display(hdb_pdf)\n",
    "\n",
    "# Number of Rows\n",
    "print(f\"Rows: {hdb_rows:,}\")"
   ]
  },
  {
   "cell_type": "markdown",
   "id": "6569399c-4be5-43fa-bb73-1fbab9895fbc",
   "metadata": {},
   "source": [
    "# RDB Contents"
   ]
  },
  {
   "cell_type": "code",
   "execution_count": 9,
   "id": "ffd15de4-c777-42e1-bf6f-e951abd16b82",
   "metadata": {},
   "outputs": [
    {
     "data": {
      "text/html": [
       "<div>\n",
       "<style scoped>\n",
       "    .dataframe tbody tr th:only-of-type {\n",
       "        vertical-align: middle;\n",
       "    }\n",
       "\n",
       "    .dataframe tbody tr th {\n",
       "        vertical-align: top;\n",
       "    }\n",
       "\n",
       "    .dataframe thead th {\n",
       "        text-align: right;\n",
       "    }\n",
       "</style>\n",
       "<table border=\"1\" class=\"dataframe\">\n",
       "  <thead>\n",
       "    <tr style=\"text-align: right;\">\n",
       "      <th></th>\n",
       "      <th>sym</th>\n",
       "      <th>time</th>\n",
       "      <th>number</th>\n",
       "    </tr>\n",
       "  </thead>\n",
       "  <tbody>\n",
       "    <tr>\n",
       "      <th>0</th>\n",
       "      <td>ikc</td>\n",
       "      <td>2023-06-19 23:36:40.873033934</td>\n",
       "      <td>4</td>\n",
       "    </tr>\n",
       "    <tr>\n",
       "      <th>1</th>\n",
       "      <td>pep</td>\n",
       "      <td>2023-06-19 23:36:40.873033934</td>\n",
       "      <td>13</td>\n",
       "    </tr>\n",
       "    <tr>\n",
       "      <th>2</th>\n",
       "      <td>pmh</td>\n",
       "      <td>2023-06-19 23:36:40.873033934</td>\n",
       "      <td>37</td>\n",
       "    </tr>\n",
       "    <tr>\n",
       "      <th>3</th>\n",
       "      <td>akd</td>\n",
       "      <td>2023-06-19 23:36:40.873033934</td>\n",
       "      <td>5</td>\n",
       "    </tr>\n",
       "    <tr>\n",
       "      <th>4</th>\n",
       "      <td>dio</td>\n",
       "      <td>2023-06-19 23:36:40.873033934</td>\n",
       "      <td>50</td>\n",
       "    </tr>\n",
       "  </tbody>\n",
       "</table>\n",
       "</div>"
      ],
      "text/plain": [
       "   sym                          time  number\n",
       "0  ikc 2023-06-19 23:36:40.873033934       4\n",
       "1  pep 2023-06-19 23:36:40.873033934      13\n",
       "2  pmh 2023-06-19 23:36:40.873033934      37\n",
       "3  akd 2023-06-19 23:36:40.873033934       5\n",
       "4  dio 2023-06-19 23:36:40.873033934      50"
      ]
     },
     "metadata": {},
     "output_type": "display_data"
    },
    {
     "data": {
      "text/html": [
       "<div>\n",
       "<style scoped>\n",
       "    .dataframe tbody tr th:only-of-type {\n",
       "        vertical-align: middle;\n",
       "    }\n",
       "\n",
       "    .dataframe tbody tr th {\n",
       "        vertical-align: top;\n",
       "    }\n",
       "\n",
       "    .dataframe thead th {\n",
       "        text-align: right;\n",
       "    }\n",
       "</style>\n",
       "<table border=\"1\" class=\"dataframe\">\n",
       "  <thead>\n",
       "    <tr style=\"text-align: right;\">\n",
       "      <th></th>\n",
       "      <th>sym</th>\n",
       "      <th>time</th>\n",
       "      <th>number</th>\n",
       "    </tr>\n",
       "  </thead>\n",
       "  <tbody>\n",
       "    <tr>\n",
       "      <th>0</th>\n",
       "      <td>dgh</td>\n",
       "      <td>2023-06-20 00:04:31.843041421</td>\n",
       "      <td>46</td>\n",
       "    </tr>\n",
       "    <tr>\n",
       "      <th>1</th>\n",
       "      <td>kcf</td>\n",
       "      <td>2023-06-20 00:04:31.843041421</td>\n",
       "      <td>8</td>\n",
       "    </tr>\n",
       "    <tr>\n",
       "      <th>2</th>\n",
       "      <td>pdm</td>\n",
       "      <td>2023-06-20 00:04:31.853059579</td>\n",
       "      <td>78</td>\n",
       "    </tr>\n",
       "    <tr>\n",
       "      <th>3</th>\n",
       "      <td>nno</td>\n",
       "      <td>2023-06-20 00:04:31.853059579</td>\n",
       "      <td>72</td>\n",
       "    </tr>\n",
       "    <tr>\n",
       "      <th>4</th>\n",
       "      <td>gfl</td>\n",
       "      <td>2023-06-20 00:04:31.863055501</td>\n",
       "      <td>12</td>\n",
       "    </tr>\n",
       "  </tbody>\n",
       "</table>\n",
       "</div>"
      ],
      "text/plain": [
       "   sym                          time  number\n",
       "0  dgh 2023-06-20 00:04:31.843041421      46\n",
       "1  kcf 2023-06-20 00:04:31.843041421       8\n",
       "2  pdm 2023-06-20 00:04:31.853059579      78\n",
       "3  nno 2023-06-20 00:04:31.853059579      72\n",
       "4  gfl 2023-06-20 00:04:31.863055501      12"
      ]
     },
     "metadata": {},
     "output_type": "display_data"
    },
    {
     "name": "stdout",
     "output_type": "stream",
     "text": [
      "Rows: 752,817\n"
     ]
    }
   ],
   "source": [
    "display(rdb_head_pdf)\n",
    "display(rdb_tail_pdf)\n",
    "\n",
    "# Number of Rows\n",
    "print(f\"Rows: {rdb_rows:,}\")"
   ]
  },
  {
   "cell_type": "markdown",
   "id": "8c3c2616-72f0-4263-bc1d-68ec636f45c4",
   "metadata": {},
   "source": [
    "# GW Contents"
   ]
  },
  {
   "cell_type": "code",
   "execution_count": 10,
   "id": "c7c67a6b-01bf-4918-83e6-61d90a549b03",
   "metadata": {},
   "outputs": [
    {
     "data": {
      "text/html": [
       "<div>\n",
       "<style scoped>\n",
       "    .dataframe tbody tr th:only-of-type {\n",
       "        vertical-align: middle;\n",
       "    }\n",
       "\n",
       "    .dataframe tbody tr th {\n",
       "        vertical-align: top;\n",
       "    }\n",
       "\n",
       "    .dataframe thead th {\n",
       "        text-align: right;\n",
       "    }\n",
       "</style>\n",
       "<table border=\"1\" class=\"dataframe\">\n",
       "  <thead>\n",
       "    <tr style=\"text-align: right;\">\n",
       "      <th></th>\n",
       "      <th>sym</th>\n",
       "      <th>time</th>\n",
       "      <th>number</th>\n",
       "    </tr>\n",
       "  </thead>\n",
       "  <tbody>\n",
       "    <tr>\n",
       "      <th>0</th>\n",
       "      <td>aaa</td>\n",
       "      <td>2023-04-14 23:17:28.473</td>\n",
       "      <td>53231</td>\n",
       "    </tr>\n",
       "    <tr>\n",
       "      <th>1</th>\n",
       "      <td>aaa</td>\n",
       "      <td>2023-04-14 23:17:28.473</td>\n",
       "      <td>153560</td>\n",
       "    </tr>\n",
       "    <tr>\n",
       "      <th>2</th>\n",
       "      <td>aaa</td>\n",
       "      <td>2023-04-14 23:17:28.473</td>\n",
       "      <td>449428</td>\n",
       "    </tr>\n",
       "    <tr>\n",
       "      <th>3</th>\n",
       "      <td>aaa</td>\n",
       "      <td>2023-04-14 23:17:28.473</td>\n",
       "      <td>631966</td>\n",
       "    </tr>\n",
       "    <tr>\n",
       "      <th>4</th>\n",
       "      <td>aaa</td>\n",
       "      <td>2023-04-14 23:17:28.473</td>\n",
       "      <td>941566</td>\n",
       "    </tr>\n",
       "  </tbody>\n",
       "</table>\n",
       "</div>"
      ],
      "text/plain": [
       "   sym                    time  number\n",
       "0  aaa 2023-04-14 23:17:28.473   53231\n",
       "1  aaa 2023-04-14 23:17:28.473  153560\n",
       "2  aaa 2023-04-14 23:17:28.473  449428\n",
       "3  aaa 2023-04-14 23:17:28.473  631966\n",
       "4  aaa 2023-04-14 23:17:28.473  941566"
      ]
     },
     "metadata": {},
     "output_type": "display_data"
    },
    {
     "data": {
      "text/html": [
       "<div>\n",
       "<style scoped>\n",
       "    .dataframe tbody tr th:only-of-type {\n",
       "        vertical-align: middle;\n",
       "    }\n",
       "\n",
       "    .dataframe tbody tr th {\n",
       "        vertical-align: top;\n",
       "    }\n",
       "\n",
       "    .dataframe thead th {\n",
       "        text-align: right;\n",
       "    }\n",
       "</style>\n",
       "<table border=\"1\" class=\"dataframe\">\n",
       "  <thead>\n",
       "    <tr style=\"text-align: right;\">\n",
       "      <th></th>\n",
       "      <th>sym</th>\n",
       "      <th>time</th>\n",
       "      <th>number</th>\n",
       "    </tr>\n",
       "  </thead>\n",
       "  <tbody>\n",
       "    <tr>\n",
       "      <th>0</th>\n",
       "      <td>ieh</td>\n",
       "      <td>2023-06-20 00:04:32.843016875</td>\n",
       "      <td>27</td>\n",
       "    </tr>\n",
       "    <tr>\n",
       "      <th>1</th>\n",
       "      <td>epm</td>\n",
       "      <td>2023-06-20 00:04:32.843016875</td>\n",
       "      <td>21</td>\n",
       "    </tr>\n",
       "    <tr>\n",
       "      <th>2</th>\n",
       "      <td>dng</td>\n",
       "      <td>2023-06-20 00:04:32.853017038</td>\n",
       "      <td>2</td>\n",
       "    </tr>\n",
       "    <tr>\n",
       "      <th>3</th>\n",
       "      <td>dhe</td>\n",
       "      <td>2023-06-20 00:04:32.853017038</td>\n",
       "      <td>41</td>\n",
       "    </tr>\n",
       "    <tr>\n",
       "      <th>4</th>\n",
       "      <td>edm</td>\n",
       "      <td>2023-06-20 00:04:32.853017038</td>\n",
       "      <td>30</td>\n",
       "    </tr>\n",
       "  </tbody>\n",
       "</table>\n",
       "</div>"
      ],
      "text/plain": [
       "   sym                          time  number\n",
       "0  ieh 2023-06-20 00:04:32.843016875      27\n",
       "1  epm 2023-06-20 00:04:32.843016875      21\n",
       "2  dng 2023-06-20 00:04:32.853017038       2\n",
       "3  dhe 2023-06-20 00:04:32.853017038      41\n",
       "4  edm 2023-06-20 00:04:32.853017038      30"
      ]
     },
     "metadata": {},
     "output_type": "display_data"
    },
    {
     "name": "stdout",
     "output_type": "stream",
     "text": [
      "Rows: 10,753,291\n"
     ]
    }
   ],
   "source": [
    "display(gw_head_pdf)\n",
    "display(gw_tail_pdf)\n",
    "\n",
    "# Number of Rows\n",
    "print(f\"Rows: {gw_rows:,}\")\n",
    "\n",
    "# Note: RDB will have less than GW  b/c data is always arriving to the RDB\n",
    "# RDB alone was queried first and then again as part of GW query"
   ]
  },
  {
   "cell_type": "code",
   "execution_count": 11,
   "id": "70e7ef98-be09-4d93-ae90-2e957732de4e",
   "metadata": {},
   "outputs": [
    {
     "name": "stdout",
     "output_type": "stream",
     "text": [
      "Last Run: 2023-06-20 00:04:36.788252\n"
     ]
    }
   ],
   "source": [
    "print( f\"Last Run: {datetime.datetime.now()}\" )"
   ]
  },
  {
   "cell_type": "code",
   "execution_count": null,
   "id": "bb043fc0-7d7b-421f-aa0c-727aac8574d2",
   "metadata": {},
   "outputs": [],
   "source": []
  }
 ],
 "metadata": {
  "kernelspec": {
   "display_name": "Python 3 (ipykernel)",
   "language": "python",
   "name": "python3"
  },
  "language_info": {
   "codemirror_mode": {
    "name": "ipython",
    "version": 3
   },
   "file_extension": ".py",
   "mimetype": "text/x-python",
   "name": "python",
   "nbconvert_exporter": "python",
   "pygments_lexer": "ipython3",
   "version": "3.9.12"
  }
 },
 "nbformat": 4,
 "nbformat_minor": 5
}
