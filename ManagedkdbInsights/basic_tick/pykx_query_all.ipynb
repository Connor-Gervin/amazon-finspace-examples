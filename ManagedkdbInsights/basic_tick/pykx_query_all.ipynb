{
 "cells": [
  {
   "cell_type": "markdown",
   "id": "1334d92e-34f4-448c-b6af-73cba89e9d6d",
   "metadata": {},
   "source": [
    "# PyKX Query Components\n",
    "Query all components, RDB, HDB, and Gateway.\n"
   ]
  },
  {
   "cell_type": "code",
   "execution_count": 1,
   "id": "70267544-cb1a-4d6d-90f0-46381049022b",
   "metadata": {},
   "outputs": [],
   "source": [
    "# clusters\n",
    "RDB_CLUSTER_NAME=\"RDB_basictickdb_20230606\"\n",
    "HDB_CLUSTER_NAME=\"HDB_basictickdb_20230606\"\n",
    "GW_CLUSTER_NAME =\"GATEWAY_20230606\"\n"
   ]
  },
  {
   "cell_type": "code",
   "execution_count": 2,
   "id": "11e9b62a-9cda-4a57-99ca-3b13aff6b7f3",
   "metadata": {},
   "outputs": [],
   "source": [
    "import warnings\n",
    "warnings.simplefilter(action='ignore', category=FutureWarning)\n",
    "\n",
    "import os\n",
    "import boto3\n",
    "import json\n",
    "import datetime\n",
    "\n",
    "import pykx as kx\n",
    "\n",
    "from managed_kx import *\n",
    "from env_2 import *\n"
   ]
  },
  {
   "cell_type": "code",
   "execution_count": 3,
   "id": "cb429a9f-e8a4-41d2-8572-c4e8a49ad387",
   "metadata": {},
   "outputs": [
    {
     "name": "stdout",
     "output_type": "stream",
     "text": [
      "Using variables ...\n"
     ]
    }
   ],
   "source": [
    "# triggers credential get\n",
    "session=None\n",
    "\n",
    "try:\n",
    "    # aws: use ada for credentials\n",
    "    subprocess.call([\"which\", \"ada\"])\n",
    "    os.system(f\"ada credentials update --account={ACCOUNT_ID} --provider=isengard --role=Admin --once\")\n",
    "except: \n",
    "    None\n",
    "\n",
    "if AWS_ACCESS_KEY_ID is None:\n",
    "    print(\"Using Defaults ...\")\n",
    "    # create AWS session: using access variables\n",
    "    session = boto3.Session()\n",
    "else:\n",
    "    print(\"Using variables ...\")\n",
    "    session = boto3.Session(\n",
    "        aws_access_key_id=AWS_ACCESS_KEY_ID,\n",
    "        aws_secret_access_key=AWS_SECRET_ACCESS_KEY,\n",
    "        aws_session_token=AWS_SESSION_TOKEN\n",
    "    )\n",
    "\n",
    "# create finspace client\n",
    "client = session.client(service_name='finspace', endpoint_url=ENDPOINT_URL)"
   ]
  },
  {
   "cell_type": "markdown",
   "id": "32c26a3e-e51e-4981-951b-efca08e20e9a",
   "metadata": {},
   "source": [
    "# Current State of HDB"
   ]
  },
  {
   "cell_type": "code",
   "execution_count": 4,
   "id": "125c2a8e-1880-4043-9230-1089778e5bf8",
   "metadata": {},
   "outputs": [],
   "source": [
    "# Query the HDB\n",
    "hdb = get_pykx_connection(client, \n",
    "                          environmentId=ENV_ID, clusterName=HDB_CLUSTER_NAME, \n",
    "                          userName=KDB_USERNAME, boto_session=session)\n",
    "\n",
    "# Dates and Counts\n",
    "hdb_pdf = hdb(\"select counts:count i by date from example\").pd()\n",
    "\n",
    "# Number of Rows\n",
    "hdb_rows = hdb(\"count example\").py()"
   ]
  },
  {
   "cell_type": "markdown",
   "id": "47a1f5c4-3433-4b06-9ef6-8164ad2fb100",
   "metadata": {},
   "source": [
    "# Current State of RDB"
   ]
  },
  {
   "cell_type": "code",
   "execution_count": 5,
   "id": "3371f4c9-fcd3-46ab-8780-feb58d382a66",
   "metadata": {},
   "outputs": [],
   "source": [
    "# Query the RDB\n",
    "rdb = get_pykx_connection(client, \n",
    "                          environmentId=ENV_ID, clusterName=RDB_CLUSTER_NAME, \n",
    "                          userName=KDB_USERNAME, boto_session=session)\n",
    "\n",
    "# Dates and Counts\n",
    "rdb_head_pdf = rdb(\"select [5] from example\").pd()\n",
    "rdb_tail_pdf = rdb(\"select [-5] from example\").pd()\n",
    "\n",
    "# Number of Rows\n",
    "rdb_rows = rdb(\"count example\").py()"
   ]
  },
  {
   "cell_type": "markdown",
   "id": "ddafebe2-5729-42b2-9598-b304d2af0776",
   "metadata": {},
   "source": [
    "# Current State of GW"
   ]
  },
  {
   "cell_type": "code",
   "execution_count": 6,
   "id": "bd8e25b3-629e-4b4f-82b8-f0895a1907e2",
   "metadata": {},
   "outputs": [],
   "source": [
    "# Query the HDB\n",
    "gw = get_pykx_connection(client, \n",
    "                          environmentId=ENV_ID, clusterName=GW_CLUSTER_NAME, \n",
    "                          userName=KDB_USERNAME, boto_session=session)"
   ]
  },
  {
   "cell_type": "code",
   "execution_count": 7,
   "id": "4c09a5be-ce4a-43bf-a6df-3305b3f9332e",
   "metadata": {},
   "outputs": [
    {
     "data": {
      "text/html": [
       "<div>\n",
       "<style scoped>\n",
       "    .dataframe tbody tr th:only-of-type {\n",
       "        vertical-align: middle;\n",
       "    }\n",
       "\n",
       "    .dataframe tbody tr th {\n",
       "        vertical-align: top;\n",
       "    }\n",
       "\n",
       "    .dataframe thead th {\n",
       "        text-align: right;\n",
       "    }\n",
       "</style>\n",
       "<table border=\"1\" class=\"dataframe\">\n",
       "  <thead>\n",
       "    <tr style=\"text-align: right;\">\n",
       "      <th></th>\n",
       "      <th>process</th>\n",
       "      <th>handle</th>\n",
       "      <th>connected</th>\n",
       "      <th>address</th>\n",
       "    </tr>\n",
       "  </thead>\n",
       "  <tbody>\n",
       "    <tr>\n",
       "      <th>0</th>\n",
       "      <td>rdb</td>\n",
       "      <td>42</td>\n",
       "      <td>True</td>\n",
       "      <td>:ip-192-168-2-98.ec2.internal:5000:GATEWAY_20230606:Host=ip-192-168-2-98.ec2.internal&amp;Port=5000&amp;User...</td>\n",
       "    </tr>\n",
       "    <tr>\n",
       "      <th>1</th>\n",
       "      <td>hdb</td>\n",
       "      <td>43</td>\n",
       "      <td>True</td>\n",
       "      <td>:ip-192-168-6-13.ec2.internal:5000:GATEWAY_20230606:Host=ip-192-168-6-13.ec2.internal&amp;Port=5000&amp;User...</td>\n",
       "    </tr>\n",
       "    <tr>\n",
       "      <th>2</th>\n",
       "      <td>hdb</td>\n",
       "      <td>44</td>\n",
       "      <td>True</td>\n",
       "      <td>:ip-192-168-4-47.ec2.internal:5000:GATEWAY_20230606:Host=ip-192-168-4-47.ec2.internal&amp;Port=5000&amp;User...</td>\n",
       "    </tr>\n",
       "  </tbody>\n",
       "</table>\n",
       "</div>"
      ],
      "text/plain": [
       "  process  handle  connected  \\\n",
       "0     rdb      42       True   \n",
       "1     hdb      43       True   \n",
       "2     hdb      44       True   \n",
       "\n",
       "                                                                                                   address  \n",
       "0  :ip-192-168-2-98.ec2.internal:5000:GATEWAY_20230606:Host=ip-192-168-2-98.ec2.internal&Port=5000&User...  \n",
       "1  :ip-192-168-6-13.ec2.internal:5000:GATEWAY_20230606:Host=ip-192-168-6-13.ec2.internal&Port=5000&User...  \n",
       "2  :ip-192-168-4-47.ec2.internal:5000:GATEWAY_20230606:Host=ip-192-168-4-47.ec2.internal&Port=5000&User...  "
      ]
     },
     "metadata": {},
     "output_type": "display_data"
    }
   ],
   "source": [
    "proc_pdf = gw(\"select process, handle, connected, address from .conn.procs\").pd()\n",
    "\n",
    "# are any processes not connected?\n",
    "if len(proc_pdf[proc_pdf.connected == False].index) > 0:\n",
    "    gw(\"reinit[hdb_name; rdb_name]\")\n",
    "    proc_pdf = gw(\"select process, handle, connected, address from .conn.procs\").pd()\n",
    "\n",
    "# truncate with elipsis\n",
    "proc_pdf['address'] = proc_pdf['address'].str.slice(0,110)+\"...\"\n",
    "\n",
    "display(proc_pdf)"
   ]
  },
  {
   "cell_type": "code",
   "execution_count": 8,
   "id": "728e4415-82c8-4700-ac13-6c76b5d36e4e",
   "metadata": {},
   "outputs": [],
   "source": [
    "gw(\"res: `time xasc queryData[`example;`]\").pd()\n",
    "\n",
    "gw_pdf = gw(\"res\").pd()\n",
    "gw_head_pdf = gw(\"select [5] from res\").pd()\n",
    "gw_tail_pdf = gw(\"select [-5] from res\").pd()\n",
    "\n",
    "# Number of Rows\n",
    "gw_rows = len(gw_pdf.index)"
   ]
  },
  {
   "cell_type": "markdown",
   "id": "d797007e-355b-4fee-9c6e-a11273d27d76",
   "metadata": {},
   "source": [
    "# HDB Contents"
   ]
  },
  {
   "cell_type": "code",
   "execution_count": 9,
   "id": "f6107bbb-e8fd-46df-97a1-6033d628f38b",
   "metadata": {},
   "outputs": [
    {
     "data": {
      "text/html": [
       "<div>\n",
       "<style scoped>\n",
       "    .dataframe tbody tr th:only-of-type {\n",
       "        vertical-align: middle;\n",
       "    }\n",
       "\n",
       "    .dataframe tbody tr th {\n",
       "        vertical-align: top;\n",
       "    }\n",
       "\n",
       "    .dataframe thead th {\n",
       "        text-align: right;\n",
       "    }\n",
       "</style>\n",
       "<table border=\"1\" class=\"dataframe\">\n",
       "  <thead>\n",
       "    <tr style=\"text-align: right;\">\n",
       "      <th></th>\n",
       "      <th>counts</th>\n",
       "    </tr>\n",
       "    <tr>\n",
       "      <th>date</th>\n",
       "      <th></th>\n",
       "    </tr>\n",
       "  </thead>\n",
       "  <tbody>\n",
       "    <tr>\n",
       "      <th>2023-04-14</th>\n",
       "      <td>1000000</td>\n",
       "    </tr>\n",
       "    <tr>\n",
       "      <th>2023-04-15</th>\n",
       "      <td>1000000</td>\n",
       "    </tr>\n",
       "    <tr>\n",
       "      <th>2023-04-16</th>\n",
       "      <td>1000000</td>\n",
       "    </tr>\n",
       "    <tr>\n",
       "      <th>2023-04-17</th>\n",
       "      <td>1000000</td>\n",
       "    </tr>\n",
       "    <tr>\n",
       "      <th>2023-04-18</th>\n",
       "      <td>1000000</td>\n",
       "    </tr>\n",
       "    <tr>\n",
       "      <th>2023-04-19</th>\n",
       "      <td>1000000</td>\n",
       "    </tr>\n",
       "    <tr>\n",
       "      <th>2023-04-20</th>\n",
       "      <td>1000000</td>\n",
       "    </tr>\n",
       "    <tr>\n",
       "      <th>2023-04-21</th>\n",
       "      <td>1000000</td>\n",
       "    </tr>\n",
       "    <tr>\n",
       "      <th>2023-04-22</th>\n",
       "      <td>1000000</td>\n",
       "    </tr>\n",
       "    <tr>\n",
       "      <th>2023-04-23</th>\n",
       "      <td>1000000</td>\n",
       "    </tr>\n",
       "    <tr>\n",
       "      <th>2023-06-07</th>\n",
       "      <td>9052604</td>\n",
       "    </tr>\n",
       "    <tr>\n",
       "      <th>2023-06-08</th>\n",
       "      <td>916908</td>\n",
       "    </tr>\n",
       "    <tr>\n",
       "      <th>2023-06-09</th>\n",
       "      <td>6028671</td>\n",
       "    </tr>\n",
       "  </tbody>\n",
       "</table>\n",
       "</div>"
      ],
      "text/plain": [
       "             counts\n",
       "date               \n",
       "2023-04-14  1000000\n",
       "2023-04-15  1000000\n",
       "2023-04-16  1000000\n",
       "2023-04-17  1000000\n",
       "2023-04-18  1000000\n",
       "2023-04-19  1000000\n",
       "2023-04-20  1000000\n",
       "2023-04-21  1000000\n",
       "2023-04-22  1000000\n",
       "2023-04-23  1000000\n",
       "2023-06-07  9052604\n",
       "2023-06-08   916908\n",
       "2023-06-09  6028671"
      ]
     },
     "metadata": {},
     "output_type": "display_data"
    },
    {
     "name": "stdout",
     "output_type": "stream",
     "text": [
      "Rows: 25,998,183\n"
     ]
    }
   ],
   "source": [
    "display(hdb_pdf)\n",
    "\n",
    "# Number of Rows\n",
    "print(f\"Rows: {hdb_rows:,}\")"
   ]
  },
  {
   "cell_type": "markdown",
   "id": "6569399c-4be5-43fa-bb73-1fbab9895fbc",
   "metadata": {},
   "source": [
    "# RDB Contents"
   ]
  },
  {
   "cell_type": "code",
   "execution_count": 10,
   "id": "ffd15de4-c777-42e1-bf6f-e951abd16b82",
   "metadata": {},
   "outputs": [
    {
     "data": {
      "text/html": [
       "<div>\n",
       "<style scoped>\n",
       "    .dataframe tbody tr th:only-of-type {\n",
       "        vertical-align: middle;\n",
       "    }\n",
       "\n",
       "    .dataframe tbody tr th {\n",
       "        vertical-align: top;\n",
       "    }\n",
       "\n",
       "    .dataframe thead th {\n",
       "        text-align: right;\n",
       "    }\n",
       "</style>\n",
       "<table border=\"1\" class=\"dataframe\">\n",
       "  <thead>\n",
       "    <tr style=\"text-align: right;\">\n",
       "      <th></th>\n",
       "      <th>sym</th>\n",
       "      <th>time</th>\n",
       "      <th>number</th>\n",
       "    </tr>\n",
       "  </thead>\n",
       "  <tbody>\n",
       "    <tr>\n",
       "      <th>0</th>\n",
       "      <td>lgf</td>\n",
       "      <td>2023-06-12 14:51:53.924018353</td>\n",
       "      <td>1</td>\n",
       "    </tr>\n",
       "    <tr>\n",
       "      <th>1</th>\n",
       "      <td>mfe</td>\n",
       "      <td>2023-06-12 14:51:53.924018353</td>\n",
       "      <td>23</td>\n",
       "    </tr>\n",
       "    <tr>\n",
       "      <th>2</th>\n",
       "      <td>ofp</td>\n",
       "      <td>2023-06-12 14:51:53.924018353</td>\n",
       "      <td>53</td>\n",
       "    </tr>\n",
       "    <tr>\n",
       "      <th>3</th>\n",
       "      <td>bmp</td>\n",
       "      <td>2023-06-12 14:51:53.924018353</td>\n",
       "      <td>57</td>\n",
       "    </tr>\n",
       "    <tr>\n",
       "      <th>4</th>\n",
       "      <td>png</td>\n",
       "      <td>2023-06-12 14:51:53.924018353</td>\n",
       "      <td>81</td>\n",
       "    </tr>\n",
       "  </tbody>\n",
       "</table>\n",
       "</div>"
      ],
      "text/plain": [
       "   sym                          time  number\n",
       "0  lgf 2023-06-12 14:51:53.924018353       1\n",
       "1  mfe 2023-06-12 14:51:53.924018353      23\n",
       "2  ofp 2023-06-12 14:51:53.924018353      53\n",
       "3  bmp 2023-06-12 14:51:53.924018353      57\n",
       "4  png 2023-06-12 14:51:53.924018353      81"
      ]
     },
     "metadata": {},
     "output_type": "display_data"
    },
    {
     "data": {
      "text/html": [
       "<div>\n",
       "<style scoped>\n",
       "    .dataframe tbody tr th:only-of-type {\n",
       "        vertical-align: middle;\n",
       "    }\n",
       "\n",
       "    .dataframe tbody tr th {\n",
       "        vertical-align: top;\n",
       "    }\n",
       "\n",
       "    .dataframe thead th {\n",
       "        text-align: right;\n",
       "    }\n",
       "</style>\n",
       "<table border=\"1\" class=\"dataframe\">\n",
       "  <thead>\n",
       "    <tr style=\"text-align: right;\">\n",
       "      <th></th>\n",
       "      <th>sym</th>\n",
       "      <th>time</th>\n",
       "      <th>number</th>\n",
       "    </tr>\n",
       "  </thead>\n",
       "  <tbody>\n",
       "    <tr>\n",
       "      <th>0</th>\n",
       "      <td>mpi</td>\n",
       "      <td>2023-06-12 20:14:38.904017905</td>\n",
       "      <td>25</td>\n",
       "    </tr>\n",
       "    <tr>\n",
       "      <th>1</th>\n",
       "      <td>nmb</td>\n",
       "      <td>2023-06-12 20:14:38.914020033</td>\n",
       "      <td>8</td>\n",
       "    </tr>\n",
       "    <tr>\n",
       "      <th>2</th>\n",
       "      <td>pbg</td>\n",
       "      <td>2023-06-12 20:14:38.914020033</td>\n",
       "      <td>39</td>\n",
       "    </tr>\n",
       "    <tr>\n",
       "      <th>3</th>\n",
       "      <td>fie</td>\n",
       "      <td>2023-06-12 20:14:38.914020033</td>\n",
       "      <td>90</td>\n",
       "    </tr>\n",
       "    <tr>\n",
       "      <th>4</th>\n",
       "      <td>pfc</td>\n",
       "      <td>2023-06-12 20:14:38.914020033</td>\n",
       "      <td>28</td>\n",
       "    </tr>\n",
       "  </tbody>\n",
       "</table>\n",
       "</div>"
      ],
      "text/plain": [
       "   sym                          time  number\n",
       "0  mpi 2023-06-12 20:14:38.904017905      25\n",
       "1  nmb 2023-06-12 20:14:38.914020033       8\n",
       "2  pbg 2023-06-12 20:14:38.914020033      39\n",
       "3  fie 2023-06-12 20:14:38.914020033      90\n",
       "4  pfc 2023-06-12 20:14:38.914020033      28"
      ]
     },
     "metadata": {},
     "output_type": "display_data"
    },
    {
     "name": "stdout",
     "output_type": "stream",
     "text": [
      "Rows: 8,717,702\n"
     ]
    }
   ],
   "source": [
    "display(rdb_head_pdf)\n",
    "display(rdb_tail_pdf)\n",
    "\n",
    "# Number of Rows\n",
    "print(f\"Rows: {rdb_rows:,}\")"
   ]
  },
  {
   "cell_type": "markdown",
   "id": "8c3c2616-72f0-4263-bc1d-68ec636f45c4",
   "metadata": {},
   "source": [
    "# GW Contents"
   ]
  },
  {
   "cell_type": "code",
   "execution_count": 11,
   "id": "c7c67a6b-01bf-4918-83e6-61d90a549b03",
   "metadata": {},
   "outputs": [
    {
     "data": {
      "text/html": [
       "<div>\n",
       "<style scoped>\n",
       "    .dataframe tbody tr th:only-of-type {\n",
       "        vertical-align: middle;\n",
       "    }\n",
       "\n",
       "    .dataframe tbody tr th {\n",
       "        vertical-align: top;\n",
       "    }\n",
       "\n",
       "    .dataframe thead th {\n",
       "        text-align: right;\n",
       "    }\n",
       "</style>\n",
       "<table border=\"1\" class=\"dataframe\">\n",
       "  <thead>\n",
       "    <tr style=\"text-align: right;\">\n",
       "      <th></th>\n",
       "      <th>sym</th>\n",
       "      <th>time</th>\n",
       "      <th>number</th>\n",
       "    </tr>\n",
       "  </thead>\n",
       "  <tbody>\n",
       "    <tr>\n",
       "      <th>0</th>\n",
       "      <td>boc</td>\n",
       "      <td>2023-04-14 23:17:28.473</td>\n",
       "      <td>53231</td>\n",
       "    </tr>\n",
       "    <tr>\n",
       "      <th>1</th>\n",
       "      <td>boc</td>\n",
       "      <td>2023-04-14 23:17:28.473</td>\n",
       "      <td>153560</td>\n",
       "    </tr>\n",
       "    <tr>\n",
       "      <th>2</th>\n",
       "      <td>boc</td>\n",
       "      <td>2023-04-14 23:17:28.473</td>\n",
       "      <td>449428</td>\n",
       "    </tr>\n",
       "    <tr>\n",
       "      <th>3</th>\n",
       "      <td>boc</td>\n",
       "      <td>2023-04-14 23:17:28.473</td>\n",
       "      <td>631966</td>\n",
       "    </tr>\n",
       "    <tr>\n",
       "      <th>4</th>\n",
       "      <td>boc</td>\n",
       "      <td>2023-04-14 23:17:28.473</td>\n",
       "      <td>941566</td>\n",
       "    </tr>\n",
       "  </tbody>\n",
       "</table>\n",
       "</div>"
      ],
      "text/plain": [
       "   sym                    time  number\n",
       "0  boc 2023-04-14 23:17:28.473   53231\n",
       "1  boc 2023-04-14 23:17:28.473  153560\n",
       "2  boc 2023-04-14 23:17:28.473  449428\n",
       "3  boc 2023-04-14 23:17:28.473  631966\n",
       "4  boc 2023-04-14 23:17:28.473  941566"
      ]
     },
     "metadata": {},
     "output_type": "display_data"
    },
    {
     "data": {
      "text/html": [
       "<div>\n",
       "<style scoped>\n",
       "    .dataframe tbody tr th:only-of-type {\n",
       "        vertical-align: middle;\n",
       "    }\n",
       "\n",
       "    .dataframe tbody tr th {\n",
       "        vertical-align: top;\n",
       "    }\n",
       "\n",
       "    .dataframe thead th {\n",
       "        text-align: right;\n",
       "    }\n",
       "</style>\n",
       "<table border=\"1\" class=\"dataframe\">\n",
       "  <thead>\n",
       "    <tr style=\"text-align: right;\">\n",
       "      <th></th>\n",
       "      <th>sym</th>\n",
       "      <th>time</th>\n",
       "      <th>number</th>\n",
       "    </tr>\n",
       "  </thead>\n",
       "  <tbody>\n",
       "    <tr>\n",
       "      <th>0</th>\n",
       "      <td>ehp</td>\n",
       "      <td>2023-06-12 20:14:39.894016619</td>\n",
       "      <td>32</td>\n",
       "    </tr>\n",
       "    <tr>\n",
       "      <th>1</th>\n",
       "      <td>ono</td>\n",
       "      <td>2023-06-12 20:14:39.894016619</td>\n",
       "      <td>49</td>\n",
       "    </tr>\n",
       "    <tr>\n",
       "      <th>2</th>\n",
       "      <td>igg</td>\n",
       "      <td>2023-06-12 20:14:39.894016619</td>\n",
       "      <td>56</td>\n",
       "    </tr>\n",
       "    <tr>\n",
       "      <th>3</th>\n",
       "      <td>bfj</td>\n",
       "      <td>2023-06-12 20:14:39.894016619</td>\n",
       "      <td>14</td>\n",
       "    </tr>\n",
       "    <tr>\n",
       "      <th>4</th>\n",
       "      <td>hcc</td>\n",
       "      <td>2023-06-12 20:14:39.914015502</td>\n",
       "      <td>62</td>\n",
       "    </tr>\n",
       "  </tbody>\n",
       "</table>\n",
       "</div>"
      ],
      "text/plain": [
       "   sym                          time  number\n",
       "0  ehp 2023-06-12 20:14:39.894016619      32\n",
       "1  ono 2023-06-12 20:14:39.894016619      49\n",
       "2  igg 2023-06-12 20:14:39.894016619      56\n",
       "3  bfj 2023-06-12 20:14:39.894016619      14\n",
       "4  hcc 2023-06-12 20:14:39.914015502      62"
      ]
     },
     "metadata": {},
     "output_type": "display_data"
    },
    {
     "name": "stdout",
     "output_type": "stream",
     "text": [
      "Rows: 34,716,302\n"
     ]
    }
   ],
   "source": [
    "display(gw_head_pdf)\n",
    "display(gw_tail_pdf)\n",
    "\n",
    "# Number of Rows\n",
    "print(f\"Rows: {gw_rows:,}\")"
   ]
  },
  {
   "cell_type": "code",
   "execution_count": null,
   "id": "6893d1bb-4b3d-482d-b3da-1fbb38fc0dab",
   "metadata": {},
   "outputs": [],
   "source": []
  }
 ],
 "metadata": {
  "kernelspec": {
   "display_name": "Python 3 (ipykernel)",
   "language": "python",
   "name": "python3"
  },
  "language_info": {
   "codemirror_mode": {
    "name": "ipython",
    "version": 3
   },
   "file_extension": ".py",
   "mimetype": "text/x-python",
   "name": "python",
   "nbconvert_exporter": "python",
   "pygments_lexer": "ipython3",
   "version": "3.9.12"
  }
 },
 "nbformat": 4,
 "nbformat_minor": 5
}
