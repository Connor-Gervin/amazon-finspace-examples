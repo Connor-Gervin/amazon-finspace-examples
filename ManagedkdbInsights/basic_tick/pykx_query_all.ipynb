{
 "cells": [
  {
   "cell_type": "markdown",
   "id": "1334d92e-34f4-448c-b6af-73cba89e9d6d",
   "metadata": {},
   "source": [
    "# PyKX Query Components\n",
    "Query all components, RDB, HDB, and Gateway.\n"
   ]
  },
  {
   "cell_type": "code",
   "execution_count": 1,
   "id": "11e9b62a-9cda-4a57-99ca-3b13aff6b7f3",
   "metadata": {},
   "outputs": [],
   "source": [
    "import warnings\n",
    "warnings.simplefilter(action='ignore', category=FutureWarning)\n",
    "\n",
    "import os\n",
    "import boto3\n",
    "import json\n",
    "import datetime\n",
    "\n",
    "import pykx as kx\n",
    "\n",
    "from managed_kx import *\n",
    "from env_kdb_1 import *\n",
    "\n",
    "from basictick_setup import *"
   ]
  },
  {
   "cell_type": "code",
   "execution_count": 2,
   "id": "cb429a9f-e8a4-41d2-8572-c4e8a49ad387",
   "metadata": {},
   "outputs": [
    {
     "name": "stdout",
     "output_type": "stream",
     "text": [
      "Using variables ...\n"
     ]
    }
   ],
   "source": [
    "# triggers credential get\n",
    "session=None\n",
    "\n",
    "try:\n",
    "    # aws: use ada for credentials\n",
    "    subprocess.call([\"which\", \"ada\"])\n",
    "    os.system(f\"ada credentials update --account={ACCOUNT_ID} --provider=isengard --role=Admin --once\")\n",
    "except: \n",
    "    None\n",
    "\n",
    "if AWS_ACCESS_KEY_ID is None:\n",
    "    print(\"Using Defaults ...\")\n",
    "    # create AWS session: using access variables\n",
    "    session = boto3.Session()\n",
    "else:\n",
    "    print(\"Using variables ...\")\n",
    "    session = boto3.Session(\n",
    "        aws_access_key_id=AWS_ACCESS_KEY_ID,\n",
    "        aws_secret_access_key=AWS_SECRET_ACCESS_KEY,\n",
    "        aws_session_token=AWS_SESSION_TOKEN\n",
    "    )\n",
    "\n",
    "# create finspace client\n",
    "client = session.client(service_name='finspace', endpoint_url=ENDPOINT_URL)"
   ]
  },
  {
   "cell_type": "markdown",
   "id": "32c26a3e-e51e-4981-951b-efca08e20e9a",
   "metadata": {},
   "source": [
    "# Current State of HDB"
   ]
  },
  {
   "cell_type": "code",
   "execution_count": 3,
   "id": "125c2a8e-1880-4043-9230-1089778e5bf8",
   "metadata": {},
   "outputs": [],
   "source": [
    "# Query the HDB\n",
    "hdb = get_pykx_connection(client, \n",
    "                          environmentId=ENV_ID, clusterName=HDB_CLUSTER_NAME, \n",
    "                          userName=KDB_USERNAME, boto_session=session)\n",
    "\n",
    "# Dates and Counts\n",
    "hdb_pdf = hdb(\"select counts:count i by date from example\").pd()\n",
    "\n",
    "# Number of Rows\n",
    "hdb_rows = hdb(\"count example\").py()"
   ]
  },
  {
   "cell_type": "markdown",
   "id": "47a1f5c4-3433-4b06-9ef6-8164ad2fb100",
   "metadata": {},
   "source": [
    "# Current State of RDB"
   ]
  },
  {
   "cell_type": "code",
   "execution_count": 4,
   "id": "3371f4c9-fcd3-46ab-8780-feb58d382a66",
   "metadata": {},
   "outputs": [],
   "source": [
    "# Query the RDB\n",
    "rdb = get_pykx_connection(client, \n",
    "                          environmentId=ENV_ID, clusterName=RDB_CLUSTER_NAME, \n",
    "                          userName=KDB_USERNAME, boto_session=session)\n",
    "\n",
    "# Dates and Counts\n",
    "rdb_head_pdf = rdb(\"select [5] from example\").pd()\n",
    "rdb_tail_pdf = rdb(\"select [-5] from example\").pd()\n",
    "\n",
    "# Number of Rows\n",
    "rdb_rows = rdb(\"count example\").py()"
   ]
  },
  {
   "cell_type": "markdown",
   "id": "ddafebe2-5729-42b2-9598-b304d2af0776",
   "metadata": {},
   "source": [
    "# Current State of GW"
   ]
  },
  {
   "cell_type": "code",
   "execution_count": 5,
   "id": "bd8e25b3-629e-4b4f-82b8-f0895a1907e2",
   "metadata": {},
   "outputs": [],
   "source": [
    "# Query the HDB\n",
    "gw = get_pykx_connection(client, \n",
    "                          environmentId=ENV_ID, clusterName=GW_CLUSTER_NAME, \n",
    "                          userName=KDB_USERNAME, boto_session=session)"
   ]
  },
  {
   "cell_type": "code",
   "execution_count": 6,
   "id": "4c09a5be-ce4a-43bf-a6df-3305b3f9332e",
   "metadata": {},
   "outputs": [
    {
     "data": {
      "text/html": [
       "<div>\n",
       "<style scoped>\n",
       "    .dataframe tbody tr th:only-of-type {\n",
       "        vertical-align: middle;\n",
       "    }\n",
       "\n",
       "    .dataframe tbody tr th {\n",
       "        vertical-align: top;\n",
       "    }\n",
       "\n",
       "    .dataframe thead th {\n",
       "        text-align: right;\n",
       "    }\n",
       "</style>\n",
       "<table border=\"1\" class=\"dataframe\">\n",
       "  <thead>\n",
       "    <tr style=\"text-align: right;\">\n",
       "      <th></th>\n",
       "      <th>process</th>\n",
       "      <th>handle</th>\n",
       "      <th>connected</th>\n",
       "      <th>address</th>\n",
       "    </tr>\n",
       "  </thead>\n",
       "  <tbody>\n",
       "    <tr>\n",
       "      <th>0</th>\n",
       "      <td>rdb</td>\n",
       "      <td>7</td>\n",
       "      <td>True</td>\n",
       "      <td>:ip-192-168-0-211.ec2.internal:5000:GATEWAY_TFC:Host=ip-192-168-0-211.ec2.internal&amp;Port=5000&amp;User=GATEWAY_TFC&amp;...</td>\n",
       "    </tr>\n",
       "    <tr>\n",
       "      <th>1</th>\n",
       "      <td>hdb</td>\n",
       "      <td>9</td>\n",
       "      <td>True</td>\n",
       "      <td>:ip-192-168-14-32.ec2.internal:5000:GATEWAY_TFC:Host=ip-192-168-14-32.ec2.internal&amp;Port=5000&amp;User=GATEWAY_TFC&amp;...</td>\n",
       "    </tr>\n",
       "    <tr>\n",
       "      <th>2</th>\n",
       "      <td>hdb</td>\n",
       "      <td>10</td>\n",
       "      <td>True</td>\n",
       "      <td>:ip-192-168-3-24.ec2.internal:5000:GATEWAY_TFC:Host=ip-192-168-3-24.ec2.internal&amp;Port=5000&amp;User=GATEWAY_TFC&amp;Ac...</td>\n",
       "    </tr>\n",
       "  </tbody>\n",
       "</table>\n",
       "</div>"
      ],
      "text/plain": [
       "  process  handle  connected  \\\n",
       "0     rdb       7       True   \n",
       "1     hdb       9       True   \n",
       "2     hdb      10       True   \n",
       "\n",
       "                                                                                                             address  \n",
       "0  :ip-192-168-0-211.ec2.internal:5000:GATEWAY_TFC:Host=ip-192-168-0-211.ec2.internal&Port=5000&User=GATEWAY_TFC&...  \n",
       "1  :ip-192-168-14-32.ec2.internal:5000:GATEWAY_TFC:Host=ip-192-168-14-32.ec2.internal&Port=5000&User=GATEWAY_TFC&...  \n",
       "2  :ip-192-168-3-24.ec2.internal:5000:GATEWAY_TFC:Host=ip-192-168-3-24.ec2.internal&Port=5000&User=GATEWAY_TFC&Ac...  "
      ]
     },
     "metadata": {},
     "output_type": "display_data"
    }
   ],
   "source": [
    "proc_pdf = gw(\"select process, handle, connected, address from .conn.procs\").pd()\n",
    "\n",
    "# are any processes not connected?\n",
    "if len(proc_pdf[proc_pdf.connected == False].index) > 0:\n",
    "    print(\"reinit Gateway\")\n",
    "    gw(\"reinit[hdb_name; rdb_name]\")\n",
    "    proc_pdf = gw(\"select process, handle, connected, address from .conn.procs\").pd()\n",
    "\n",
    "# truncate with elipsis\n",
    "proc_pdf['address'] = proc_pdf['address'].str.slice(0,110)+\"...\"\n",
    "\n",
    "display(proc_pdf)"
   ]
  },
  {
   "cell_type": "code",
   "execution_count": 7,
   "id": "728e4415-82c8-4700-ac13-6c76b5d36e4e",
   "metadata": {},
   "outputs": [],
   "source": [
    "gw(\"res: `time xasc queryData[`example;`]\").pd()\n",
    "\n",
    "gw_pdf = gw(\"res\").pd()\n",
    "gw_head_pdf = gw(\"select [5] from res\").pd()\n",
    "gw_tail_pdf = gw(\"select [-5] from res\").pd()\n",
    "\n",
    "# Number of Rows\n",
    "gw_rows = len(gw_pdf.index)"
   ]
  },
  {
   "cell_type": "markdown",
   "id": "d797007e-355b-4fee-9c6e-a11273d27d76",
   "metadata": {},
   "source": [
    "# HDB Contents"
   ]
  },
  {
   "cell_type": "code",
   "execution_count": 8,
   "id": "f6107bbb-e8fd-46df-97a1-6033d628f38b",
   "metadata": {},
   "outputs": [
    {
     "data": {
      "text/html": [
       "<div>\n",
       "<style scoped>\n",
       "    .dataframe tbody tr th:only-of-type {\n",
       "        vertical-align: middle;\n",
       "    }\n",
       "\n",
       "    .dataframe tbody tr th {\n",
       "        vertical-align: top;\n",
       "    }\n",
       "\n",
       "    .dataframe thead th {\n",
       "        text-align: right;\n",
       "    }\n",
       "</style>\n",
       "<table border=\"1\" class=\"dataframe\">\n",
       "  <thead>\n",
       "    <tr style=\"text-align: right;\">\n",
       "      <th></th>\n",
       "      <th>counts</th>\n",
       "    </tr>\n",
       "    <tr>\n",
       "      <th>date</th>\n",
       "      <th></th>\n",
       "    </tr>\n",
       "  </thead>\n",
       "  <tbody>\n",
       "    <tr>\n",
       "      <th>2023-04-14</th>\n",
       "      <td>1000000</td>\n",
       "    </tr>\n",
       "    <tr>\n",
       "      <th>2023-04-15</th>\n",
       "      <td>1000000</td>\n",
       "    </tr>\n",
       "    <tr>\n",
       "      <th>2023-04-16</th>\n",
       "      <td>1000000</td>\n",
       "    </tr>\n",
       "    <tr>\n",
       "      <th>2023-04-17</th>\n",
       "      <td>1000000</td>\n",
       "    </tr>\n",
       "    <tr>\n",
       "      <th>2023-04-18</th>\n",
       "      <td>1000000</td>\n",
       "    </tr>\n",
       "    <tr>\n",
       "      <th>2023-04-19</th>\n",
       "      <td>1000000</td>\n",
       "    </tr>\n",
       "    <tr>\n",
       "      <th>2023-04-20</th>\n",
       "      <td>1000000</td>\n",
       "    </tr>\n",
       "    <tr>\n",
       "      <th>2023-04-21</th>\n",
       "      <td>1000000</td>\n",
       "    </tr>\n",
       "    <tr>\n",
       "      <th>2023-04-22</th>\n",
       "      <td>1000000</td>\n",
       "    </tr>\n",
       "    <tr>\n",
       "      <th>2023-04-23</th>\n",
       "      <td>1000000</td>\n",
       "    </tr>\n",
       "  </tbody>\n",
       "</table>\n",
       "</div>"
      ],
      "text/plain": [
       "             counts\n",
       "date               \n",
       "2023-04-14  1000000\n",
       "2023-04-15  1000000\n",
       "2023-04-16  1000000\n",
       "2023-04-17  1000000\n",
       "2023-04-18  1000000\n",
       "2023-04-19  1000000\n",
       "2023-04-20  1000000\n",
       "2023-04-21  1000000\n",
       "2023-04-22  1000000\n",
       "2023-04-23  1000000"
      ]
     },
     "metadata": {},
     "output_type": "display_data"
    },
    {
     "name": "stdout",
     "output_type": "stream",
     "text": [
      "Rows: 10,000,000\n"
     ]
    }
   ],
   "source": [
    "display(hdb_pdf)\n",
    "\n",
    "# Number of Rows\n",
    "print(f\"Rows: {hdb_rows:,}\")"
   ]
  },
  {
   "cell_type": "markdown",
   "id": "6569399c-4be5-43fa-bb73-1fbab9895fbc",
   "metadata": {},
   "source": [
    "# RDB Contents"
   ]
  },
  {
   "cell_type": "code",
   "execution_count": 9,
   "id": "ffd15de4-c777-42e1-bf6f-e951abd16b82",
   "metadata": {},
   "outputs": [
    {
     "data": {
      "text/html": [
       "<div>\n",
       "<style scoped>\n",
       "    .dataframe tbody tr th:only-of-type {\n",
       "        vertical-align: middle;\n",
       "    }\n",
       "\n",
       "    .dataframe tbody tr th {\n",
       "        vertical-align: top;\n",
       "    }\n",
       "\n",
       "    .dataframe thead th {\n",
       "        text-align: right;\n",
       "    }\n",
       "</style>\n",
       "<table border=\"1\" class=\"dataframe\">\n",
       "  <thead>\n",
       "    <tr style=\"text-align: right;\">\n",
       "      <th></th>\n",
       "      <th>sym</th>\n",
       "      <th>time</th>\n",
       "      <th>number</th>\n",
       "    </tr>\n",
       "  </thead>\n",
       "  <tbody>\n",
       "    <tr>\n",
       "      <th>0</th>\n",
       "      <td>ilm</td>\n",
       "      <td>2023-06-19 19:03:45.873035288</td>\n",
       "      <td>73</td>\n",
       "    </tr>\n",
       "    <tr>\n",
       "      <th>1</th>\n",
       "      <td>kjl</td>\n",
       "      <td>2023-06-19 19:03:45.873035288</td>\n",
       "      <td>76</td>\n",
       "    </tr>\n",
       "    <tr>\n",
       "      <th>2</th>\n",
       "      <td>igi</td>\n",
       "      <td>2023-06-19 19:03:45.873035288</td>\n",
       "      <td>21</td>\n",
       "    </tr>\n",
       "    <tr>\n",
       "      <th>3</th>\n",
       "      <td>nao</td>\n",
       "      <td>2023-06-19 19:03:45.873035288</td>\n",
       "      <td>41</td>\n",
       "    </tr>\n",
       "    <tr>\n",
       "      <th>4</th>\n",
       "      <td>jde</td>\n",
       "      <td>2023-06-19 19:03:45.883033520</td>\n",
       "      <td>42</td>\n",
       "    </tr>\n",
       "  </tbody>\n",
       "</table>\n",
       "</div>"
      ],
      "text/plain": [
       "   sym                          time  number\n",
       "0  ilm 2023-06-19 19:03:45.873035288      73\n",
       "1  kjl 2023-06-19 19:03:45.873035288      76\n",
       "2  igi 2023-06-19 19:03:45.873035288      21\n",
       "3  nao 2023-06-19 19:03:45.873035288      41\n",
       "4  jde 2023-06-19 19:03:45.883033520      42"
      ]
     },
     "metadata": {},
     "output_type": "display_data"
    },
    {
     "data": {
      "text/html": [
       "<div>\n",
       "<style scoped>\n",
       "    .dataframe tbody tr th:only-of-type {\n",
       "        vertical-align: middle;\n",
       "    }\n",
       "\n",
       "    .dataframe tbody tr th {\n",
       "        vertical-align: top;\n",
       "    }\n",
       "\n",
       "    .dataframe thead th {\n",
       "        text-align: right;\n",
       "    }\n",
       "</style>\n",
       "<table border=\"1\" class=\"dataframe\">\n",
       "  <thead>\n",
       "    <tr style=\"text-align: right;\">\n",
       "      <th></th>\n",
       "      <th>sym</th>\n",
       "      <th>time</th>\n",
       "      <th>number</th>\n",
       "    </tr>\n",
       "  </thead>\n",
       "  <tbody>\n",
       "    <tr>\n",
       "      <th>0</th>\n",
       "      <td>ile</td>\n",
       "      <td>2023-06-19 19:39:49.853034839</td>\n",
       "      <td>36</td>\n",
       "    </tr>\n",
       "    <tr>\n",
       "      <th>1</th>\n",
       "      <td>igd</td>\n",
       "      <td>2023-06-19 19:39:49.863039873</td>\n",
       "      <td>25</td>\n",
       "    </tr>\n",
       "    <tr>\n",
       "      <th>2</th>\n",
       "      <td>ach</td>\n",
       "      <td>2023-06-19 19:39:49.863039873</td>\n",
       "      <td>71</td>\n",
       "    </tr>\n",
       "    <tr>\n",
       "      <th>3</th>\n",
       "      <td>obi</td>\n",
       "      <td>2023-06-19 19:39:49.863039873</td>\n",
       "      <td>12</td>\n",
       "    </tr>\n",
       "    <tr>\n",
       "      <th>4</th>\n",
       "      <td>cog</td>\n",
       "      <td>2023-06-19 19:39:49.863039873</td>\n",
       "      <td>96</td>\n",
       "    </tr>\n",
       "  </tbody>\n",
       "</table>\n",
       "</div>"
      ],
      "text/plain": [
       "   sym                          time  number\n",
       "0  ile 2023-06-19 19:39:49.853034839      36\n",
       "1  igd 2023-06-19 19:39:49.863039873      25\n",
       "2  ach 2023-06-19 19:39:49.863039873      71\n",
       "3  obi 2023-06-19 19:39:49.863039873      12\n",
       "4  cog 2023-06-19 19:39:49.863039873      96"
      ]
     },
     "metadata": {},
     "output_type": "display_data"
    },
    {
     "name": "stdout",
     "output_type": "stream",
     "text": [
      "Rows: 973,044\n"
     ]
    }
   ],
   "source": [
    "display(rdb_head_pdf)\n",
    "display(rdb_tail_pdf)\n",
    "\n",
    "# Number of Rows\n",
    "print(f\"Rows: {rdb_rows:,}\")"
   ]
  },
  {
   "cell_type": "markdown",
   "id": "8c3c2616-72f0-4263-bc1d-68ec636f45c4",
   "metadata": {},
   "source": [
    "# GW Contents"
   ]
  },
  {
   "cell_type": "code",
   "execution_count": 10,
   "id": "c7c67a6b-01bf-4918-83e6-61d90a549b03",
   "metadata": {},
   "outputs": [
    {
     "data": {
      "text/html": [
       "<div>\n",
       "<style scoped>\n",
       "    .dataframe tbody tr th:only-of-type {\n",
       "        vertical-align: middle;\n",
       "    }\n",
       "\n",
       "    .dataframe tbody tr th {\n",
       "        vertical-align: top;\n",
       "    }\n",
       "\n",
       "    .dataframe thead th {\n",
       "        text-align: right;\n",
       "    }\n",
       "</style>\n",
       "<table border=\"1\" class=\"dataframe\">\n",
       "  <thead>\n",
       "    <tr style=\"text-align: right;\">\n",
       "      <th></th>\n",
       "      <th>sym</th>\n",
       "      <th>time</th>\n",
       "      <th>number</th>\n",
       "    </tr>\n",
       "  </thead>\n",
       "  <tbody>\n",
       "    <tr>\n",
       "      <th>0</th>\n",
       "      <td>aaa</td>\n",
       "      <td>2023-04-14 23:17:28.473</td>\n",
       "      <td>53231</td>\n",
       "    </tr>\n",
       "    <tr>\n",
       "      <th>1</th>\n",
       "      <td>aaa</td>\n",
       "      <td>2023-04-14 23:17:28.473</td>\n",
       "      <td>153560</td>\n",
       "    </tr>\n",
       "    <tr>\n",
       "      <th>2</th>\n",
       "      <td>aaa</td>\n",
       "      <td>2023-04-14 23:17:28.473</td>\n",
       "      <td>449428</td>\n",
       "    </tr>\n",
       "    <tr>\n",
       "      <th>3</th>\n",
       "      <td>aaa</td>\n",
       "      <td>2023-04-14 23:17:28.473</td>\n",
       "      <td>631966</td>\n",
       "    </tr>\n",
       "    <tr>\n",
       "      <th>4</th>\n",
       "      <td>aaa</td>\n",
       "      <td>2023-04-14 23:17:28.473</td>\n",
       "      <td>941566</td>\n",
       "    </tr>\n",
       "  </tbody>\n",
       "</table>\n",
       "</div>"
      ],
      "text/plain": [
       "   sym                    time  number\n",
       "0  aaa 2023-04-14 23:17:28.473   53231\n",
       "1  aaa 2023-04-14 23:17:28.473  153560\n",
       "2  aaa 2023-04-14 23:17:28.473  449428\n",
       "3  aaa 2023-04-14 23:17:28.473  631966\n",
       "4  aaa 2023-04-14 23:17:28.473  941566"
      ]
     },
     "metadata": {},
     "output_type": "display_data"
    },
    {
     "data": {
      "text/html": [
       "<div>\n",
       "<style scoped>\n",
       "    .dataframe tbody tr th:only-of-type {\n",
       "        vertical-align: middle;\n",
       "    }\n",
       "\n",
       "    .dataframe tbody tr th {\n",
       "        vertical-align: top;\n",
       "    }\n",
       "\n",
       "    .dataframe thead th {\n",
       "        text-align: right;\n",
       "    }\n",
       "</style>\n",
       "<table border=\"1\" class=\"dataframe\">\n",
       "  <thead>\n",
       "    <tr style=\"text-align: right;\">\n",
       "      <th></th>\n",
       "      <th>sym</th>\n",
       "      <th>time</th>\n",
       "      <th>number</th>\n",
       "    </tr>\n",
       "  </thead>\n",
       "  <tbody>\n",
       "    <tr>\n",
       "      <th>0</th>\n",
       "      <td>mfc</td>\n",
       "      <td>2023-06-19 19:39:50.863037952</td>\n",
       "      <td>62</td>\n",
       "    </tr>\n",
       "    <tr>\n",
       "      <th>1</th>\n",
       "      <td>cgb</td>\n",
       "      <td>2023-06-19 19:39:50.863037952</td>\n",
       "      <td>64</td>\n",
       "    </tr>\n",
       "    <tr>\n",
       "      <th>2</th>\n",
       "      <td>adn</td>\n",
       "      <td>2023-06-19 19:39:50.863037952</td>\n",
       "      <td>51</td>\n",
       "    </tr>\n",
       "    <tr>\n",
       "      <th>3</th>\n",
       "      <td>meb</td>\n",
       "      <td>2023-06-19 19:39:50.863037952</td>\n",
       "      <td>62</td>\n",
       "    </tr>\n",
       "    <tr>\n",
       "      <th>4</th>\n",
       "      <td>ccc</td>\n",
       "      <td>2023-06-19 19:39:50.863037952</td>\n",
       "      <td>66</td>\n",
       "    </tr>\n",
       "  </tbody>\n",
       "</table>\n",
       "</div>"
      ],
      "text/plain": [
       "   sym                          time  number\n",
       "0  mfc 2023-06-19 19:39:50.863037952      62\n",
       "1  cgb 2023-06-19 19:39:50.863037952      64\n",
       "2  adn 2023-06-19 19:39:50.863037952      51\n",
       "3  meb 2023-06-19 19:39:50.863037952      62\n",
       "4  ccc 2023-06-19 19:39:50.863037952      66"
      ]
     },
     "metadata": {},
     "output_type": "display_data"
    },
    {
     "name": "stdout",
     "output_type": "stream",
     "text": [
      "Rows: 10,973,485\n"
     ]
    }
   ],
   "source": [
    "display(gw_head_pdf)\n",
    "display(gw_tail_pdf)\n",
    "\n",
    "# Number of Rows\n",
    "print(f\"Rows: {gw_rows:,}\")\n",
    "\n",
    "# Note: RDB will have less than GW  b/c data is always arriving to the RDB\n",
    "# RDB was queried first and then again as part of GW query"
   ]
  },
  {
   "cell_type": "code",
   "execution_count": 11,
   "id": "70e7ef98-be09-4d93-ae90-2e957732de4e",
   "metadata": {},
   "outputs": [
    {
     "name": "stdout",
     "output_type": "stream",
     "text": [
      "Last Run: 2023-06-19 19:39:54.682272\n"
     ]
    }
   ],
   "source": [
    "print( f\"Last Run: {datetime.datetime.now()}\" )"
   ]
  }
 ],
 "metadata": {
  "kernelspec": {
   "display_name": "Python 3 (ipykernel)",
   "language": "python",
   "name": "python3"
  },
  "language_info": {
   "codemirror_mode": {
    "name": "ipython",
    "version": 3
   },
   "file_extension": ".py",
   "mimetype": "text/x-python",
   "name": "python",
   "nbconvert_exporter": "python",
   "pygments_lexer": "ipython3",
   "version": "3.9.12"
  }
 },
 "nbformat": 4,
 "nbformat_minor": 5
}
