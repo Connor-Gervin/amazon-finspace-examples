{
 "cells": [
  {
   "cell_type": "markdown",
   "id": "1334d92e-34f4-448c-b6af-73cba89e9d6d",
   "metadata": {},
   "source": [
    "# PyKX Query Components\n",
    "Query all components, RDB, HDB, and Gateway.\n"
   ]
  },
  {
   "cell_type": "code",
   "execution_count": null,
   "id": "11e9b62a-9cda-4a57-99ca-3b13aff6b7f3",
   "metadata": {},
   "outputs": [],
   "source": [
    "import warnings\n",
    "warnings.simplefilter(action='ignore', category=FutureWarning)\n",
    "\n",
    "import os\n",
    "import boto3\n",
    "import json\n",
    "import datetime\n",
    "\n",
    "import pykx as kx\n",
    "\n",
    "from managed_kx import *\n",
    "from env_kdb_1 import *\n",
    "\n",
    "from basictick_setup import *"
   ]
  },
  {
   "cell_type": "code",
   "execution_count": null,
   "id": "cb429a9f-e8a4-41d2-8572-c4e8a49ad387",
   "metadata": {},
   "outputs": [],
   "source": [
    "# triggers credential get\n",
    "session=None\n",
    "\n",
    "try:\n",
    "    # aws: use ada for credentials\n",
    "    subprocess.call([\"which\", \"ada\"])\n",
    "    os.system(f\"ada credentials update --account={ACCOUNT_ID} --provider=isengard --role=Admin --once\")\n",
    "except: \n",
    "    None\n",
    "\n",
    "if AWS_ACCESS_KEY_ID is None:\n",
    "    print(\"Using Defaults ...\")\n",
    "    # create AWS session: using access variables\n",
    "    session = boto3.Session()\n",
    "else:\n",
    "    print(\"Using variables ...\")\n",
    "    session = boto3.Session(\n",
    "        aws_access_key_id=AWS_ACCESS_KEY_ID,\n",
    "        aws_secret_access_key=AWS_SECRET_ACCESS_KEY,\n",
    "        aws_session_token=AWS_SESSION_TOKEN\n",
    "    )\n",
    "\n",
    "# create finspace client\n",
    "client = session.client(service_name='finspace', endpoint_url=ENDPOINT_URL)"
   ]
  },
  {
   "cell_type": "markdown",
   "id": "32c26a3e-e51e-4981-951b-efca08e20e9a",
   "metadata": {},
   "source": [
    "# Current State of HDB"
   ]
  },
  {
   "cell_type": "code",
   "execution_count": null,
   "id": "125c2a8e-1880-4043-9230-1089778e5bf8",
   "metadata": {},
   "outputs": [],
   "source": [
    "# Query the HDB\n",
    "hdb = get_pykx_connection(client, \n",
    "                          environmentId=ENV_ID, clusterName=HDB_CLUSTER_NAME, \n",
    "                          userName=KDB_USERNAME, boto_session=session)\n",
    "\n",
    "# Dates and Counts\n",
    "hdb_pdf = hdb(\"select counts:count i by date from example\").pd()\n",
    "\n",
    "# Number of Rows\n",
    "hdb_rows = hdb(\"count example\").py()"
   ]
  },
  {
   "cell_type": "markdown",
   "id": "47a1f5c4-3433-4b06-9ef6-8164ad2fb100",
   "metadata": {},
   "source": [
    "# Current State of RDB"
   ]
  },
  {
   "cell_type": "code",
   "execution_count": null,
   "id": "3371f4c9-fcd3-46ab-8780-feb58d382a66",
   "metadata": {},
   "outputs": [],
   "source": [
    "# Query the RDB\n",
    "rdb = get_pykx_connection(client, \n",
    "                          environmentId=ENV_ID, clusterName=RDB_CLUSTER_NAME, \n",
    "                          userName=KDB_USERNAME, boto_session=session)\n",
    "\n",
    "# Dates and Counts\n",
    "rdb_head_pdf = rdb(\"select [5] from example\").pd()\n",
    "rdb_tail_pdf = rdb(\"select [-5] from example\").pd()\n",
    "\n",
    "# Number of Rows\n",
    "rdb_rows = rdb(\"count example\").py()"
   ]
  },
  {
   "cell_type": "markdown",
   "id": "ddafebe2-5729-42b2-9598-b304d2af0776",
   "metadata": {},
   "source": [
    "# Current State of GW"
   ]
  },
  {
   "cell_type": "code",
   "execution_count": null,
   "id": "4c09a5be-ce4a-43bf-a6df-3305b3f9332e",
   "metadata": {},
   "outputs": [],
   "source": [
    "# Query the GW\n",
    "gw = get_pykx_connection(client, \n",
    "                          environmentId=ENV_ID, clusterName=GW_CLUSTER_NAME, \n",
    "                          userName=KDB_USERNAME, boto_session=session)\n",
    "\n",
    "proc_pdf = gw(\"select process, handle, connected, address from .conn.procs\").pd()\n",
    "\n",
    "# are any processes not connected? if so-reconnect\n",
    "if len(proc_pdf[proc_pdf.connected == False].index) > 0:\n",
    "    print(\"reinit Gateway\")\n",
    "    gw(\"reinit[hdb_name; rdb_name]\")\n",
    "    proc_pdf = gw(\"select process, handle, connected, address from .conn.procs\").pd()\n",
    "\n",
    "# truncate with elipsis\n",
    "proc_pdf['address'] = proc_pdf['address'].str.slice(0,110)+\"...\"\n",
    "\n",
    "display(proc_pdf)"
   ]
  },
  {
   "cell_type": "code",
   "execution_count": null,
   "id": "728e4415-82c8-4700-ac13-6c76b5d36e4e",
   "metadata": {},
   "outputs": [],
   "source": [
    "# query GW\n",
    "gw(\"res: `time xasc queryData[`example;`]\").pd()\n",
    "\n",
    "#gw_pdf = gw(\"res\").pd()\n",
    "gw_head_pdf = gw(\"select [5] from res\").pd()\n",
    "gw_tail_pdf = gw(\"select [-5] from res\").pd()\n",
    "\n",
    "# Number of Rows\n",
    "#gw_rows = len(gw_pdf.index)\n",
    "gw_rows = gw(\"count res\").py()\n"
   ]
  },
  {
   "cell_type": "markdown",
   "id": "d797007e-355b-4fee-9c6e-a11273d27d76",
   "metadata": {},
   "source": [
    "# HDB Contents"
   ]
  },
  {
   "cell_type": "code",
   "execution_count": null,
   "id": "f6107bbb-e8fd-46df-97a1-6033d628f38b",
   "metadata": {},
   "outputs": [],
   "source": [
    "display(hdb_pdf)\n",
    "\n",
    "# Number of Rows\n",
    "print(f\"Rows: {hdb_rows:,}\")"
   ]
  },
  {
   "cell_type": "markdown",
   "id": "6569399c-4be5-43fa-bb73-1fbab9895fbc",
   "metadata": {},
   "source": [
    "# RDB Contents"
   ]
  },
  {
   "cell_type": "code",
   "execution_count": null,
   "id": "ffd15de4-c777-42e1-bf6f-e951abd16b82",
   "metadata": {},
   "outputs": [],
   "source": [
    "display(rdb_head_pdf)\n",
    "display(rdb_tail_pdf)\n",
    "\n",
    "# Number of Rows\n",
    "print(f\"Rows: {rdb_rows:,}\")"
   ]
  },
  {
   "cell_type": "markdown",
   "id": "8c3c2616-72f0-4263-bc1d-68ec636f45c4",
   "metadata": {},
   "source": [
    "# GW Contents"
   ]
  },
  {
   "cell_type": "code",
   "execution_count": null,
   "id": "c7c67a6b-01bf-4918-83e6-61d90a549b03",
   "metadata": {},
   "outputs": [],
   "source": [
    "display(gw_head_pdf)\n",
    "display(gw_tail_pdf)\n",
    "\n",
    "# Number of Rows\n",
    "print(f\"Rows: {gw_rows:,}\")\n",
    "\n",
    "# Note: RDB will have less than GW  b/c data is always arriving to the RDB\n",
    "# RDB alone was queried first and then again as part of GW query"
   ]
  },
  {
   "cell_type": "code",
   "execution_count": null,
   "id": "70e7ef98-be09-4d93-ae90-2e957732de4e",
   "metadata": {},
   "outputs": [],
   "source": [
    "print( f\"Last Run: {datetime.datetime.now()}\" )"
   ]
  },
  {
   "cell_type": "code",
   "execution_count": null,
   "id": "527ddf7e-8686-4e13-9314-913febc6af3a",
   "metadata": {},
   "outputs": [],
   "source": []
  }
 ],
 "metadata": {
  "kernelspec": {
   "display_name": "Python 3 (ipykernel)",
   "language": "python",
   "name": "python3"
  },
  "language_info": {
   "codemirror_mode": {
    "name": "ipython",
    "version": 3
   },
   "file_extension": ".py",
   "mimetype": "text/x-python",
   "name": "python",
   "nbconvert_exporter": "python",
   "pygments_lexer": "ipython3",
   "version": "3.9.12"
  }
 },
 "nbformat": 4,
 "nbformat_minor": 5
}
