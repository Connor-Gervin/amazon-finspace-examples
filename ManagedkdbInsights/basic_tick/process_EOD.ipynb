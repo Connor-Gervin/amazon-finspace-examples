{
 "cells": [
  {
   "cell_type": "markdown",
   "id": "e13084db-c69f-4e70-aa79-acfd2159093a",
   "metadata": {},
   "source": [
    "# BasicTick: End of Day (EOD) Processing\n",
    "This notebook an example of an end of day (EOD) process that adds the contents of an RDB as a changeset to an HDB.\n",
    "\n",
    "Instead of moving between python and q code this notebook makes use of PyKX to do all its work with the RDB, HDB, and Gateway for end of day processing.\n",
    "\n",
    "**RDB: Save Day's Data**\n",
    "1. Save table and sym locally    \n",
    "2. Savedown: add changeset to database    \n",
    "\n",
    "**HDB: Update**\n",
    "1. Update the Cluster's Database to New Changeset ID\n",
    "\n",
    "**Gateway: Re-Connect**\n",
    "1. Update the Database Connections"
   ]
  },
  {
   "cell_type": "code",
   "execution_count": 1,
   "id": "b058c1df-087e-4856-828c-e296ecd1a95c",
   "metadata": {},
   "outputs": [],
   "source": [
    "# scratch location on RDB\n",
    "scratch_path = \"/opt/kx/app/scratch\"\n",
    "\n",
    "# clean rdb?\n",
    "clear_rdb = True"
   ]
  },
  {
   "cell_type": "code",
   "execution_count": 2,
   "id": "3698017d-42ed-4280-afa1-723f19ae398c",
   "metadata": {},
   "outputs": [],
   "source": [
    "import warnings\n",
    "warnings.simplefilter(action='ignore', category=FutureWarning)\n",
    "\n",
    "import os\n",
    "import boto3\n",
    "import json\n",
    "import datetime\n",
    "\n",
    "import pykx as kx\n",
    "\n",
    "from managed_kx import *\n",
    "from env_kdb_1 import *\n",
    "\n",
    "from basictick_setup import *"
   ]
  },
  {
   "cell_type": "code",
   "execution_count": 3,
   "id": "ed241efe-523e-4d2f-8e1b-94a09adf42e7",
   "metadata": {},
   "outputs": [
    {
     "name": "stdout",
     "output_type": "stream",
     "text": [
      "Using variables ...\n"
     ]
    }
   ],
   "source": [
    "# triggers credential get\n",
    "session=None\n",
    "\n",
    "try:\n",
    "    # aws: use ada for credentials\n",
    "    subprocess.call([\"which\", \"ada\"])\n",
    "    os.system(f\"ada credentials update --account={ACCOUNT_ID} --provider=isengard --role=Admin --once\")\n",
    "except: \n",
    "    None\n",
    "\n",
    "if AWS_ACCESS_KEY_ID is None:\n",
    "    print(\"Using Defaults ...\")\n",
    "    # create AWS session: using access variables\n",
    "    session = boto3.Session()\n",
    "else:\n",
    "    print(\"Using variables ...\")\n",
    "    session = boto3.Session(\n",
    "        aws_access_key_id=AWS_ACCESS_KEY_ID,\n",
    "        aws_secret_access_key=AWS_SECRET_ACCESS_KEY,\n",
    "        aws_session_token=AWS_SESSION_TOKEN\n",
    "    )\n",
    "\n",
    "# create finspace client\n",
    "client = session.client(service_name='finspace', endpoint_url=ENDPOINT_URL)"
   ]
  },
  {
   "cell_type": "markdown",
   "id": "deb06187-17ea-4934-a142-910e1aace504",
   "metadata": {},
   "source": [
    "# Current State of HDB"
   ]
  },
  {
   "cell_type": "code",
   "execution_count": 4,
   "id": "19f6d351-7a93-4c33-b7fe-1fe43cbc71b6",
   "metadata": {},
   "outputs": [],
   "source": [
    "# Query the HDB\n",
    "hdb = get_pykx_connection(client, \n",
    "                          environmentId=ENV_ID, clusterName=HDB_CLUSTER_NAME, \n",
    "                          userName=KDB_USERNAME, boto_session=session)\n",
    "\n",
    "# Dates and Counts\n",
    "before_update_pdf = hdb(\"select counts:count i by date from example\").pd()\n",
    "\n",
    "# Number of Rows\n",
    "before_rows = hdb(\"count example\").py()"
   ]
  },
  {
   "cell_type": "markdown",
   "id": "200a3ab3-f225-4215-8369-5ea9c068aa97",
   "metadata": {},
   "source": [
    "# RDB: Save Day's Data\n",
    "1. Save table and sym locally   \n",
    "2. Savedown: add changeset to database"
   ]
  },
  {
   "cell_type": "code",
   "execution_count": 5,
   "id": "1ce04969-eb7d-4352-862a-b27a93a4f343",
   "metadata": {},
   "outputs": [
    {
     "data": {
      "text/html": [
       "<div>\n",
       "<style scoped>\n",
       "    .dataframe tbody tr th:only-of-type {\n",
       "        vertical-align: middle;\n",
       "    }\n",
       "\n",
       "    .dataframe tbody tr th {\n",
       "        vertical-align: top;\n",
       "    }\n",
       "\n",
       "    .dataframe thead th {\n",
       "        text-align: right;\n",
       "    }\n",
       "</style>\n",
       "<table border=\"1\" class=\"dataframe\">\n",
       "  <thead>\n",
       "    <tr style=\"text-align: right;\">\n",
       "      <th></th>\n",
       "      <th>sym</th>\n",
       "      <th>time</th>\n",
       "      <th>number</th>\n",
       "    </tr>\n",
       "  </thead>\n",
       "  <tbody>\n",
       "    <tr>\n",
       "      <th>0</th>\n",
       "      <td>aoe</td>\n",
       "      <td>2023-07-26 19:23:44.675384594</td>\n",
       "      <td>50</td>\n",
       "    </tr>\n",
       "    <tr>\n",
       "      <th>1</th>\n",
       "      <td>igl</td>\n",
       "      <td>2023-07-26 19:23:44.675384594</td>\n",
       "      <td>79</td>\n",
       "    </tr>\n",
       "    <tr>\n",
       "      <th>2</th>\n",
       "      <td>nfp</td>\n",
       "      <td>2023-07-26 19:23:44.675384594</td>\n",
       "      <td>58</td>\n",
       "    </tr>\n",
       "    <tr>\n",
       "      <th>3</th>\n",
       "      <td>oop</td>\n",
       "      <td>2023-07-26 19:23:44.685372093</td>\n",
       "      <td>7</td>\n",
       "    </tr>\n",
       "    <tr>\n",
       "      <th>4</th>\n",
       "      <td>fac</td>\n",
       "      <td>2023-07-26 19:23:44.685372093</td>\n",
       "      <td>69</td>\n",
       "    </tr>\n",
       "  </tbody>\n",
       "</table>\n",
       "</div>"
      ],
      "text/plain": [
       "   sym                          time  number\n",
       "0  aoe 2023-07-26 19:23:44.675384594      50\n",
       "1  igl 2023-07-26 19:23:44.675384594      79\n",
       "2  nfp 2023-07-26 19:23:44.675384594      58\n",
       "3  oop 2023-07-26 19:23:44.685372093       7\n",
       "4  fac 2023-07-26 19:23:44.685372093      69"
      ]
     },
     "metadata": {},
     "output_type": "display_data"
    },
    {
     "name": "stdout",
     "output_type": "stream",
     "text": [
      "Rows: 3,258,921\n"
     ]
    }
   ],
   "source": [
    "# Connect to the RDB\n",
    "rdb = get_pykx_connection(client, \n",
    "                          environmentId=ENV_ID, clusterName=RDB_CLUSTER_NAME, \n",
    "                          userName=KDB_USERNAME, boto_session=session)\n",
    "# Dates and Counts\n",
    "rdb_sample_pdf = rdb(\"select [-5] from example\").pd()\n",
    "rdb_rows = rdb(\"count example\").py()\n",
    "\n",
    "display(rdb_sample_pdf)\n",
    "print(f\"Rows: {rdb_rows:,}\")"
   ]
  },
  {
   "cell_type": "markdown",
   "id": "1b1b9caa-bd25-4084-b797-6063f2abd9dd",
   "metadata": {
    "tags": []
   },
   "source": [
    "## Step 1: Save table and sym locally"
   ]
  },
  {
   "cell_type": "code",
   "execution_count": 6,
   "id": "ace112e5-9ab5-4802-bbaa-95973e84e9c6",
   "metadata": {},
   "outputs": [
    {
     "name": "stdout",
     "output_type": "stream",
     "text": [
      "Saving to: 2023.07.26\n",
      "Saved to: /opt/kx/app/scratch\n"
     ]
    }
   ],
   "source": [
    "# date directory\n",
    "today = datetime.date.today()\n",
    "\n",
    "date_dir = today.strftime(\"%Y.%m.%d\")\n",
    "\n",
    "print( f\"Saving to: {date_dir}\" )\n",
    "rdb( f\".Q.dpfts[`:{scratch_path};{date_dir};`sym;`example;`sym]\" )\n",
    "print( f\"Saved to: {scratch_path}\" )\n"
   ]
  },
  {
   "cell_type": "markdown",
   "id": "e8842d71-42d6-4aba-bae9-920bd42fde1b",
   "metadata": {},
   "source": [
    "## Step 2: Savedown: add changeset to database\n",
    "\n",
    "a. Table of changes for the changset  \n",
    "b. Create Changeset  \n",
    "c. Wait for Changeset to be added"
   ]
  },
  {
   "cell_type": "code",
   "execution_count": 7,
   "id": "2b6034c5-0d52-489f-8822-a87cb76e9a43",
   "metadata": {},
   "outputs": [
    {
     "data": {
      "text/plain": [
       "[{'input_path': '/opt/kx/app/scratch/2023.07.26',\n",
       "  'database_path': '/2023.07.26/',\n",
       "  'change_type': 'PUT'},\n",
       " {'input_path': '/opt/kx/app/scratch/sym',\n",
       "  'database_path': '/',\n",
       "  'change_type': 'PUT'}]"
      ]
     },
     "metadata": {},
     "output_type": "display_data"
    }
   ],
   "source": [
    "# pandas table that catalogs the changeset's contents\n",
    "cr = [\n",
    "    {'input_path': f'{scratch_path}/{date_dir}', 'database_path': f'/{date_dir}/', 'change_type':'PUT'},\n",
    "    {'input_path': f'{scratch_path}/sym', 'database_path': f'/', 'change_type':'PUT'},\n",
    "]\n",
    "\n",
    "display(cr)\n",
    "\n",
    "# send to rdb\n",
    "rdb['c_r'] = cr"
   ]
  },
  {
   "cell_type": "code",
   "execution_count": 8,
   "id": "2c84f17c-1db6-4023-9651-840e94c7c6a9",
   "metadata": {},
   "outputs": [
    {
     "name": "stdout",
     "output_type": "stream",
     "text": [
      "Creating changeset for: basictickdb\n",
      "ChangesetID: OMTJ1CPJNAvq0RQF3o7xFQ\n"
     ]
    }
   ],
   "source": [
    "print(f\"Creating changeset for: {DB_NAME}\")\n",
    "\n",
    "res = rdb(f\".aws.create_changeset[\\\"{DB_NAME}\\\";c_r]\")\n",
    "\n",
    "CHANGESET_ID = str(res.get(\"id\"))\n",
    "print(f\"ChangesetID: {CHANGESET_ID}\")"
   ]
  },
  {
   "cell_type": "code",
   "execution_count": 9,
   "id": "d0fd43be-7d53-49f5-a006-d285cd5cfeef",
   "metadata": {},
   "outputs": [
    {
     "name": "stdout",
     "output_type": "stream",
     "text": [
      "Status is IN_PROGRESS, total wait 0:00:00, waiting 10 sec ...\n",
      "Status is IN_PROGRESS, total wait 0:00:10, waiting 10 sec ...\n",
      "Status is IN_PROGRESS, total wait 0:00:20, waiting 10 sec ...\n",
      "Status is IN_PROGRESS, total wait 0:00:30, waiting 10 sec ...\n",
      "Status is IN_PROGRESS, total wait 0:00:40, waiting 10 sec ...\n",
      "** Done **\n"
     ]
    }
   ],
   "source": [
    "# wait for ingestion\n",
    "wait_for_changeset_status(client, environmentId=ENV_ID, databaseName=DB_NAME, changesetId=CHANGESET_ID, show_wait=True)\n",
    "print(\"** Done **\")"
   ]
  },
  {
   "cell_type": "markdown",
   "id": "6ed32b22-2c02-48d0-9530-ca73eded8233",
   "metadata": {},
   "source": [
    "### Optional: Clean up RDB\n",
    "Optionally clean up by deleting files created and clear the example table."
   ]
  },
  {
   "cell_type": "code",
   "execution_count": 10,
   "id": "0f8c8296-b840-415f-83dd-f0ebd6f85708",
   "metadata": {},
   "outputs": [
    {
     "name": "stdout",
     "output_type": "stream",
     "text": [
      "Cleaning: /opt/kx/app/scratch\n"
     ]
    }
   ],
   "source": [
    "# clear the RDB\n",
    "if clear_rdb:\n",
    "    print(f\"Cleaning: {scratch_path}\")\n",
    "\n",
    "    rdb(f\"system \\\" rm -rf {scratch_path}/*\\\"\")\n",
    "\n",
    "    # remove tables\n",
    "    rdb(\"delete from `example\")\n",
    "    rdb(\"delete c_r from `.\")"
   ]
  },
  {
   "cell_type": "markdown",
   "id": "fe9de679-e109-41de-b61b-dc22ab7f5a56",
   "metadata": {},
   "source": [
    "# HDB: Update\n",
    "Update the cluster's database to new changeset.\n"
   ]
  },
  {
   "cell_type": "code",
   "execution_count": null,
   "id": "d308bf8e-3fcf-4bd7-a8bd-6f7e8ebee864",
   "metadata": {},
   "outputs": [],
   "source": [
    "DB_CONFIG=[{'databaseName': DB_NAME,\n",
    "   'cacheConfigurations': [{'cacheType': 'CACHE_1000', 'dbPaths': ['/']}],\n",
    "   'changesetId': CHANGESET_ID}]\n",
    "\n",
    "client.update_kx_cluster_databases(environmentId=ENV_ID, clusterName=HDB_CLUSTER_NAME, databases=DB_CONFIG)\n",
    "\n",
    "wait_for_cluster_status(client, environmentId=ENV_ID, clusterName=HDB_CLUSTER_NAME)\n",
    "print(\"** Done **\")"
   ]
  },
  {
   "cell_type": "markdown",
   "id": "e3f1a530-e64f-4734-ab5a-edb82829755e",
   "metadata": {},
   "source": [
    "# Gateway: Re-Connect\n",
    "Using PyKX, connect to the Gateway cluster and have it re-connect to its Databases. Connection to the HDB would have been lost during the HDB update process.\n"
   ]
  },
  {
   "cell_type": "code",
   "execution_count": null,
   "id": "e0ba7b05-b634-4ea0-b11f-ed32b591c6eb",
   "metadata": {},
   "outputs": [],
   "source": [
    "# Connect to the Gateway with PyKX\n",
    "gw = get_pykx_connection(client, \n",
    "                          environmentId=ENV_ID, clusterName=GW_CLUSTER_NAME, \n",
    "                          userName=KDB_USERNAME, boto_session=session)\n",
    "\n",
    "# reinit the gateway, will re-connect to databases\n",
    "gw(\"reinit[hdb_name; rdb_name]\")\n",
    "\n",
    "# State of connected processes\n",
    "display( gw(\"select process, handle, connected, address from .conn.procs\").pd() )"
   ]
  },
  {
   "cell_type": "markdown",
   "id": "600173b9-6e31-4d24-aeda-c99fd8b236bd",
   "metadata": {},
   "source": [
    "# HDB: Before and After\n",
    "Dates and counts of the HDB before update and after."
   ]
  },
  {
   "cell_type": "code",
   "execution_count": null,
   "id": "1ba998a9-150e-43db-9a50-196d6ec3ad8d",
   "metadata": {},
   "outputs": [],
   "source": [
    "# Query the HDB for after state\n",
    "hdb = get_pykx_connection(client, \n",
    "                          environmentId=ENV_ID, clusterName=HDB_CLUSTER_NAME, \n",
    "                          userName=KDB_USERNAME, boto_session=session)\n",
    "\n",
    "# Latest Dates and Counts\n",
    "after_update_pdf = hdb(\"select counts:count i by date from example\").pd()\n",
    "after_rows = hdb(\"count example\").py()"
   ]
  },
  {
   "cell_type": "markdown",
   "id": "9f1cccb9-56e5-4eca-87a0-0c06655b3a40",
   "metadata": {},
   "source": [
    "### Before"
   ]
  },
  {
   "cell_type": "code",
   "execution_count": null,
   "id": "b29ad355-bfc9-418d-b829-985b58d00262",
   "metadata": {},
   "outputs": [],
   "source": [
    "display(before_update_pdf)\n",
    "\n",
    "# Number of Rows\n",
    "print(f\"Rows: {before_rows:,}\")"
   ]
  },
  {
   "cell_type": "markdown",
   "id": "ab5ab6d5-690d-457e-b500-9c5756f34ca6",
   "metadata": {},
   "source": [
    "### After"
   ]
  },
  {
   "cell_type": "code",
   "execution_count": null,
   "id": "12bd615a-c70c-4da6-aa11-7a5bbf0eedce",
   "metadata": {},
   "outputs": [],
   "source": [
    "display(after_update_pdf)\n",
    "\n",
    "# Number of Rows\n",
    "print(f\"Rows: {after_rows:,}\")"
   ]
  },
  {
   "cell_type": "code",
   "execution_count": null,
   "id": "b419d15a-08f6-4c90-bbfc-5f2e5433c9c2",
   "metadata": {},
   "outputs": [],
   "source": [
    "print( f\"Last Run: {datetime.datetime.now()}\" )"
   ]
  },
  {
   "cell_type": "code",
   "execution_count": null,
   "id": "ae4e0c76-e42f-4239-a29e-75721abeff6f",
   "metadata": {},
   "outputs": [],
   "source": []
  }
 ],
 "metadata": {
  "kernelspec": {
   "display_name": "Python 3 (ipykernel)",
   "language": "python",
   "name": "python3"
  },
  "language_info": {
   "codemirror_mode": {
    "name": "ipython",
    "version": 3
   },
   "file_extension": ".py",
   "mimetype": "text/x-python",
   "name": "python",
   "nbconvert_exporter": "python",
   "pygments_lexer": "ipython3",
   "version": "3.9.12"
  }
 },
 "nbformat": 4,
 "nbformat_minor": 5
}
