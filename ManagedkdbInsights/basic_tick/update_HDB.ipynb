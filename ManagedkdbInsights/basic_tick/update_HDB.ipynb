{
 "cells": [
  {
   "cell_type": "markdown",
   "id": "e13084db-c69f-4e70-aa79-acfd2159093a",
   "metadata": {},
   "source": [
    "# BasicTick: Update HDB's Database Version\n",
    "This noteboook will update the HDB cluster to use the most recent version (changeset) of the database to reflect a change created by the RDB."
   ]
  },
  {
   "cell_type": "code",
   "execution_count": 1,
   "id": "b058c1df-087e-4856-828c-e296ecd1a95c",
   "metadata": {},
   "outputs": [],
   "source": [
    "# clusters\n",
    "RDB_CLUSTER_NAME=\"RDB_basictickdb_20230601\"\n",
    "HDB_CLUSTER_NAME=\"HDB_basictickdb_20230601\"\n",
    "\n",
    "# database\n",
    "DB_NAME=\"basictickdb\""
   ]
  },
  {
   "cell_type": "code",
   "execution_count": 2,
   "id": "3698017d-42ed-4280-afa1-723f19ae398c",
   "metadata": {},
   "outputs": [],
   "source": [
    "import os\n",
    "import boto3\n",
    "import json\n",
    "import datetime\n",
    "\n",
    "from managed_kx import *\n",
    "from env2 import *\n"
   ]
  },
  {
   "cell_type": "code",
   "execution_count": 3,
   "id": "ed241efe-523e-4d2f-8e1b-94a09adf42e7",
   "metadata": {},
   "outputs": [
    {
     "name": "stdout",
     "output_type": "stream",
     "text": [
      "Using variables ...\n"
     ]
    }
   ],
   "source": [
    "# triggers credential get\n",
    "session=None\n",
    "\n",
    "try:\n",
    "    # aws: use ada for credentials\n",
    "    subprocess.call([\"which\", \"ada\"])\n",
    "    os.system(f\"ada credentials update --account={ACCOUNT_ID} --provider=isengard --role=Admin --once\")\n",
    "except: \n",
    "    None\n",
    "\n",
    "if AWS_ACCESS_KEY_ID is None:\n",
    "    print(\"Using Defaults ...\")\n",
    "    # create AWS session: using access variables\n",
    "    session = boto3.Session()\n",
    "else:\n",
    "    print(\"Using variables ...\")\n",
    "    session = boto3.Session(\n",
    "        aws_access_key_id=AWS_ACCESS_KEY_ID,\n",
    "        aws_secret_access_key=AWS_SECRET_ACCESS_KEY,\n",
    "        aws_session_token=AWS_SESSION_TOKEN\n",
    "    )\n",
    "\n",
    "# create finspace client\n",
    "client = session.client(service_name='finspace', endpoint_url=ENDPOINT_URL)"
   ]
  },
  {
   "cell_type": "markdown",
   "id": "341d8f9f-5ab6-41c3-9443-a4fba50c730c",
   "metadata": {},
   "source": [
    "# Cluster Details"
   ]
  },
  {
   "cell_type": "code",
   "execution_count": 4,
   "id": "47975765-8744-45a9-928a-daa9734a6433",
   "metadata": {},
   "outputs": [
    {
     "data": {
      "text/plain": [
       "{'status': 'RUNNING',\n",
       " 'clusterName': 'HDB_basictickdb_20230601',\n",
       " 'clusterType': 'HDB',\n",
       " 'databases': [{'databaseName': 'basictickdb',\n",
       "   'cacheConfigurations': [{'cacheType': 'CACHE_1000', 'dbPaths': ['/']}],\n",
       "   'changesetId': 'uMQ5qhWLaIRqY97nyAU9cg'}],\n",
       " 'cacheStorageConfigurations': [{'type': 'CACHE_1000', 'size': 1200}],\n",
       " 'clusterDescription': 'Created with create_HDB for basic_tick notebook',\n",
       " 'capacityConfiguration': {'nodeType': 'kx.s.xlarge', 'nodeCount': 3},\n",
       " 'releaseLabel': '1.0',\n",
       " 'vpcConfiguration': {'vpcId': 'vpc-0e702dec545865b11',\n",
       "  'securityGroupIds': ['sg-018111774e795682d'],\n",
       "  'subnetIds': ['subnet-0f97cae6600859c17'],\n",
       "  'ipAddressType': 'IP_V4'},\n",
       " 'initializationScript': 'basictick/hdbmkdb.q',\n",
       " 'commandLineArguments': [{'key': 's', 'value': '8'},\n",
       "  {'key': 'dbname', 'value': 'basictickdb'},\n",
       "  {'key': 'codebase', 'value': 'basictick'}],\n",
       " 'code': {'s3Bucket': 'kdb-demo-612841383594', 's3Key': 'code/basictick.zip'},\n",
       " 'lastModifiedTimestamp': datetime.datetime(2023, 6, 1, 14, 36, 42, 745000, tzinfo=tzlocal()),\n",
       " 'azMode': 'SINGLE',\n",
       " 'availabilityZoneId': 'use1-az4',\n",
       " 'createdTimestamp': datetime.datetime(2023, 6, 1, 14, 17, 16, 753000, tzinfo=tzlocal())}"
      ]
     },
     "metadata": {},
     "output_type": "display_data"
    }
   ],
   "source": [
    "try:\n",
    "    resp=client.get_kx_cluster(environmentId=ENV_ID, clusterName=HDB_CLUSTER_NAME)\n",
    "    resp.pop('ResponseMetadata')\n",
    "except client.exceptions.ResourceNotFoundException:\n",
    "    resp=f\"Cluster: {HDB_CLUSTER_NAME} Not Found\"\n",
    "\n",
    "display(resp)"
   ]
  },
  {
   "cell_type": "markdown",
   "id": "6b7294c7-d9a3-4fb2-b671-12ead3e17e83",
   "metadata": {},
   "source": [
    "# Database Details"
   ]
  },
  {
   "cell_type": "code",
   "execution_count": 5,
   "id": "b78cd04a-feb5-4b3b-a8cc-066c5a2e1cf3",
   "metadata": {},
   "outputs": [
    {
     "name": "stdout",
     "output_type": "stream",
     "text": [
      "====================================================================================================\n",
      "Database: basictickdb, Changesets: \n",
      "Welcome kdb database\n",
      "Bytes: 128,321,636 Changesets: 4 Files: 49\n",
      "----------------------------------------------------------------------------------------------------\n"
     ]
    },
    {
     "data": {
      "text/html": [
       "<div>\n",
       "<style scoped>\n",
       "    .dataframe tbody tr th:only-of-type {\n",
       "        vertical-align: middle;\n",
       "    }\n",
       "\n",
       "    .dataframe tbody tr th {\n",
       "        vertical-align: top;\n",
       "    }\n",
       "\n",
       "    .dataframe thead th {\n",
       "        text-align: right;\n",
       "    }\n",
       "</style>\n",
       "<table border=\"1\" class=\"dataframe\">\n",
       "  <thead>\n",
       "    <tr style=\"text-align: right;\">\n",
       "      <th></th>\n",
       "      <th>changesetId</th>\n",
       "      <th>createdTimestamp</th>\n",
       "      <th>activeFromTimestamp</th>\n",
       "      <th>lastModifiedTimestamp</th>\n",
       "      <th>status</th>\n",
       "    </tr>\n",
       "  </thead>\n",
       "  <tbody>\n",
       "    <tr>\n",
       "      <th>0</th>\n",
       "      <td>6MQ7xgjt29JRIm3iuzFPxg</td>\n",
       "      <td>2023-06-01 15:20:48.348000+00:00</td>\n",
       "      <td>2023-06-01 15:21:27.636000+00:00</td>\n",
       "      <td>2023-06-01 15:20:48.348000+00:00</td>\n",
       "      <td>COMPLETED</td>\n",
       "    </tr>\n",
       "    <tr>\n",
       "      <th>1</th>\n",
       "      <td>uMQ5qhWLaIRqY97nyAU9cg</td>\n",
       "      <td>2023-05-31 19:41:15.927000+00:00</td>\n",
       "      <td>2023-05-31 19:41:32.752000+00:00</td>\n",
       "      <td>2023-05-31 19:41:15.928000+00:00</td>\n",
       "      <td>COMPLETED</td>\n",
       "    </tr>\n",
       "    <tr>\n",
       "      <th>2</th>\n",
       "      <td>QsQ3lbQfnmumBgZOeiPIOw</td>\n",
       "      <td>2023-05-31 00:18:15.744000+00:00</td>\n",
       "      <td>2023-05-31 00:18:48.111000+00:00</td>\n",
       "      <td>2023-05-31 00:18:15.744000+00:00</td>\n",
       "      <td>COMPLETED</td>\n",
       "    </tr>\n",
       "    <tr>\n",
       "      <th>3</th>\n",
       "      <td>ZsQ3eXNny4UaexiXtmEkZg</td>\n",
       "      <td>2023-05-30 23:22:00.273000+00:00</td>\n",
       "      <td>2023-05-30 23:22:26.348000+00:00</td>\n",
       "      <td>2023-05-30 23:22:00.273000+00:00</td>\n",
       "      <td>COMPLETED</td>\n",
       "    </tr>\n",
       "  </tbody>\n",
       "</table>\n",
       "</div>"
      ],
      "text/plain": [
       "              changesetId                 createdTimestamp  \\\n",
       "0  6MQ7xgjt29JRIm3iuzFPxg 2023-06-01 15:20:48.348000+00:00   \n",
       "1  uMQ5qhWLaIRqY97nyAU9cg 2023-05-31 19:41:15.927000+00:00   \n",
       "2  QsQ3lbQfnmumBgZOeiPIOw 2023-05-31 00:18:15.744000+00:00   \n",
       "3  ZsQ3eXNny4UaexiXtmEkZg 2023-05-30 23:22:00.273000+00:00   \n",
       "\n",
       "               activeFromTimestamp            lastModifiedTimestamp     status  \n",
       "0 2023-06-01 15:21:27.636000+00:00 2023-06-01 15:20:48.348000+00:00  COMPLETED  \n",
       "1 2023-05-31 19:41:32.752000+00:00 2023-05-31 19:41:15.928000+00:00  COMPLETED  \n",
       "2 2023-05-31 00:18:48.111000+00:00 2023-05-31 00:18:15.744000+00:00  COMPLETED  \n",
       "3 2023-05-30 23:22:26.348000+00:00 2023-05-30 23:22:00.273000+00:00  COMPLETED  "
      ]
     },
     "metadata": {},
     "output_type": "display_data"
    }
   ],
   "source": [
    "dump_database(client, ENV_ID, DB_NAME)"
   ]
  },
  {
   "cell_type": "code",
   "execution_count": 6,
   "id": "67d821ea-b58d-4ff8-a652-b5242484caa7",
   "metadata": {},
   "outputs": [
    {
     "name": "stdout",
     "output_type": "stream",
     "text": [
      "Latest Changeset\n"
     ]
    },
    {
     "data": {
      "text/plain": [
       "{'changesetId': '6MQ7xgjt29JRIm3iuzFPxg',\n",
       " 'createdTimestamp': datetime.datetime(2023, 6, 1, 15, 20, 48, 348000, tzinfo=tzlocal()),\n",
       " 'activeFromTimestamp': datetime.datetime(2023, 6, 1, 15, 21, 27, 636000, tzinfo=tzlocal()),\n",
       " 'lastModifiedTimestamp': datetime.datetime(2023, 6, 1, 15, 20, 48, 348000, tzinfo=tzlocal()),\n",
       " 'status': 'COMPLETED'}"
      ]
     },
     "metadata": {},
     "output_type": "display_data"
    },
    {
     "name": "stdout",
     "output_type": "stream",
     "text": [
      "\n",
      "ChangesetId: 6MQ7xgjt29JRIm3iuzFPxg\n",
      "\n"
     ]
    },
    {
     "data": {
      "text/plain": [
       "{'ResponseMetadata': {'RequestId': '57cd0583-1e81-465c-a62a-a5e767ee95bd',\n",
       "  'HTTPStatusCode': 200,\n",
       "  'HTTPHeaders': {'content-type': 'application/x-amz-json-1.1',\n",
       "   'content-length': '544',\n",
       "   'connection': 'keep-alive',\n",
       "   'date': 'Thu, 01 Jun 2023 15:22:00 GMT',\n",
       "   'x-amzn-requestid': '57cd0583-1e81-465c-a62a-a5e767ee95bd',\n",
       "   'x-amz-apigw-id': 'F2Gf2G12IAMF-CQ=',\n",
       "   'x-amzn-trace-id': 'Root=1-6478b798-15066df237391d4a4845b065',\n",
       "   'x-cache': 'Miss from cloudfront',\n",
       "   'via': '1.1 aef197034a978e986954f2826c90b090.cloudfront.net (CloudFront)',\n",
       "   'x-amz-cf-pop': 'IAD55-P1',\n",
       "   'x-amz-cf-id': 'HOc0kTlhJO60KIX4iEN02nsQX3DJjT-7Avukpw9hVJ2bN3cilwrU_Q=='},\n",
       "  'RetryAttempts': 0},\n",
       " 'changesetId': '6MQ7xgjt29JRIm3iuzFPxg',\n",
       " 'databaseName': 'basictickdb',\n",
       " 'environmentId': 'itcdoumzc5cixt5vh4t6dp',\n",
       " 'changeRequests': [{'changeType': 'PUT',\n",
       "   's3Path': 's3://finspace-landing-us-east-1-itcdoumzc5cixt5vh4t6dp/jgYOL_krL4tiTGXIFfEtV/0/',\n",
       "   'dbPath': '/2023.06.01/'},\n",
       "  {'changeType': 'PUT',\n",
       "   's3Path': 's3://finspace-landing-us-east-1-itcdoumzc5cixt5vh4t6dp/jgYOL_krL4tiTGXIFfEtV/1/',\n",
       "   'dbPath': '/'}],\n",
       " 'createdTimestamp': datetime.datetime(2023, 6, 1, 15, 20, 48, 348000, tzinfo=tzlocal()),\n",
       " 'activeFromTimestamp': datetime.datetime(2023, 6, 1, 15, 21, 27, 636000, tzinfo=tzlocal()),\n",
       " 'lastModifiedTimestamp': datetime.datetime(2023, 6, 1, 15, 20, 48, 348000, tzinfo=tzlocal()),\n",
       " 'status': 'COMPLETED'}"
      ]
     },
     "metadata": {},
     "output_type": "display_data"
    }
   ],
   "source": [
    "db = client.get_kx_database(environmentId=ENV_ID, databaseName=DB_NAME)\n",
    "\n",
    "try:\n",
    "    c_set_list = client.list_kx_changesets(environmentId=ENV_ID, databaseName=DB_NAME)['kxChangesets']\n",
    "except:\n",
    "    note_str = \"<<Could not get changesets>>\"\n",
    "\n",
    "# sort by create time, most recent first\n",
    "c_set_list = sorted(c_set_list, key=lambda d: d['createdTimestamp'], reverse=True) \n",
    "\n",
    "# first changeset\n",
    "CHANGESET_ID=c_set_list[0]['changesetId']\n",
    "\n",
    "print(f\"Latest Changeset\")\n",
    "display(c_set_list[0])\n",
    "print()\n",
    "\n",
    "print(f\"ChangesetId: {CHANGESET_ID}\")\n",
    "print()\n",
    "c_set = client.get_kx_changeset(environmentId=ENV_ID, databaseName=DB_NAME, changesetId=CHANGESET_ID)\n",
    "display(c_set)"
   ]
  },
  {
   "cell_type": "markdown",
   "id": "3e50e0f6-6a9e-4048-9e2d-c727ad7949c1",
   "metadata": {},
   "source": [
    "## Update Cluster with latest changeset"
   ]
  },
  {
   "cell_type": "raw",
   "id": "72b1a293-f98b-43e7-9274-95e1f0fd3177",
   "metadata": {
    "jupyter": {
     "outputs_hidden": true
    },
    "tags": []
   },
   "source": [
    "help(client.update_kx_cluster_databases)"
   ]
  },
  {
   "cell_type": "code",
   "execution_count": 7,
   "id": "d308bf8e-3fcf-4bd7-a8bd-6f7e8ebee864",
   "metadata": {},
   "outputs": [
    {
     "data": {
      "text/plain": [
       "{'ResponseMetadata': {'RequestId': '879fb7ef-837f-4fe3-80de-12dc1e76908a',\n",
       "  'HTTPStatusCode': 200,\n",
       "  'HTTPHeaders': {'content-type': 'application/json',\n",
       "   'content-length': '2',\n",
       "   'connection': 'keep-alive',\n",
       "   'date': 'Thu, 01 Jun 2023 15:22:03 GMT',\n",
       "   'x-amzn-requestid': '879fb7ef-837f-4fe3-80de-12dc1e76908a',\n",
       "   'x-amz-apigw-id': 'F2Gf5E26IAMFdnQ=',\n",
       "   'x-amzn-trace-id': 'Root=1-6478b798-31bb321510e96ea31626f588',\n",
       "   'x-cache': 'Miss from cloudfront',\n",
       "   'via': '1.1 aef197034a978e986954f2826c90b090.cloudfront.net (CloudFront)',\n",
       "   'x-amz-cf-pop': 'IAD55-P1',\n",
       "   'x-amz-cf-id': 'hzTk7MpKuqgQiObTfBAOOwMzwtidVt093UG4xAns1R6KQznNp4rmrw=='},\n",
       "  'RetryAttempts': 0}}"
      ]
     },
     "execution_count": 7,
     "metadata": {},
     "output_type": "execute_result"
    }
   ],
   "source": [
    "DB_CONFIG=[{'databaseName': DB_NAME,\n",
    "   'cacheConfigurations': [{'cacheType': 'CACHE_1000', 'dbPaths': ['/']}],\n",
    "   'changesetId': CHANGESET_ID}]\n",
    "\n",
    "resp=client.update_kx_cluster_databases(environmentId=ENV_ID, clusterName=HDB_CLUSTER_NAME, databases=DB_CONFIG)\n",
    "resp"
   ]
  },
  {
   "cell_type": "code",
   "execution_count": 8,
   "id": "5021ce0a-6771-4eb5-aecf-b26cb9710d62",
   "metadata": {},
   "outputs": [
    {
     "name": "stdout",
     "output_type": "stream",
     "text": [
      "Cluster: HDB_basictickdb_20230601 status is UPDATING, total wait 0:00:00, waiting 30 sec ...\n",
      "Cluster: HDB_basictickdb_20230601 status is UPDATING, total wait 0:00:30, waiting 30 sec ...\n",
      "Cluster: HDB_basictickdb_20230601 status is UPDATING, total wait 0:01:00, waiting 30 sec ...\n",
      "Cluster: HDB_basictickdb_20230601 status is UPDATING, total wait 0:01:30, waiting 30 sec ...\n",
      "Cluster: HDB_basictickdb_20230601 status is UPDATING, total wait 0:02:00, waiting 30 sec ...\n",
      "Cluster: HDB_basictickdb_20230601 status is UPDATING, total wait 0:02:30, waiting 30 sec ...\n",
      "Cluster: HDB_basictickdb_20230601 status is UPDATING, total wait 0:03:00, waiting 30 sec ...\n",
      "Cluster: HDB_basictickdb_20230601 status is UPDATING, total wait 0:03:30, waiting 30 sec ...\n",
      "Cluster: HDB_basictickdb_20230601 status is UPDATING, total wait 0:04:00, waiting 30 sec ...\n",
      "Cluster: HDB_basictickdb_20230601 status is UPDATING, total wait 0:04:30, waiting 30 sec ...\n",
      "Cluster: HDB_basictickdb_20230601 status is UPDATING, total wait 0:05:00, waiting 30 sec ...\n",
      "Cluster: HDB_basictickdb_20230601 status is UPDATING, total wait 0:05:30, waiting 30 sec ...\n",
      "Cluster: HDB_basictickdb_20230601 status is UPDATING, total wait 0:06:00, waiting 30 sec ...\n",
      "Cluster: HDB_basictickdb_20230601 status is UPDATING, total wait 0:06:30, waiting 30 sec ...\n",
      "Cluster: HDB_basictickdb_20230601 status is UPDATING, total wait 0:07:00, waiting 30 sec ...\n",
      "Cluster: HDB_basictickdb_20230601 status is UPDATING, total wait 0:07:30, waiting 30 sec ...\n",
      "Cluster: HDB_basictickdb_20230601 status is UPDATING, total wait 0:08:00, waiting 30 sec ...\n",
      "Cluster: HDB_basictickdb_20230601 status is UPDATING, total wait 0:08:30, waiting 30 sec ...\n",
      "Cluster: HDB_basictickdb_20230601 status is UPDATING, total wait 0:09:00, waiting 30 sec ...\n",
      "Cluster: HDB_basictickdb_20230601 status is UPDATING, total wait 0:09:30, waiting 30 sec ...\n",
      "Cluster: HDB_basictickdb_20230601 status is UPDATING, total wait 0:10:00, waiting 30 sec ...\n",
      "Cluster: HDB_basictickdb_20230601 status is UPDATING, total wait 0:10:30, waiting 30 sec ...\n",
      "Cluster: HDB_basictickdb_20230601 status is UPDATING, total wait 0:11:00, waiting 30 sec ...\n",
      "Cluster: HDB_basictickdb_20230601 status is UPDATING, total wait 0:11:30, waiting 30 sec ...\n",
      "Cluster: HDB_basictickdb_20230601 status is UPDATING, total wait 0:12:00, waiting 30 sec ...\n",
      "Cluster: HDB_basictickdb_20230601 status is UPDATING, total wait 0:12:30, waiting 30 sec ...\n",
      "Cluster: HDB_basictickdb_20230601 status is UPDATING, total wait 0:13:00, waiting 30 sec ...\n",
      "Cluster: HDB_basictickdb_20230601 status is UPDATING, total wait 0:13:30, waiting 30 sec ...\n",
      "Cluster: HDB_basictickdb_20230601 status is UPDATING, total wait 0:14:00, waiting 30 sec ...\n",
      "Cluster: HDB_basictickdb_20230601 status is now RUNNING, total wait 0:14:30\n"
     ]
    },
    {
     "data": {
      "text/plain": [
       "{'status': 'RUNNING',\n",
       " 'clusterName': 'HDB_basictickdb_20230601',\n",
       " 'clusterType': 'HDB',\n",
       " 'databases': [{'databaseName': 'basictickdb',\n",
       "   'cacheConfigurations': [{'cacheType': 'CACHE_1000', 'dbPaths': ['/']}],\n",
       "   'changesetId': '6MQ7xgjt29JRIm3iuzFPxg'}],\n",
       " 'cacheStorageConfigurations': [{'type': 'CACHE_1000', 'size': 1200}],\n",
       " 'clusterDescription': 'Created with create_HDB for basic_tick notebook',\n",
       " 'capacityConfiguration': {'nodeType': 'kx.s.xlarge', 'nodeCount': 3},\n",
       " 'releaseLabel': '1.0',\n",
       " 'vpcConfiguration': {'vpcId': 'vpc-0e702dec545865b11',\n",
       "  'securityGroupIds': ['sg-018111774e795682d'],\n",
       "  'subnetIds': ['subnet-0f97cae6600859c17'],\n",
       "  'ipAddressType': 'IP_V4'},\n",
       " 'initializationScript': 'basictick/hdbmkdb.q',\n",
       " 'commandLineArguments': [{'key': 's', 'value': '8'},\n",
       "  {'key': 'dbname', 'value': 'basictickdb'},\n",
       "  {'key': 'codebase', 'value': 'basictick'}],\n",
       " 'code': {'s3Bucket': 'kdb-demo-612841383594', 's3Key': 'code/basictick.zip'},\n",
       " 'lastModifiedTimestamp': datetime.datetime(2023, 6, 1, 15, 36, 24, 487000, tzinfo=tzlocal()),\n",
       " 'azMode': 'SINGLE',\n",
       " 'availabilityZoneId': 'use1-az4',\n",
       " 'createdTimestamp': datetime.datetime(2023, 6, 1, 14, 17, 16, 753000, tzinfo=tzlocal())}"
      ]
     },
     "execution_count": 8,
     "metadata": {},
     "output_type": "execute_result"
    }
   ],
   "source": [
    "wait_for_cluster_status(client, environmentId=ENV_ID, clusterName=HDB_CLUSTER_NAME, show_wait=True)"
   ]
  },
  {
   "cell_type": "markdown",
   "id": "600173b9-6e31-4d24-aeda-c99fd8b236bd",
   "metadata": {},
   "source": [
    "# Update the Gateway\n",
    "reinit the gateway to reacquire the secure connection string the HDB now that its back.\n",
    "\n",
    "# Show Updated HDB\n",
    "You can now return to the create_EOD_changset or query_HDB_updated notebooks to query the HDB after the update.\n",
    "\n",
    "- [create_EOD_changeset](create_EOD_changeset.ipynb)\n",
    "- [query_HDB_updated](query_HDB_updated.ipynb)"
   ]
  },
  {
   "cell_type": "code",
   "execution_count": 9,
   "id": "b419d15a-08f6-4c90-bbfc-5f2e5433c9c2",
   "metadata": {},
   "outputs": [
    {
     "name": "stdout",
     "output_type": "stream",
     "text": [
      "Last Run: 2023-06-01 15:36:45.722074\n"
     ]
    }
   ],
   "source": [
    "print( f\"Last Run: {datetime.datetime.now()}\" )"
   ]
  },
  {
   "cell_type": "code",
   "execution_count": null,
   "id": "b2292bc6-6089-4fcc-8665-5d02438cd96c",
   "metadata": {},
   "outputs": [],
   "source": []
  }
 ],
 "metadata": {
  "kernelspec": {
   "display_name": "Python 3 (ipykernel)",
   "language": "python",
   "name": "python3"
  },
  "language_info": {
   "codemirror_mode": {
    "name": "ipython",
    "version": 3
   },
   "file_extension": ".py",
   "mimetype": "text/x-python",
   "name": "python",
   "nbconvert_exporter": "python",
   "pygments_lexer": "ipython3",
   "version": "3.9.12"
  }
 },
 "nbformat": 4,
 "nbformat_minor": 5
}
