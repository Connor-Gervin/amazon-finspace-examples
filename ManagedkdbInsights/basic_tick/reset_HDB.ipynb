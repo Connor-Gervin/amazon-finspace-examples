{
 "cells": [
  {
   "cell_type": "markdown",
   "id": "e13084db-c69f-4e70-aa79-acfd2159093a",
   "metadata": {},
   "source": [
    "# BasicTick: Update HDB's Database Version\n",
    "This notebook will add a changeset to remove a specific date partition."
   ]
  },
  {
   "cell_type": "code",
   "execution_count": 1,
   "id": "b058c1df-087e-4856-828c-e296ecd1a95c",
   "metadata": {},
   "outputs": [],
   "source": [
    "HDB_CLUSTER_NAME=\"HDB_basictickdb_20230517_b\"\n",
    "\n",
    "# database\n",
    "DB_NAME=\"basictickdb\"\n",
    "\n",
    "DATE_PARTS = [\"2023.05.18\"]"
   ]
  },
  {
   "cell_type": "code",
   "execution_count": 2,
   "id": "3698017d-42ed-4280-afa1-723f19ae398c",
   "metadata": {},
   "outputs": [],
   "source": [
    "import os\n",
    "import boto3\n",
    "import json\n",
    "import datetime\n",
    "\n",
    "from managed_kx import *\n",
    "from env2 import *\n"
   ]
  },
  {
   "cell_type": "code",
   "execution_count": 3,
   "id": "bdd29cc8-37ae-4f9f-9463-0f3c107b6d9e",
   "metadata": {},
   "outputs": [],
   "source": [
    "if DATE_PARTS is None:\n",
    "    today_dt = datetime.datetime.today().strftime('%Y.%m.%d')\n",
    "    DATE_PARTS = [ today_dt ]\n",
    "    "
   ]
  },
  {
   "cell_type": "code",
   "execution_count": 4,
   "id": "ed241efe-523e-4d2f-8e1b-94a09adf42e7",
   "metadata": {},
   "outputs": [
    {
     "name": "stdout",
     "output_type": "stream",
     "text": [
      "Using variables ...\n"
     ]
    }
   ],
   "source": [
    "# triggers credential get\n",
    "session=None\n",
    "\n",
    "try:\n",
    "    # aws: use ada for credentials\n",
    "    subprocess.call([\"which\", \"ada\"])\n",
    "    os.system(f\"ada credentials update --account={ACCOUNT_ID} --provider=isengard --role=Admin --once\")\n",
    "except: \n",
    "    None\n",
    "\n",
    "if AWS_ACCESS_KEY_ID is None:\n",
    "    print(\"Using Defaults ...\")\n",
    "    # create AWS session: using access variables\n",
    "    session = boto3.Session()\n",
    "else:\n",
    "    print(\"Using variables ...\")\n",
    "    session = boto3.Session(\n",
    "        aws_access_key_id=AWS_ACCESS_KEY_ID,\n",
    "        aws_secret_access_key=AWS_SECRET_ACCESS_KEY,\n",
    "        aws_session_token=AWS_SESSION_TOKEN\n",
    "    )\n",
    "\n",
    "# create finspace client\n",
    "client = session.client(service_name='finspace', endpoint_url=ENDPOINT_URL)"
   ]
  },
  {
   "cell_type": "markdown",
   "id": "6b7294c7-d9a3-4fb2-b671-12ead3e17e83",
   "metadata": {},
   "source": [
    "# Database Details"
   ]
  },
  {
   "cell_type": "code",
   "execution_count": 5,
   "id": "b78cd04a-feb5-4b3b-a8cc-066c5a2e1cf3",
   "metadata": {},
   "outputs": [
    {
     "name": "stdout",
     "output_type": "stream",
     "text": [
      "====================================================================================================\n",
      "Database: basictickdb, Changesets: \n",
      "Welcome kdb database\n",
      "Bytes: 645,289,212 Changesets: 16 Files: 65\n",
      "----------------------------------------------------------------------------------------------------\n"
     ]
    },
    {
     "data": {
      "text/html": [
       "<div>\n",
       "<style scoped>\n",
       "    .dataframe tbody tr th:only-of-type {\n",
       "        vertical-align: middle;\n",
       "    }\n",
       "\n",
       "    .dataframe tbody tr th {\n",
       "        vertical-align: top;\n",
       "    }\n",
       "\n",
       "    .dataframe thead th {\n",
       "        text-align: right;\n",
       "    }\n",
       "</style>\n",
       "<table border=\"1\" class=\"dataframe\">\n",
       "  <thead>\n",
       "    <tr style=\"text-align: right;\">\n",
       "      <th></th>\n",
       "      <th>changesetId</th>\n",
       "      <th>createdTimestamp</th>\n",
       "      <th>activeFromTimestamp</th>\n",
       "      <th>lastModifiedTimestamp</th>\n",
       "      <th>status</th>\n",
       "    </tr>\n",
       "  </thead>\n",
       "  <tbody>\n",
       "    <tr>\n",
       "      <th>0</th>\n",
       "      <td>zsQYQc6biKkcJ80G1jpJoQ</td>\n",
       "      <td>2023-05-18 20:18:31.864000+00:00</td>\n",
       "      <td>2023-05-18 20:19:18.094000+00:00</td>\n",
       "      <td>2023-05-18 20:18:31.864000+00:00</td>\n",
       "      <td>COMPLETED</td>\n",
       "    </tr>\n",
       "    <tr>\n",
       "      <th>1</th>\n",
       "      <td>lsQYOcSS64hRVpFIYqEVgg</td>\n",
       "      <td>2023-05-18 20:00:58.150000+00:00</td>\n",
       "      <td>2023-05-18 20:00:59.783000+00:00</td>\n",
       "      <td>2023-05-18 20:00:58.150000+00:00</td>\n",
       "      <td>COMPLETED</td>\n",
       "    </tr>\n",
       "    <tr>\n",
       "      <th>2</th>\n",
       "      <td>DMQYIFB9kqe73jyPAo08Lw</td>\n",
       "      <td>2023-05-18 19:05:21.916000+00:00</td>\n",
       "      <td>2023-05-18 19:06:28.127000+00:00</td>\n",
       "      <td>2023-05-18 19:05:21.916000+00:00</td>\n",
       "      <td>COMPLETED</td>\n",
       "    </tr>\n",
       "    <tr>\n",
       "      <th>3</th>\n",
       "      <td>OMQVInp2DRl0j1X5NUur4Q</td>\n",
       "      <td>2023-05-17 15:12:22.253000+00:00</td>\n",
       "      <td>2023-05-17 15:12:24.751000+00:00</td>\n",
       "      <td>2023-05-17 15:12:22.253000+00:00</td>\n",
       "      <td>COMPLETED</td>\n",
       "    </tr>\n",
       "    <tr>\n",
       "      <th>4</th>\n",
       "      <td>vsQU4I81f69XJ8lC2SbqEw</td>\n",
       "      <td>2023-05-17 12:48:22.123000+00:00</td>\n",
       "      <td>2023-05-17 12:49:23.889000+00:00</td>\n",
       "      <td>2023-05-17 12:48:22.123000+00:00</td>\n",
       "      <td>COMPLETED</td>\n",
       "    </tr>\n",
       "    <tr>\n",
       "      <th>5</th>\n",
       "      <td>nMQS5Mzc85SJyrJYYKC2ZQ</td>\n",
       "      <td>2023-05-16 18:19:09.114000+00:00</td>\n",
       "      <td>2023-05-16 18:20:14.573000+00:00</td>\n",
       "      <td>2023-05-16 18:19:09.115000+00:00</td>\n",
       "      <td>COMPLETED</td>\n",
       "    </tr>\n",
       "    <tr>\n",
       "      <th>6</th>\n",
       "      <td>LsQScAK0eaCmSEsA4Ohfvg</td>\n",
       "      <td>2023-05-16 14:04:01.257000+00:00</td>\n",
       "      <td>2023-05-16 14:05:03.633000+00:00</td>\n",
       "      <td>2023-05-16 14:04:01.257000+00:00</td>\n",
       "      <td>COMPLETED</td>\n",
       "    </tr>\n",
       "    <tr>\n",
       "      <th>7</th>\n",
       "      <td>lMQSMf3l4oEm02YnETL0Rg</td>\n",
       "      <td>2023-05-16 11:48:32.332000+00:00</td>\n",
       "      <td>2023-05-16 11:48:52.528000+00:00</td>\n",
       "      <td>2023-05-16 11:48:32.332000+00:00</td>\n",
       "      <td>COMPLETED</td>\n",
       "    </tr>\n",
       "    <tr>\n",
       "      <th>8</th>\n",
       "      <td>8sQSMJXEyK6x7KlIK0UX7w</td>\n",
       "      <td>2023-05-16 11:45:27.946000+00:00</td>\n",
       "      <td>2023-05-16 11:46:10.285000+00:00</td>\n",
       "      <td>2023-05-16 11:45:27.946000+00:00</td>\n",
       "      <td>COMPLETED</td>\n",
       "    </tr>\n",
       "    <tr>\n",
       "      <th>9</th>\n",
       "      <td>9sQQP9DqbotzCLwXd8nd9w</td>\n",
       "      <td>2023-05-15 17:40:15.445000+00:00</td>\n",
       "      <td>2023-05-15 17:41:19.135000+00:00</td>\n",
       "      <td>2023-05-15 17:40:15.445000+00:00</td>\n",
       "      <td>COMPLETED</td>\n",
       "    </tr>\n",
       "    <tr>\n",
       "      <th>10</th>\n",
       "      <td>RsQOUqEuAyXWjAETBBzHhw</td>\n",
       "      <td>2023-05-14 23:42:52.509000+00:00</td>\n",
       "      <td>2023-05-14 23:42:54.904000+00:00</td>\n",
       "      <td>2023-05-14 23:42:52.509000+00:00</td>\n",
       "      <td>COMPLETED</td>\n",
       "    </tr>\n",
       "    <tr>\n",
       "      <th>11</th>\n",
       "      <td>9sQOUXKpU7n0ToahqB7rXA</td>\n",
       "      <td>2023-05-14 23:40:17.619000+00:00</td>\n",
       "      <td>2023-05-14 23:41:14.519000+00:00</td>\n",
       "      <td>2023-05-14 23:40:17.619000+00:00</td>\n",
       "      <td>COMPLETED</td>\n",
       "    </tr>\n",
       "    <tr>\n",
       "      <th>12</th>\n",
       "      <td>KMQI0oQxo1ctpFHE78usBg</td>\n",
       "      <td>2023-05-12 20:26:48.292000+00:00</td>\n",
       "      <td>2023-05-12 20:27:07.712000+00:00</td>\n",
       "      <td>2023-05-12 20:26:48.292000+00:00</td>\n",
       "      <td>COMPLETED</td>\n",
       "    </tr>\n",
       "    <tr>\n",
       "      <th>13</th>\n",
       "      <td>jMQF9qgHg5gbAdWzPXThiA</td>\n",
       "      <td>2023-05-11 17:48:01.936000+00:00</td>\n",
       "      <td>2023-05-11 17:48:27.291000+00:00</td>\n",
       "      <td>2023-05-11 17:48:01.936000+00:00</td>\n",
       "      <td>COMPLETED</td>\n",
       "    </tr>\n",
       "    <tr>\n",
       "      <th>14</th>\n",
       "      <td>JsQF5kPLCisDXhHeShdSAA</td>\n",
       "      <td>2023-05-11 17:12:13.463000+00:00</td>\n",
       "      <td>2023-05-11 17:12:33.069000+00:00</td>\n",
       "      <td>2023-05-11 17:12:13.463000+00:00</td>\n",
       "      <td>COMPLETED</td>\n",
       "    </tr>\n",
       "    <tr>\n",
       "      <th>15</th>\n",
       "      <td>kMQDzNnXDH2rd497sgLvfg</td>\n",
       "      <td>2023-05-10 21:38:13.551000+00:00</td>\n",
       "      <td>2023-05-10 21:39:14.713000+00:00</td>\n",
       "      <td>2023-05-10 21:38:13.551000+00:00</td>\n",
       "      <td>COMPLETED</td>\n",
       "    </tr>\n",
       "  </tbody>\n",
       "</table>\n",
       "</div>"
      ],
      "text/plain": [
       "               changesetId                 createdTimestamp  \\\n",
       "0   zsQYQc6biKkcJ80G1jpJoQ 2023-05-18 20:18:31.864000+00:00   \n",
       "1   lsQYOcSS64hRVpFIYqEVgg 2023-05-18 20:00:58.150000+00:00   \n",
       "2   DMQYIFB9kqe73jyPAo08Lw 2023-05-18 19:05:21.916000+00:00   \n",
       "3   OMQVInp2DRl0j1X5NUur4Q 2023-05-17 15:12:22.253000+00:00   \n",
       "4   vsQU4I81f69XJ8lC2SbqEw 2023-05-17 12:48:22.123000+00:00   \n",
       "5   nMQS5Mzc85SJyrJYYKC2ZQ 2023-05-16 18:19:09.114000+00:00   \n",
       "6   LsQScAK0eaCmSEsA4Ohfvg 2023-05-16 14:04:01.257000+00:00   \n",
       "7   lMQSMf3l4oEm02YnETL0Rg 2023-05-16 11:48:32.332000+00:00   \n",
       "8   8sQSMJXEyK6x7KlIK0UX7w 2023-05-16 11:45:27.946000+00:00   \n",
       "9   9sQQP9DqbotzCLwXd8nd9w 2023-05-15 17:40:15.445000+00:00   \n",
       "10  RsQOUqEuAyXWjAETBBzHhw 2023-05-14 23:42:52.509000+00:00   \n",
       "11  9sQOUXKpU7n0ToahqB7rXA 2023-05-14 23:40:17.619000+00:00   \n",
       "12  KMQI0oQxo1ctpFHE78usBg 2023-05-12 20:26:48.292000+00:00   \n",
       "13  jMQF9qgHg5gbAdWzPXThiA 2023-05-11 17:48:01.936000+00:00   \n",
       "14  JsQF5kPLCisDXhHeShdSAA 2023-05-11 17:12:13.463000+00:00   \n",
       "15  kMQDzNnXDH2rd497sgLvfg 2023-05-10 21:38:13.551000+00:00   \n",
       "\n",
       "                activeFromTimestamp            lastModifiedTimestamp  \\\n",
       "0  2023-05-18 20:19:18.094000+00:00 2023-05-18 20:18:31.864000+00:00   \n",
       "1  2023-05-18 20:00:59.783000+00:00 2023-05-18 20:00:58.150000+00:00   \n",
       "2  2023-05-18 19:06:28.127000+00:00 2023-05-18 19:05:21.916000+00:00   \n",
       "3  2023-05-17 15:12:24.751000+00:00 2023-05-17 15:12:22.253000+00:00   \n",
       "4  2023-05-17 12:49:23.889000+00:00 2023-05-17 12:48:22.123000+00:00   \n",
       "5  2023-05-16 18:20:14.573000+00:00 2023-05-16 18:19:09.115000+00:00   \n",
       "6  2023-05-16 14:05:03.633000+00:00 2023-05-16 14:04:01.257000+00:00   \n",
       "7  2023-05-16 11:48:52.528000+00:00 2023-05-16 11:48:32.332000+00:00   \n",
       "8  2023-05-16 11:46:10.285000+00:00 2023-05-16 11:45:27.946000+00:00   \n",
       "9  2023-05-15 17:41:19.135000+00:00 2023-05-15 17:40:15.445000+00:00   \n",
       "10 2023-05-14 23:42:54.904000+00:00 2023-05-14 23:42:52.509000+00:00   \n",
       "11 2023-05-14 23:41:14.519000+00:00 2023-05-14 23:40:17.619000+00:00   \n",
       "12 2023-05-12 20:27:07.712000+00:00 2023-05-12 20:26:48.292000+00:00   \n",
       "13 2023-05-11 17:48:27.291000+00:00 2023-05-11 17:48:01.936000+00:00   \n",
       "14 2023-05-11 17:12:33.069000+00:00 2023-05-11 17:12:13.463000+00:00   \n",
       "15 2023-05-10 21:39:14.713000+00:00 2023-05-10 21:38:13.551000+00:00   \n",
       "\n",
       "       status  \n",
       "0   COMPLETED  \n",
       "1   COMPLETED  \n",
       "2   COMPLETED  \n",
       "3   COMPLETED  \n",
       "4   COMPLETED  \n",
       "5   COMPLETED  \n",
       "6   COMPLETED  \n",
       "7   COMPLETED  \n",
       "8   COMPLETED  \n",
       "9   COMPLETED  \n",
       "10  COMPLETED  \n",
       "11  COMPLETED  \n",
       "12  COMPLETED  \n",
       "13  COMPLETED  \n",
       "14  COMPLETED  \n",
       "15  COMPLETED  "
      ]
     },
     "metadata": {},
     "output_type": "display_data"
    }
   ],
   "source": [
    "dump_database(client, ENV_ID, DB_NAME)"
   ]
  },
  {
   "cell_type": "markdown",
   "id": "3e50e0f6-6a9e-4048-9e2d-c727ad7949c1",
   "metadata": {},
   "source": [
    "## (Virtually) Delete the Partition"
   ]
  },
  {
   "cell_type": "raw",
   "id": "72b1a293-f98b-43e7-9274-95e1f0fd3177",
   "metadata": {
    "jupyter": {
     "outputs_hidden": true
    },
    "tags": []
   },
   "source": [
    "help(client.update_kx_cluster_databases)"
   ]
  },
  {
   "cell_type": "code",
   "execution_count": 7,
   "id": "52d56da8-7926-420f-aea5-f7e8c848992e",
   "metadata": {},
   "outputs": [
    {
     "name": "stdout",
     "output_type": "stream",
     "text": [
      "Changeset...\n",
      "{\n",
      "    \"changeRequests\": [\n",
      "        {\n",
      "            \"changeType\": \"DELETE\",\n",
      "            \"dbPath\": \"/2023.05.18/\"\n",
      "        }\n",
      "    ],\n",
      "    \"changesetId\": \"XMQYQtxvGvGI3XfsfAvfuw\",\n",
      "    \"createdTimestamp\": \"2023-05-18 20:20:50.015000+00:00\",\n",
      "    \"databaseName\": \"basictickdb\",\n",
      "    \"environmentId\": \"ltb7ipj3j3kps24widyr4p\",\n",
      "    \"lastModifiedTimestamp\": \"2023-05-18 20:20:50.015000+00:00\",\n",
      "    \"status\": \"PENDING\"\n",
      "}\n"
     ]
    }
   ],
   "source": [
    "changes=[]\n",
    "\n",
    "for d in DATE_PARTS:\n",
    "    changes.append( { 'changeType': 'DELETE', 'dbPath': f\"/{d}/\" } )\n",
    "        \n",
    "resp = client.create_kx_changeset(environmentId=ENV_ID, databaseName=DB_NAME, \n",
    "    changeRequests=changes)\n",
    "\n",
    "resp.pop('ResponseMetadata', None)\n",
    "changeset_id = resp['changesetId']\n",
    "\n",
    "print(\"Changeset...\")\n",
    "print(json.dumps(resp,sort_keys=True,indent=4,default=str))"
   ]
  },
  {
   "cell_type": "code",
   "execution_count": 8,
   "id": "ed65a75c-6497-495b-8b1b-c45510dc076f",
   "metadata": {},
   "outputs": [
    {
     "name": "stdout",
     "output_type": "stream",
     "text": [
      "Status is IN_PROGRESS, total wait 0 sec, waiting 10 sec ...\n"
     ]
    },
    {
     "data": {
      "text/plain": [
       "{'changesetId': 'XMQYQtxvGvGI3XfsfAvfuw',\n",
       " 'databaseName': 'basictickdb',\n",
       " 'environmentId': 'ltb7ipj3j3kps24widyr4p',\n",
       " 'changeRequests': [{'changeType': 'DELETE', 'dbPath': '/2023.05.18/'}],\n",
       " 'createdTimestamp': datetime.datetime(2023, 5, 18, 20, 20, 50, 15000, tzinfo=tzlocal()),\n",
       " 'activeFromTimestamp': datetime.datetime(2023, 5, 18, 20, 20, 51, 547000, tzinfo=tzlocal()),\n",
       " 'lastModifiedTimestamp': datetime.datetime(2023, 5, 18, 20, 20, 50, 15000, tzinfo=tzlocal()),\n",
       " 'status': 'COMPLETED'}"
      ]
     },
     "execution_count": 8,
     "metadata": {},
     "output_type": "execute_result"
    }
   ],
   "source": [
    "wait_for_changeset_status(client, ENV_ID, DB_NAME, changeset_id, show_wait=True)"
   ]
  },
  {
   "cell_type": "code",
   "execution_count": 9,
   "id": "d308bf8e-3fcf-4bd7-a8bd-6f7e8ebee864",
   "metadata": {},
   "outputs": [
    {
     "data": {
      "text/plain": [
       "{'ResponseMetadata': {'RequestId': '8806748b-5d74-48b2-8b61-a408b211efdd',\n",
       "  'HTTPStatusCode': 200,\n",
       "  'HTTPHeaders': {'content-type': 'application/json',\n",
       "   'content-length': '2',\n",
       "   'connection': 'keep-alive',\n",
       "   'date': 'Thu, 18 May 2023 20:21:03 GMT',\n",
       "   'x-amzn-requestid': '8806748b-5d74-48b2-8b61-a408b211efdd',\n",
       "   'x-amz-apigw-id': 'FIpLFEMuIAMFahg=',\n",
       "   'x-amzn-trace-id': 'Root=1-646688ad-051d1e502ef672584e861cb0',\n",
       "   'x-cache': 'Miss from cloudfront',\n",
       "   'via': '1.1 2b3c18475b2db8cebe637fe45982c61a.cloudfront.net (CloudFront)',\n",
       "   'x-amz-cf-pop': 'IAD55-P1',\n",
       "   'x-amz-cf-id': 'wGhuhhefCd_lB9mQ2IAvjUvNZKqDXSKp1K-7dtn-Gwi_GwaYmUFzyA=='},\n",
       "  'RetryAttempts': 0}}"
      ]
     },
     "execution_count": 9,
     "metadata": {},
     "output_type": "execute_result"
    }
   ],
   "source": [
    "DB_CONFIG=[{'databaseName': DB_NAME,\n",
    "   'cacheConfigurations': [{'cacheType': 'CACHE_1000', 'dbPaths': ['/']}],\n",
    "   'changesetId': changeset_id}]\n",
    "\n",
    "resp=client.update_kx_cluster_databases(environmentId=ENV_ID, clusterName=HDB_CLUSTER_NAME, databases=DB_CONFIG)\n",
    "resp"
   ]
  },
  {
   "cell_type": "code",
   "execution_count": 10,
   "id": "5021ce0a-6771-4eb5-aecf-b26cb9710d62",
   "metadata": {},
   "outputs": [
    {
     "name": "stdout",
     "output_type": "stream",
     "text": [
      "Cluster: HDB_basictickdb_20230517_b status is UPDATING, total wait 0 sec, waiting 30 sec ...\n",
      "Cluster: HDB_basictickdb_20230517_b status is UPDATING, total wait 30 sec, waiting 30 sec ...\n",
      "Cluster: HDB_basictickdb_20230517_b status is UPDATING, total wait 60 sec, waiting 30 sec ...\n",
      "Cluster: HDB_basictickdb_20230517_b status is UPDATING, total wait 90 sec, waiting 30 sec ...\n",
      "Cluster: HDB_basictickdb_20230517_b status is UPDATING, total wait 120 sec, waiting 30 sec ...\n",
      "Cluster: HDB_basictickdb_20230517_b status is UPDATING, total wait 150 sec, waiting 30 sec ...\n",
      "Cluster: HDB_basictickdb_20230517_b status is UPDATING, total wait 180 sec, waiting 30 sec ...\n",
      "Cluster: HDB_basictickdb_20230517_b status is UPDATING, total wait 210 sec, waiting 30 sec ...\n",
      "Cluster: HDB_basictickdb_20230517_b status is UPDATING, total wait 240 sec, waiting 30 sec ...\n",
      "Cluster: HDB_basictickdb_20230517_b status is UPDATING, total wait 270 sec, waiting 30 sec ...\n",
      "Cluster: HDB_basictickdb_20230517_b status is UPDATING, total wait 300 sec, waiting 30 sec ...\n",
      "Cluster: HDB_basictickdb_20230517_b status is UPDATING, total wait 330 sec, waiting 30 sec ...\n",
      "Cluster: HDB_basictickdb_20230517_b status is UPDATING, total wait 360 sec, waiting 30 sec ...\n",
      "Cluster: HDB_basictickdb_20230517_b status is UPDATING, total wait 390 sec, waiting 30 sec ...\n",
      "Cluster: HDB_basictickdb_20230517_b status is UPDATING, total wait 420 sec, waiting 30 sec ...\n",
      "Cluster: HDB_basictickdb_20230517_b status is UPDATING, total wait 450 sec, waiting 30 sec ...\n",
      "Cluster: HDB_basictickdb_20230517_b status is UPDATING, total wait 480 sec, waiting 30 sec ...\n",
      "Cluster: HDB_basictickdb_20230517_b status is UPDATING, total wait 510 sec, waiting 30 sec ...\n",
      "Cluster: HDB_basictickdb_20230517_b status is UPDATING, total wait 540 sec, waiting 30 sec ...\n",
      "Cluster: HDB_basictickdb_20230517_b status is UPDATING, total wait 570 sec, waiting 30 sec ...\n",
      "Cluster: HDB_basictickdb_20230517_b status is UPDATING, total wait 600 sec, waiting 30 sec ...\n",
      "Cluster: HDB_basictickdb_20230517_b status is UPDATING, total wait 630 sec, waiting 30 sec ...\n",
      "Cluster: HDB_basictickdb_20230517_b status is UPDATING, total wait 660 sec, waiting 30 sec ...\n",
      "Cluster: HDB_basictickdb_20230517_b status is now RUNNING, total wait 690 sec\n"
     ]
    },
    {
     "data": {
      "text/plain": [
       "{'status': 'RUNNING',\n",
       " 'clusterName': 'HDB_basictickdb_20230517_b',\n",
       " 'clusterType': 'HDB',\n",
       " 'port': 5000,\n",
       " 'databases': [{'databaseName': 'basictickdb',\n",
       "   'cacheConfigurations': [{'cacheType': 'CACHE_1000', 'dbPaths': ['/']}],\n",
       "   'changesetId': 'XMQYQtxvGvGI3XfsfAvfuw'}],\n",
       " 'cacheStorageConfigurations': [{'type': 'CACHE_1000', 'size': 1200}],\n",
       " 'clusterDescription': 'Created with create_HDB for basic_tick notebook',\n",
       " 'capacityConfiguration': {'nodeType': 'kx.s.2xlarge', 'nodeCount': 3},\n",
       " 'releaseLabel': '1.0',\n",
       " 'vpcConfiguration': {'vpcId': 'vpc-0e702dec545865b11',\n",
       "  'securityGroupIds': ['sg-018111774e795682d'],\n",
       "  'subnetIds': ['subnet-05aa17ae202337a4e'],\n",
       "  'ipAddressType': 'IP_V4'},\n",
       " 'initializationScript': 'basictick/hdbmkdb.q',\n",
       " 'commandLineArguments': [{'key': 's', 'value': '8'},\n",
       "  {'key': 'dbdir', 'value': 'basictickdb'},\n",
       "  {'key': 'codedir', 'value': 'basictick'}],\n",
       " 'code': {'s3Bucket': 'kdb-demo-612841383594', 's3Key': 'code/basictick.zip'},\n",
       " 'lastModifiedTimestamp': datetime.datetime(2023, 5, 18, 10, 56, 32, 992000, tzinfo=tzlocal()),\n",
       " 'azMode': 'SINGLE',\n",
       " 'availabilityZoneId': 'use1-az2',\n",
       " 'createdTimestamp': datetime.datetime(2023, 5, 18, 10, 56, 32, 992000, tzinfo=tzlocal())}"
      ]
     },
     "execution_count": 10,
     "metadata": {},
     "output_type": "execute_result"
    }
   ],
   "source": [
    "wait_for_cluster_status(client, environmentId=ENV_ID, clusterName=HDB_CLUSTER_NAME, show_wait=True)"
   ]
  },
  {
   "cell_type": "markdown",
   "id": "600173b9-6e31-4d24-aeda-c99fd8b236bd",
   "metadata": {},
   "source": [
    "# Show Updated HDB\n",
    "You can now return to the create_EOD_changset or query_HDB_updated notebooks to query the HDB after the update.\n",
    "\n",
    "- [create_EOD_changeset](create_EOD_changeset.ipynb)\n",
    "- [query_HDB_updated](query_HDB_updated.ipynb)"
   ]
  },
  {
   "cell_type": "code",
   "execution_count": 11,
   "id": "b419d15a-08f6-4c90-bbfc-5f2e5433c9c2",
   "metadata": {},
   "outputs": [
    {
     "name": "stdout",
     "output_type": "stream",
     "text": [
      "Last Run: 2023-05-18 20:32:42.484481\n"
     ]
    }
   ],
   "source": [
    "print( f\"Last Run: {datetime.datetime.now()}\" )"
   ]
  },
  {
   "cell_type": "code",
   "execution_count": null,
   "id": "b2292bc6-6089-4fcc-8665-5d02438cd96c",
   "metadata": {},
   "outputs": [],
   "source": []
  }
 ],
 "metadata": {
  "kernelspec": {
   "display_name": "Python 3 (ipykernel)",
   "language": "python",
   "name": "python3"
  },
  "language_info": {
   "codemirror_mode": {
    "name": "ipython",
    "version": 3
   },
   "file_extension": ".py",
   "mimetype": "text/x-python",
   "name": "python",
   "nbconvert_exporter": "python",
   "pygments_lexer": "ipython3",
   "version": "3.9.12"
  }
 },
 "nbformat": 4,
 "nbformat_minor": 5
}
