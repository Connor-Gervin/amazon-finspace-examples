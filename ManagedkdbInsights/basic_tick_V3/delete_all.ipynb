{
 "cells": [
  {
   "cell_type": "markdown",
   "id": "28bea13b-67bd-4a0e-8eab-3b8ffd37259e",
   "metadata": {},
   "source": [
    "# BasicTick: Delete Everything\n"
   ]
  },
  {
   "cell_type": "code",
   "execution_count": 1,
   "id": "0d5f1d4a-ed45-44e3-bf75-9bdb75fcddbb",
   "metadata": {},
   "outputs": [],
   "source": [
    "import os\n",
    "import subprocess\n",
    "import boto3\n",
    "import json\n",
    "import datetime\n",
    "\n",
    "from managed_kx import *\n",
    "from env import *\n",
    "import pykx as kx\n",
    "\n",
    "# Cluster names and database\n",
    "from basictick_setup import *"
   ]
  },
  {
   "cell_type": "code",
   "execution_count": 2,
   "id": "3cfe7d89-9f5d-4ceb-ac8c-1f5054a6f15a",
   "metadata": {},
   "outputs": [
    {
     "name": "stdout",
     "output_type": "stream",
     "text": [
      "Using variables ...\n"
     ]
    }
   ],
   "source": [
    "# triggers credential get\n",
    "session=None\n",
    "\n",
    "try:\n",
    "    # aws: use ada for credentials\n",
    "    os.system([\"which\", \"ada\"])\n",
    "    os.system(f\"ada credentials update --account={ACCOUNT_ID} --provider=isengard --role=Admin --once\")\n",
    "except: \n",
    "    None\n",
    "\n",
    "if AWS_ACCESS_KEY_ID is None:\n",
    "    print(\"Using Defaults ...\")\n",
    "    # create AWS session: using access variables\n",
    "    session = boto3.Session()\n",
    "else:\n",
    "    print(\"Using variables ...\")\n",
    "    session = boto3.Session(\n",
    "        aws_access_key_id=AWS_ACCESS_KEY_ID,\n",
    "        aws_secret_access_key=AWS_SECRET_ACCESS_KEY,\n",
    "        aws_session_token=AWS_SESSION_TOKEN\n",
    "    )\n",
    "\n",
    "# create finspace client\n",
    "client = session.client(service_name='finspace', endpoint_url=ENDPOINT_URL)"
   ]
  },
  {
   "cell_type": "markdown",
   "id": "eeaeb9f8-d4ce-4a8a-b367-4a86a9dae6a6",
   "metadata": {},
   "source": [
    "## Delete all resources\n",
    "\n",
    "### Killing FeedHandler\n",
    "You can connect to the running feedhandler and have it exit.\n",
    "\n",
    "```\n",
    "$ q\n",
    "q)c:hopen \":localhost:5030\"\n",
    "q)c \"exit 0\"\n",
    "```\n",
    "\n",
    "Below we do the equivalent from Python"
   ]
  },
  {
   "cell_type": "code",
   "execution_count": 3,
   "id": "dd0b0fc2-83ca-402a-bb33-09834a9cbe76",
   "metadata": {},
   "outputs": [
    {
     "name": "stdout",
     "output_type": "stream",
     "text": [
      "Stopping local FeedHandler ...\n",
      "An exception occurred, already stopped\n",
      "Deleting Clusters...\n",
      "\tDelete: TP_basictickdb\n",
      "\tDeleted: TP_basictickdb\n",
      "\tDelete: RDB_basictickdb\n",
      "\tDeleted: RDB_basictickdb\n",
      "\tDelete: HDB_basictickdb\n",
      "\tDeleted: HDB_basictickdb\n",
      "\tDelete: GATEWAY_basictickdb\n",
      "\tAlready Deleted? GATEWAY_basictickdb\n",
      "\tDelete: CALC_basictickdb\n",
      "\tDeleted: CALC_basictickdb\n",
      "** Deleted Clusters **\n"
     ]
    }
   ],
   "source": [
    "print(\"Stopping local FeedHandler ...\")\n",
    "\n",
    "# Stop the FeedHandler\n",
    "try:\n",
    "  fh=kx.QConnection(port=FH_PORT)\n",
    "  fh(\"exit 0\") \n",
    "  print(\"Stopped\")\n",
    "except:\n",
    "  print(\"An exception occurred, already stopped\")\n",
    "\n",
    "print(\"Deleting Clusters...\")\n",
    "\n",
    "# Clusters\n",
    "for k,v in all_clusters.items():\n",
    "    print(f\"\\tDelete: {v}\")\n",
    "    try:\n",
    "        client.delete_kx_cluster(environmentId=ENV_ID, clusterName=v)\n",
    "        print(f\"\\tDeleted: {v}\")\n",
    "    except:\n",
    "        print(f\"\\tAlready Deleted? {v}\")\n",
    "        next\n",
    "\n",
    "print(\"** Deleted Clusters **\")\n"
   ]
  },
  {
   "cell_type": "code",
   "execution_count": 4,
   "id": "f94299f9",
   "metadata": {},
   "outputs": [
    {
     "name": "stdout",
     "output_type": "stream",
     "text": [
      "Deleting Dataview: basictickdb_DBVIEW...\n",
      "Dataview: basictickdb_DBVIEW status is DELETING, total wait 0:00:00, waiting 30 sec ...\n",
      "Dataview: basictickdb_DBVIEW status is DELETING, total wait 0:00:30, waiting 30 sec ...\n",
      "Dataview: basictickdb_DBVIEW status is DELETING, total wait 0:01:00, waiting 30 sec ...\n",
      "Dataview: basictickdb_DBVIEW status is DELETING, total wait 0:01:30, waiting 30 sec ...\n",
      "Dataview: basictickdb_DBVIEW status is DELETING, total wait 0:02:00, waiting 30 sec ...\n",
      "Dataview: basictickdb_DBVIEW status is DELETING, total wait 0:02:30, waiting 30 sec ...\n",
      "Dataview: basictickdb_DBVIEW status is DELETING, total wait 0:03:00, waiting 30 sec ...\n",
      "Dataview: basictickdb_DBVIEW status is DELETING, total wait 0:03:30, waiting 30 sec ...\n",
      "Dataview: basictickdb_DBVIEW status is DELETING, total wait 0:04:00, waiting 30 sec ...\n",
      "Dataview: basictickdb_DBVIEW status is DELETING, total wait 0:04:30, waiting 30 sec ...\n",
      "Dataview: basictickdb_DBVIEW status is DELETING, total wait 0:05:00, waiting 30 sec ...\n",
      "Dataview: basictickdb_DBVIEW status is DELETING, total wait 0:05:30, waiting 30 sec ...\n",
      "Dataview: basictickdb_DBVIEW status is DELETING, total wait 0:06:00, waiting 30 sec ...\n",
      "Dataview: basictickdb_DBVIEW status is DELETING, total wait 0:06:30, waiting 30 sec ...\n",
      "** Deleted View **\n",
      "Deleting Volume: RDB_TP_SHARED...\n",
      "** Deleted Volume **\n",
      "Deleting Scaling Group: SCALING_GROUP_basictickdb...\n",
      "** Deleted Scaling Group **\n",
      "Deleting Database: basictickdb...\n",
      "** Deleted Database **\n",
      "\n",
      "Done Deleting\n"
     ]
    }
   ],
   "source": [
    "# Dataview\n",
    "print(f\"Deleting Dataview: {DBVIEW_NAME}...\")\n",
    "try:\n",
    "    client.delete_kx_dataview(environmentId=ENV_ID, databaseName=DB_NAME, dataviewName=DBVIEW_NAME)\n",
    "    wait_for_dataview_status(client=client, environmentId=ENV_ID, databaseName=DB_NAME, dataviewName=DBVIEW_NAME, status='DELETED', show_wait=True)\n",
    "    print(\"** Deleted View **\")\n",
    "except:\n",
    "    pass\n",
    "\n",
    "# Volume\n",
    "print(f\"Deleting Volume: {VOLUME_NAME}...\")\n",
    "try:\n",
    "    client.delete_kx_volume(environmentId=ENV_ID, volumeName=VOLUME_NAME)\n",
    "    wait_for_volume_status(client=client, environmentId=ENV_ID, volumeName=VOLUME_NAME, status='DELETED', show_wait=True)\n",
    "    print(\"** Deleted Volume **\")\n",
    "except:\n",
    "    print(f\"Already Deleted? {VOLUME_NAME}...\")\n",
    "    pass\n",
    "\n",
    "# Scaling Group\n",
    "print(f\"Deleting Scaling Group: {SCALING_GROUP_NAME}...\")\n",
    "try:\n",
    "    client.delete_kx_scaling_group(environmentId=ENV_ID, scalingGroupName = SCALING_GROUP_NAME)\n",
    "    wait_for_scaling_group_status(client=client, environmentId=ENV_ID, scalingGroupName = SCALING_GROUP_NAME, status='DELETED', show_wait=True)\n",
    "    print(\"** Deleted Scaling Group **\")\n",
    "except:\n",
    "    print(f\"Already Deleted? {SCALING_GROUP_NAME}...\")\n",
    "    pass\n",
    "\n",
    "# database\n",
    "print(f\"Deleting Database: {DB_NAME}...\")\n",
    "try:\n",
    "    client.delete_kx_database(environmentId=ENV_ID, databaseName=DB_NAME)    \n",
    "    print(\"** Deleted Database **\")\n",
    "except:\n",
    "    pass\n",
    "\n",
    "print(\"\\nDone Deleting\")"
   ]
  },
  {
   "cell_type": "code",
   "execution_count": 5,
   "id": "86f33240-bb12-49f3-8d9c-5783c25eb182",
   "metadata": {},
   "outputs": [
    {
     "name": "stdout",
     "output_type": "stream",
     "text": [
      "Last Run: 2024-04-17 12:54:31.757770\n"
     ]
    }
   ],
   "source": [
    "print( f\"Last Run: {datetime.datetime.now()}\" )"
   ]
  },
  {
   "cell_type": "code",
   "execution_count": null,
   "id": "e4f0d8e3-7a79-4f5d-b68b-c7e5b44c6685",
   "metadata": {
    "tags": []
   },
   "outputs": [],
   "source": []
  }
 ],
 "metadata": {
  "kernelspec": {
   "display_name": "Python (PyKX)",
   "language": "python",
   "name": "finspace-latest"
  },
  "language_info": {
   "codemirror_mode": {
    "name": "ipython",
    "version": 3
   },
   "file_extension": ".py",
   "mimetype": "text/x-python",
   "name": "python",
   "nbconvert_exporter": "python",
   "pygments_lexer": "ipython3",
   "version": "3.11.0"
  }
 },
 "nbformat": 4,
 "nbformat_minor": 5
}
