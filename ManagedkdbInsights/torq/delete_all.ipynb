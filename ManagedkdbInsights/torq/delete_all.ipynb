{
 "cells": [
  {
   "cell_type": "markdown",
   "id": "28bea13b-67bd-4a0e-8eab-3b8ffd37259e",
   "metadata": {},
   "source": [
    "# TorQ: Delete Everything\n"
   ]
  },
  {
   "cell_type": "code",
   "execution_count": 1,
   "id": "0d5f1d4a-ed45-44e3-bf75-9bdb75fcddbb",
   "metadata": {},
   "outputs": [],
   "source": [
    "import os\n",
    "import subprocess\n",
    "import boto3\n",
    "import json\n",
    "import datetime\n",
    "\n",
    "import pykx as kx\n",
    "\n",
    "from managed_kx import *\n",
    "from env import *\n",
    "\n",
    "# Cluster names and database\n",
    "from clusters import *\n",
    "\n",
    "SCALING_GROUP_NAME=\"SCALING_GROUP_torq\"\n",
    "\n",
    "VOLUME_NAME=\"SHARED_torq\"\n",
    "\n",
    "# Managed KX Databases\n",
    "DB_NAME=\"finspace-database\"\n",
    "\n",
    "DBVIEW_NAME=f\"{DB_NAME}_DBVIEW\""
   ]
  },
  {
   "cell_type": "code",
   "execution_count": 2,
   "id": "3cfe7d89-9f5d-4ceb-ac8c-1f5054a6f15a",
   "metadata": {},
   "outputs": [
    {
     "name": "stdout",
     "output_type": "stream",
     "text": [
      "Using variables ...\n"
     ]
    }
   ],
   "source": [
    "# triggers credential get\n",
    "session=None\n",
    "\n",
    "if AWS_ACCESS_KEY_ID is None:\n",
    "    print(\"Using Defaults ...\")\n",
    "    # create AWS session: using access variables\n",
    "    session = boto3.Session()\n",
    "else:\n",
    "    print(\"Using variables ...\")\n",
    "    session = boto3.Session(\n",
    "        aws_access_key_id=AWS_ACCESS_KEY_ID,\n",
    "        aws_secret_access_key=AWS_SECRET_ACCESS_KEY,\n",
    "        aws_session_token=AWS_SESSION_TOKEN\n",
    "    )\n",
    "\n",
    "# create finspace client\n",
    "client = session.client(service_name='finspace', endpoint_url=ENDPOINT_URL)"
   ]
  },
  {
   "cell_type": "markdown",
   "id": "eeaeb9f8-d4ce-4a8a-b367-4a86a9dae6a6",
   "metadata": {},
   "source": [
    "## Delete all resources"
   ]
  },
  {
   "cell_type": "code",
   "execution_count": 3,
   "id": "dd0b0fc2-83ca-402a-bb33-09834a9cbe76",
   "metadata": {},
   "outputs": [
    {
     "name": "stdout",
     "output_type": "stream",
     "text": [
      "Deleting Clusters...\n",
      "\tDelete: discovery\n",
      "\tDeleted: discovery\n",
      "\tDelete: rdb\n",
      "\tDeleted: rdb\n",
      "\tDelete: hdb\n",
      "\tDeleted: hdb\n",
      "\tDelete: discovery\n",
      "\tAlready Deleted? discovery\n",
      "\tDelete: rdb\n",
      "\tAlready Deleted? rdb\n",
      "\tDelete: gateway\n",
      "\tDeleted: gateway\n",
      "\tDelete: feed\n",
      "\tDeleted: feed\n",
      "** Deleted Clusters **\n",
      "Deleting Dataview: finspace-database_DBVIEW...\n",
      "Dataview: finspace-database_DBVIEW status is DELETING, total wait 0:00:00, waiting 30 sec ...\n",
      "Dataview: finspace-database_DBVIEW status is DELETING, total wait 0:00:30, waiting 30 sec ...\n",
      "Dataview: finspace-database_DBVIEW status is DELETING, total wait 0:01:00, waiting 30 sec ...\n",
      "Dataview: finspace-database_DBVIEW status is DELETING, total wait 0:01:30, waiting 30 sec ...\n",
      "Dataview: finspace-database_DBVIEW status is DELETING, total wait 0:02:00, waiting 30 sec ...\n",
      "** Deleted View **\n",
      "Deleting Volume: SHARED_torq...\n",
      "** Deleted Volume **\n",
      "Deleting Scaling Group: SCALING_GROUP_torq...\n",
      "** Deleted Scaling Group **\n",
      "Deleting Database: finspace-database...\n",
      "** Deleted Database **\n",
      "\n",
      "Done Deleting\n"
     ]
    }
   ],
   "source": [
    "print(\"Deleting Clusters...\")\n",
    "\n",
    "cdf = get_clusters(client, environmentId=ENV_ID)\n",
    "\n",
    "all_clusters = [d['name'] for d in clusters if 'name' in d]\n",
    "   \n",
    "# Clusters\n",
    "for c in all_clusters:\n",
    "    print(f\"\\tDelete: {c}\")\n",
    "    try:\n",
    "        client.delete_kx_cluster(environmentId=ENV_ID, clusterName=c)\n",
    "        print(f\"\\tDeleted: {c}\")\n",
    "    except:\n",
    "        print(f\"\\tAlready Deleted? {c}\")\n",
    "        next\n",
    "\n",
    "print(\"** Deleted Clusters **\")\n",
    "\n",
    "# Dataview\n",
    "print(f\"Deleting Dataview: {DBVIEW_NAME}...\")\n",
    "try:\n",
    "    client.delete_kx_dataview(environmentId=ENV_ID, databaseName=DB_NAME, dataviewName=DBVIEW_NAME)\n",
    "    wait_for_dataview_status(client=client, environmentId=ENV_ID, databaseName=DB_NAME, dataviewName=DBVIEW_NAME, status='DELETED', show_wait=True)\n",
    "    print(\"** Deleted View **\")\n",
    "except:\n",
    "    pass\n",
    "\n",
    "# Volume\n",
    "print(f\"Deleting Volume: {VOLUME_NAME}...\")\n",
    "try:\n",
    "    client.delete_kx_volume(environmentId=ENV_ID, volumeName=VOLUME_NAME)\n",
    "    wait_for_volume_status(client=client, environmentId=ENV_ID, volumeName=VOLUME_NAME, status='DELETED', show_wait=True)\n",
    "    print(\"** Deleted Volume **\")\n",
    "except:\n",
    "    print(f\"Already Deleted? {VOLUME_NAME}...\")\n",
    "    pass\n",
    "\n",
    "# Scaling Group\n",
    "print(f\"Deleting Scaling Group: {SCALING_GROUP_NAME}...\")\n",
    "try:\n",
    "    client.delete_kx_scaling_group(environmentId=ENV_ID, scalingGroupName = SCALING_GROUP_NAME)\n",
    "    wait_for_scaling_group_status(client=client, environmentId=ENV_ID, scalingGroupName = SCALING_GROUP_NAME, status='DELETED', show_wait=True)\n",
    "    print(\"** Deleted Scaling Group **\")\n",
    "except:\n",
    "    print(f\"Already Deleted? {SCALING_GROUP_NAME}...\")\n",
    "    pass\n",
    "\n",
    "# database\n",
    "print(f\"Deleting Database: {DB_NAME}...\")\n",
    "try:\n",
    "    client.delete_kx_database(environmentId=ENV_ID, databaseName=DB_NAME)    \n",
    "    print(\"** Deleted Database **\")\n",
    "except:\n",
    "    pass\n",
    "\n",
    "print(\"\\nDone Deleting\")"
   ]
  },
  {
   "cell_type": "code",
   "execution_count": 4,
   "id": "86f33240-bb12-49f3-8d9c-5783c25eb182",
   "metadata": {},
   "outputs": [
    {
     "name": "stdout",
     "output_type": "stream",
     "text": [
      "Last Run: 2024-03-01 20:37:15.962614\n"
     ]
    }
   ],
   "source": [
    "print( f\"Last Run: {datetime.datetime.now()}\" )"
   ]
  },
  {
   "cell_type": "code",
   "execution_count": null,
   "id": "e4f0d8e3-7a79-4f5d-b68b-c7e5b44c6685",
   "metadata": {
    "tags": []
   },
   "outputs": [],
   "source": []
  }
 ],
 "metadata": {
  "kernelspec": {
   "display_name": "Python 3 (ipykernel)",
   "language": "python",
   "name": "python3"
  },
  "language_info": {
   "codemirror_mode": {
    "name": "ipython",
    "version": 3
   },
   "file_extension": ".py",
   "mimetype": "text/x-python",
   "name": "python",
   "nbconvert_exporter": "python",
   "pygments_lexer": "ipython3",
   "version": "3.9.12"
  }
 },
 "nbformat": 4,
 "nbformat_minor": 5
}
